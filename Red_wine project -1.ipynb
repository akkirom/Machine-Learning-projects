{
 "cells": [
  {
   "cell_type": "code",
   "execution_count": 19,
   "id": "52be5a90",
   "metadata": {},
   "outputs": [],
   "source": [
    "import numpy as np\n",
    "import pandas as pd\n",
    "import scipy\n",
    "import matplotlib.pyplot as plt\n",
    "import seaborn as sns\n",
    "import sklearn\n",
    "\n",
    "from sklearn.linear_model import LinearRegression,LogisticRegression,Ridge,Lasso,ElasticNet\n",
    "from sklearn.model_selection import train_test_split,cross_val_score\n",
    "from sklearn.metrics import mean_squared_error,mean_absolute_error,accuracy_score,confusion_matrix,classification_report\n",
    "from sklearn.tree import DecisionTreeClassifier\n",
    "from sklearn.naive_bayes import GaussianNB,MultinomialNB\n",
    "from sklearn.neighbors import KNeighborsClassifier\n",
    "from sklearn.svm import SVC\n",
    "\n",
    "import warnings\n",
    "warnings.filterwarnings('ignore')\n"
   ]
  },
  {
   "cell_type": "code",
   "execution_count": 20,
   "id": "43f0159e",
   "metadata": {},
   "outputs": [],
   "source": [
    "data=pd.read_csv(\"Red_wine.csv\")"
   ]
  },
  {
   "cell_type": "code",
   "execution_count": 21,
   "id": "81d32805",
   "metadata": {},
   "outputs": [
    {
     "data": {
      "text/html": [
       "<div>\n",
       "<style scoped>\n",
       "    .dataframe tbody tr th:only-of-type {\n",
       "        vertical-align: middle;\n",
       "    }\n",
       "\n",
       "    .dataframe tbody tr th {\n",
       "        vertical-align: top;\n",
       "    }\n",
       "\n",
       "    .dataframe thead th {\n",
       "        text-align: right;\n",
       "    }\n",
       "</style>\n",
       "<table border=\"1\" class=\"dataframe\">\n",
       "  <thead>\n",
       "    <tr style=\"text-align: right;\">\n",
       "      <th></th>\n",
       "      <th>fixed acidity</th>\n",
       "      <th>volatile acidity</th>\n",
       "      <th>citric acid</th>\n",
       "      <th>residual sugar</th>\n",
       "      <th>chlorides</th>\n",
       "      <th>free sulfur dioxide</th>\n",
       "      <th>total sulfur dioxide</th>\n",
       "      <th>density</th>\n",
       "      <th>pH</th>\n",
       "      <th>sulphates</th>\n",
       "      <th>alcohol</th>\n",
       "      <th>quality</th>\n",
       "    </tr>\n",
       "  </thead>\n",
       "  <tbody>\n",
       "    <tr>\n",
       "      <th>0</th>\n",
       "      <td>7.4</td>\n",
       "      <td>0.700</td>\n",
       "      <td>0.00</td>\n",
       "      <td>1.9</td>\n",
       "      <td>0.076</td>\n",
       "      <td>11.0</td>\n",
       "      <td>34.0</td>\n",
       "      <td>0.99780</td>\n",
       "      <td>3.51</td>\n",
       "      <td>0.56</td>\n",
       "      <td>9.4</td>\n",
       "      <td>5</td>\n",
       "    </tr>\n",
       "    <tr>\n",
       "      <th>1</th>\n",
       "      <td>7.8</td>\n",
       "      <td>0.880</td>\n",
       "      <td>0.00</td>\n",
       "      <td>2.6</td>\n",
       "      <td>0.098</td>\n",
       "      <td>25.0</td>\n",
       "      <td>67.0</td>\n",
       "      <td>0.99680</td>\n",
       "      <td>3.20</td>\n",
       "      <td>0.68</td>\n",
       "      <td>9.8</td>\n",
       "      <td>5</td>\n",
       "    </tr>\n",
       "    <tr>\n",
       "      <th>2</th>\n",
       "      <td>7.8</td>\n",
       "      <td>0.760</td>\n",
       "      <td>0.04</td>\n",
       "      <td>2.3</td>\n",
       "      <td>0.092</td>\n",
       "      <td>15.0</td>\n",
       "      <td>54.0</td>\n",
       "      <td>0.99700</td>\n",
       "      <td>3.26</td>\n",
       "      <td>0.65</td>\n",
       "      <td>9.8</td>\n",
       "      <td>5</td>\n",
       "    </tr>\n",
       "    <tr>\n",
       "      <th>3</th>\n",
       "      <td>11.2</td>\n",
       "      <td>0.280</td>\n",
       "      <td>0.56</td>\n",
       "      <td>1.9</td>\n",
       "      <td>0.075</td>\n",
       "      <td>17.0</td>\n",
       "      <td>60.0</td>\n",
       "      <td>0.99800</td>\n",
       "      <td>3.16</td>\n",
       "      <td>0.58</td>\n",
       "      <td>9.8</td>\n",
       "      <td>6</td>\n",
       "    </tr>\n",
       "    <tr>\n",
       "      <th>4</th>\n",
       "      <td>7.4</td>\n",
       "      <td>0.700</td>\n",
       "      <td>0.00</td>\n",
       "      <td>1.9</td>\n",
       "      <td>0.076</td>\n",
       "      <td>11.0</td>\n",
       "      <td>34.0</td>\n",
       "      <td>0.99780</td>\n",
       "      <td>3.51</td>\n",
       "      <td>0.56</td>\n",
       "      <td>9.4</td>\n",
       "      <td>5</td>\n",
       "    </tr>\n",
       "    <tr>\n",
       "      <th>...</th>\n",
       "      <td>...</td>\n",
       "      <td>...</td>\n",
       "      <td>...</td>\n",
       "      <td>...</td>\n",
       "      <td>...</td>\n",
       "      <td>...</td>\n",
       "      <td>...</td>\n",
       "      <td>...</td>\n",
       "      <td>...</td>\n",
       "      <td>...</td>\n",
       "      <td>...</td>\n",
       "      <td>...</td>\n",
       "    </tr>\n",
       "    <tr>\n",
       "      <th>1594</th>\n",
       "      <td>6.2</td>\n",
       "      <td>0.600</td>\n",
       "      <td>0.08</td>\n",
       "      <td>2.0</td>\n",
       "      <td>0.090</td>\n",
       "      <td>32.0</td>\n",
       "      <td>44.0</td>\n",
       "      <td>0.99490</td>\n",
       "      <td>3.45</td>\n",
       "      <td>0.58</td>\n",
       "      <td>10.5</td>\n",
       "      <td>5</td>\n",
       "    </tr>\n",
       "    <tr>\n",
       "      <th>1595</th>\n",
       "      <td>5.9</td>\n",
       "      <td>0.550</td>\n",
       "      <td>0.10</td>\n",
       "      <td>2.2</td>\n",
       "      <td>0.062</td>\n",
       "      <td>39.0</td>\n",
       "      <td>51.0</td>\n",
       "      <td>0.99512</td>\n",
       "      <td>3.52</td>\n",
       "      <td>0.76</td>\n",
       "      <td>11.2</td>\n",
       "      <td>6</td>\n",
       "    </tr>\n",
       "    <tr>\n",
       "      <th>1596</th>\n",
       "      <td>6.3</td>\n",
       "      <td>0.510</td>\n",
       "      <td>0.13</td>\n",
       "      <td>2.3</td>\n",
       "      <td>0.076</td>\n",
       "      <td>29.0</td>\n",
       "      <td>40.0</td>\n",
       "      <td>0.99574</td>\n",
       "      <td>3.42</td>\n",
       "      <td>0.75</td>\n",
       "      <td>11.0</td>\n",
       "      <td>6</td>\n",
       "    </tr>\n",
       "    <tr>\n",
       "      <th>1597</th>\n",
       "      <td>5.9</td>\n",
       "      <td>0.645</td>\n",
       "      <td>0.12</td>\n",
       "      <td>2.0</td>\n",
       "      <td>0.075</td>\n",
       "      <td>32.0</td>\n",
       "      <td>44.0</td>\n",
       "      <td>0.99547</td>\n",
       "      <td>3.57</td>\n",
       "      <td>0.71</td>\n",
       "      <td>10.2</td>\n",
       "      <td>5</td>\n",
       "    </tr>\n",
       "    <tr>\n",
       "      <th>1598</th>\n",
       "      <td>6.0</td>\n",
       "      <td>0.310</td>\n",
       "      <td>0.47</td>\n",
       "      <td>3.6</td>\n",
       "      <td>0.067</td>\n",
       "      <td>18.0</td>\n",
       "      <td>42.0</td>\n",
       "      <td>0.99549</td>\n",
       "      <td>3.39</td>\n",
       "      <td>0.66</td>\n",
       "      <td>11.0</td>\n",
       "      <td>6</td>\n",
       "    </tr>\n",
       "  </tbody>\n",
       "</table>\n",
       "<p>1599 rows × 12 columns</p>\n",
       "</div>"
      ],
      "text/plain": [
       "      fixed acidity  volatile acidity  citric acid  residual sugar  chlorides  \\\n",
       "0               7.4             0.700         0.00             1.9      0.076   \n",
       "1               7.8             0.880         0.00             2.6      0.098   \n",
       "2               7.8             0.760         0.04             2.3      0.092   \n",
       "3              11.2             0.280         0.56             1.9      0.075   \n",
       "4               7.4             0.700         0.00             1.9      0.076   \n",
       "...             ...               ...          ...             ...        ...   \n",
       "1594            6.2             0.600         0.08             2.0      0.090   \n",
       "1595            5.9             0.550         0.10             2.2      0.062   \n",
       "1596            6.3             0.510         0.13             2.3      0.076   \n",
       "1597            5.9             0.645         0.12             2.0      0.075   \n",
       "1598            6.0             0.310         0.47             3.6      0.067   \n",
       "\n",
       "      free sulfur dioxide  total sulfur dioxide  density    pH  sulphates  \\\n",
       "0                    11.0                  34.0  0.99780  3.51       0.56   \n",
       "1                    25.0                  67.0  0.99680  3.20       0.68   \n",
       "2                    15.0                  54.0  0.99700  3.26       0.65   \n",
       "3                    17.0                  60.0  0.99800  3.16       0.58   \n",
       "4                    11.0                  34.0  0.99780  3.51       0.56   \n",
       "...                   ...                   ...      ...   ...        ...   \n",
       "1594                 32.0                  44.0  0.99490  3.45       0.58   \n",
       "1595                 39.0                  51.0  0.99512  3.52       0.76   \n",
       "1596                 29.0                  40.0  0.99574  3.42       0.75   \n",
       "1597                 32.0                  44.0  0.99547  3.57       0.71   \n",
       "1598                 18.0                  42.0  0.99549  3.39       0.66   \n",
       "\n",
       "      alcohol  quality  \n",
       "0         9.4        5  \n",
       "1         9.8        5  \n",
       "2         9.8        5  \n",
       "3         9.8        6  \n",
       "4         9.4        5  \n",
       "...       ...      ...  \n",
       "1594     10.5        5  \n",
       "1595     11.2        6  \n",
       "1596     11.0        6  \n",
       "1597     10.2        5  \n",
       "1598     11.0        6  \n",
       "\n",
       "[1599 rows x 12 columns]"
      ]
     },
     "execution_count": 21,
     "metadata": {},
     "output_type": "execute_result"
    }
   ],
   "source": [
    "data"
   ]
  },
  {
   "cell_type": "code",
   "execution_count": 22,
   "id": "617633be",
   "metadata": {},
   "outputs": [],
   "source": [
    "df=pd.DataFrame(data=data)"
   ]
  },
  {
   "cell_type": "code",
   "execution_count": 23,
   "id": "fffc3b2c",
   "metadata": {},
   "outputs": [
    {
     "data": {
      "text/html": [
       "<div>\n",
       "<style scoped>\n",
       "    .dataframe tbody tr th:only-of-type {\n",
       "        vertical-align: middle;\n",
       "    }\n",
       "\n",
       "    .dataframe tbody tr th {\n",
       "        vertical-align: top;\n",
       "    }\n",
       "\n",
       "    .dataframe thead th {\n",
       "        text-align: right;\n",
       "    }\n",
       "</style>\n",
       "<table border=\"1\" class=\"dataframe\">\n",
       "  <thead>\n",
       "    <tr style=\"text-align: right;\">\n",
       "      <th></th>\n",
       "      <th>fixed acidity</th>\n",
       "      <th>volatile acidity</th>\n",
       "      <th>citric acid</th>\n",
       "      <th>residual sugar</th>\n",
       "      <th>chlorides</th>\n",
       "      <th>free sulfur dioxide</th>\n",
       "      <th>total sulfur dioxide</th>\n",
       "      <th>density</th>\n",
       "      <th>pH</th>\n",
       "      <th>sulphates</th>\n",
       "      <th>alcohol</th>\n",
       "      <th>quality</th>\n",
       "    </tr>\n",
       "  </thead>\n",
       "  <tbody>\n",
       "    <tr>\n",
       "      <th>0</th>\n",
       "      <td>7.4</td>\n",
       "      <td>0.70</td>\n",
       "      <td>0.00</td>\n",
       "      <td>1.9</td>\n",
       "      <td>0.076</td>\n",
       "      <td>11.0</td>\n",
       "      <td>34.0</td>\n",
       "      <td>0.9978</td>\n",
       "      <td>3.51</td>\n",
       "      <td>0.56</td>\n",
       "      <td>9.4</td>\n",
       "      <td>5</td>\n",
       "    </tr>\n",
       "    <tr>\n",
       "      <th>1</th>\n",
       "      <td>7.8</td>\n",
       "      <td>0.88</td>\n",
       "      <td>0.00</td>\n",
       "      <td>2.6</td>\n",
       "      <td>0.098</td>\n",
       "      <td>25.0</td>\n",
       "      <td>67.0</td>\n",
       "      <td>0.9968</td>\n",
       "      <td>3.20</td>\n",
       "      <td>0.68</td>\n",
       "      <td>9.8</td>\n",
       "      <td>5</td>\n",
       "    </tr>\n",
       "    <tr>\n",
       "      <th>2</th>\n",
       "      <td>7.8</td>\n",
       "      <td>0.76</td>\n",
       "      <td>0.04</td>\n",
       "      <td>2.3</td>\n",
       "      <td>0.092</td>\n",
       "      <td>15.0</td>\n",
       "      <td>54.0</td>\n",
       "      <td>0.9970</td>\n",
       "      <td>3.26</td>\n",
       "      <td>0.65</td>\n",
       "      <td>9.8</td>\n",
       "      <td>5</td>\n",
       "    </tr>\n",
       "    <tr>\n",
       "      <th>3</th>\n",
       "      <td>11.2</td>\n",
       "      <td>0.28</td>\n",
       "      <td>0.56</td>\n",
       "      <td>1.9</td>\n",
       "      <td>0.075</td>\n",
       "      <td>17.0</td>\n",
       "      <td>60.0</td>\n",
       "      <td>0.9980</td>\n",
       "      <td>3.16</td>\n",
       "      <td>0.58</td>\n",
       "      <td>9.8</td>\n",
       "      <td>6</td>\n",
       "    </tr>\n",
       "    <tr>\n",
       "      <th>4</th>\n",
       "      <td>7.4</td>\n",
       "      <td>0.70</td>\n",
       "      <td>0.00</td>\n",
       "      <td>1.9</td>\n",
       "      <td>0.076</td>\n",
       "      <td>11.0</td>\n",
       "      <td>34.0</td>\n",
       "      <td>0.9978</td>\n",
       "      <td>3.51</td>\n",
       "      <td>0.56</td>\n",
       "      <td>9.4</td>\n",
       "      <td>5</td>\n",
       "    </tr>\n",
       "  </tbody>\n",
       "</table>\n",
       "</div>"
      ],
      "text/plain": [
       "   fixed acidity  volatile acidity  citric acid  residual sugar  chlorides  \\\n",
       "0            7.4              0.70         0.00             1.9      0.076   \n",
       "1            7.8              0.88         0.00             2.6      0.098   \n",
       "2            7.8              0.76         0.04             2.3      0.092   \n",
       "3           11.2              0.28         0.56             1.9      0.075   \n",
       "4            7.4              0.70         0.00             1.9      0.076   \n",
       "\n",
       "   free sulfur dioxide  total sulfur dioxide  density    pH  sulphates  \\\n",
       "0                 11.0                  34.0   0.9978  3.51       0.56   \n",
       "1                 25.0                  67.0   0.9968  3.20       0.68   \n",
       "2                 15.0                  54.0   0.9970  3.26       0.65   \n",
       "3                 17.0                  60.0   0.9980  3.16       0.58   \n",
       "4                 11.0                  34.0   0.9978  3.51       0.56   \n",
       "\n",
       "   alcohol  quality  \n",
       "0      9.4        5  \n",
       "1      9.8        5  \n",
       "2      9.8        5  \n",
       "3      9.8        6  \n",
       "4      9.4        5  "
      ]
     },
     "execution_count": 23,
     "metadata": {},
     "output_type": "execute_result"
    }
   ],
   "source": [
    "df.head()"
   ]
  },
  {
   "cell_type": "code",
   "execution_count": 24,
   "id": "13c0d5b5",
   "metadata": {},
   "outputs": [
    {
     "data": {
      "text/html": [
       "<div>\n",
       "<style scoped>\n",
       "    .dataframe tbody tr th:only-of-type {\n",
       "        vertical-align: middle;\n",
       "    }\n",
       "\n",
       "    .dataframe tbody tr th {\n",
       "        vertical-align: top;\n",
       "    }\n",
       "\n",
       "    .dataframe thead th {\n",
       "        text-align: right;\n",
       "    }\n",
       "</style>\n",
       "<table border=\"1\" class=\"dataframe\">\n",
       "  <thead>\n",
       "    <tr style=\"text-align: right;\">\n",
       "      <th></th>\n",
       "      <th>fixed acidity</th>\n",
       "      <th>volatile acidity</th>\n",
       "      <th>citric acid</th>\n",
       "      <th>residual sugar</th>\n",
       "      <th>chlorides</th>\n",
       "      <th>free sulfur dioxide</th>\n",
       "      <th>total sulfur dioxide</th>\n",
       "      <th>density</th>\n",
       "      <th>pH</th>\n",
       "      <th>sulphates</th>\n",
       "      <th>alcohol</th>\n",
       "      <th>quality</th>\n",
       "    </tr>\n",
       "  </thead>\n",
       "  <tbody>\n",
       "    <tr>\n",
       "      <th>1594</th>\n",
       "      <td>6.2</td>\n",
       "      <td>0.600</td>\n",
       "      <td>0.08</td>\n",
       "      <td>2.0</td>\n",
       "      <td>0.090</td>\n",
       "      <td>32.0</td>\n",
       "      <td>44.0</td>\n",
       "      <td>0.99490</td>\n",
       "      <td>3.45</td>\n",
       "      <td>0.58</td>\n",
       "      <td>10.5</td>\n",
       "      <td>5</td>\n",
       "    </tr>\n",
       "    <tr>\n",
       "      <th>1595</th>\n",
       "      <td>5.9</td>\n",
       "      <td>0.550</td>\n",
       "      <td>0.10</td>\n",
       "      <td>2.2</td>\n",
       "      <td>0.062</td>\n",
       "      <td>39.0</td>\n",
       "      <td>51.0</td>\n",
       "      <td>0.99512</td>\n",
       "      <td>3.52</td>\n",
       "      <td>0.76</td>\n",
       "      <td>11.2</td>\n",
       "      <td>6</td>\n",
       "    </tr>\n",
       "    <tr>\n",
       "      <th>1596</th>\n",
       "      <td>6.3</td>\n",
       "      <td>0.510</td>\n",
       "      <td>0.13</td>\n",
       "      <td>2.3</td>\n",
       "      <td>0.076</td>\n",
       "      <td>29.0</td>\n",
       "      <td>40.0</td>\n",
       "      <td>0.99574</td>\n",
       "      <td>3.42</td>\n",
       "      <td>0.75</td>\n",
       "      <td>11.0</td>\n",
       "      <td>6</td>\n",
       "    </tr>\n",
       "    <tr>\n",
       "      <th>1597</th>\n",
       "      <td>5.9</td>\n",
       "      <td>0.645</td>\n",
       "      <td>0.12</td>\n",
       "      <td>2.0</td>\n",
       "      <td>0.075</td>\n",
       "      <td>32.0</td>\n",
       "      <td>44.0</td>\n",
       "      <td>0.99547</td>\n",
       "      <td>3.57</td>\n",
       "      <td>0.71</td>\n",
       "      <td>10.2</td>\n",
       "      <td>5</td>\n",
       "    </tr>\n",
       "    <tr>\n",
       "      <th>1598</th>\n",
       "      <td>6.0</td>\n",
       "      <td>0.310</td>\n",
       "      <td>0.47</td>\n",
       "      <td>3.6</td>\n",
       "      <td>0.067</td>\n",
       "      <td>18.0</td>\n",
       "      <td>42.0</td>\n",
       "      <td>0.99549</td>\n",
       "      <td>3.39</td>\n",
       "      <td>0.66</td>\n",
       "      <td>11.0</td>\n",
       "      <td>6</td>\n",
       "    </tr>\n",
       "  </tbody>\n",
       "</table>\n",
       "</div>"
      ],
      "text/plain": [
       "      fixed acidity  volatile acidity  citric acid  residual sugar  chlorides  \\\n",
       "1594            6.2             0.600         0.08             2.0      0.090   \n",
       "1595            5.9             0.550         0.10             2.2      0.062   \n",
       "1596            6.3             0.510         0.13             2.3      0.076   \n",
       "1597            5.9             0.645         0.12             2.0      0.075   \n",
       "1598            6.0             0.310         0.47             3.6      0.067   \n",
       "\n",
       "      free sulfur dioxide  total sulfur dioxide  density    pH  sulphates  \\\n",
       "1594                 32.0                  44.0  0.99490  3.45       0.58   \n",
       "1595                 39.0                  51.0  0.99512  3.52       0.76   \n",
       "1596                 29.0                  40.0  0.99574  3.42       0.75   \n",
       "1597                 32.0                  44.0  0.99547  3.57       0.71   \n",
       "1598                 18.0                  42.0  0.99549  3.39       0.66   \n",
       "\n",
       "      alcohol  quality  \n",
       "1594     10.5        5  \n",
       "1595     11.2        6  \n",
       "1596     11.0        6  \n",
       "1597     10.2        5  \n",
       "1598     11.0        6  "
      ]
     },
     "execution_count": 24,
     "metadata": {},
     "output_type": "execute_result"
    }
   ],
   "source": [
    "df.tail()"
   ]
  },
  {
   "cell_type": "code",
   "execution_count": 25,
   "id": "01ee5bbe",
   "metadata": {},
   "outputs": [
    {
     "data": {
      "text/html": [
       "<div>\n",
       "<style scoped>\n",
       "    .dataframe tbody tr th:only-of-type {\n",
       "        vertical-align: middle;\n",
       "    }\n",
       "\n",
       "    .dataframe tbody tr th {\n",
       "        vertical-align: top;\n",
       "    }\n",
       "\n",
       "    .dataframe thead th {\n",
       "        text-align: right;\n",
       "    }\n",
       "</style>\n",
       "<table border=\"1\" class=\"dataframe\">\n",
       "  <thead>\n",
       "    <tr style=\"text-align: right;\">\n",
       "      <th></th>\n",
       "      <th>fixed acidity</th>\n",
       "      <th>volatile acidity</th>\n",
       "      <th>citric acid</th>\n",
       "      <th>residual sugar</th>\n",
       "      <th>chlorides</th>\n",
       "      <th>free sulfur dioxide</th>\n",
       "      <th>total sulfur dioxide</th>\n",
       "      <th>density</th>\n",
       "      <th>pH</th>\n",
       "      <th>sulphates</th>\n",
       "      <th>alcohol</th>\n",
       "      <th>quality</th>\n",
       "    </tr>\n",
       "  </thead>\n",
       "  <tbody>\n",
       "    <tr>\n",
       "      <th>698</th>\n",
       "      <td>9.4</td>\n",
       "      <td>0.615</td>\n",
       "      <td>0.28</td>\n",
       "      <td>3.2</td>\n",
       "      <td>0.087</td>\n",
       "      <td>18.0</td>\n",
       "      <td>72.0</td>\n",
       "      <td>1.0001</td>\n",
       "      <td>3.31</td>\n",
       "      <td>0.53</td>\n",
       "      <td>9.7</td>\n",
       "      <td>5</td>\n",
       "    </tr>\n",
       "  </tbody>\n",
       "</table>\n",
       "</div>"
      ],
      "text/plain": [
       "     fixed acidity  volatile acidity  citric acid  residual sugar  chlorides  \\\n",
       "698            9.4             0.615         0.28             3.2      0.087   \n",
       "\n",
       "     free sulfur dioxide  total sulfur dioxide  density    pH  sulphates  \\\n",
       "698                 18.0                  72.0   1.0001  3.31       0.53   \n",
       "\n",
       "     alcohol  quality  \n",
       "698      9.7        5  "
      ]
     },
     "execution_count": 25,
     "metadata": {},
     "output_type": "execute_result"
    }
   ],
   "source": [
    "df.sample()"
   ]
  },
  {
   "cell_type": "code",
   "execution_count": 54,
   "id": "25520f37",
   "metadata": {},
   "outputs": [
    {
     "data": {
      "text/plain": [
       "fixed acidity           float64\n",
       "volatile acidity        float64\n",
       "citric acid             float64\n",
       "residual sugar          float64\n",
       "chlorides               float64\n",
       "free sulfur dioxide     float64\n",
       "total sulfur dioxide    float64\n",
       "density                 float64\n",
       "pH                      float64\n",
       "sulphates               float64\n",
       "alcohol                 float64\n",
       "quality                   int64\n",
       "dtype: object"
      ]
     },
     "execution_count": 54,
     "metadata": {},
     "output_type": "execute_result"
    }
   ],
   "source": [
    "df.dtypes"
   ]
  },
  {
   "cell_type": "code",
   "execution_count": 55,
   "id": "596b380f",
   "metadata": {},
   "outputs": [
    {
     "data": {
      "text/plain": [
       "(1599, 12)"
      ]
     },
     "execution_count": 55,
     "metadata": {},
     "output_type": "execute_result"
    }
   ],
   "source": [
    "df.shape"
   ]
  },
  {
   "cell_type": "code",
   "execution_count": 26,
   "id": "f901c56e",
   "metadata": {},
   "outputs": [
    {
     "name": "stdout",
     "output_type": "stream",
     "text": [
      "<class 'pandas.core.frame.DataFrame'>\n",
      "RangeIndex: 1599 entries, 0 to 1598\n",
      "Data columns (total 12 columns):\n",
      " #   Column                Non-Null Count  Dtype  \n",
      "---  ------                --------------  -----  \n",
      " 0   fixed acidity         1599 non-null   float64\n",
      " 1   volatile acidity      1599 non-null   float64\n",
      " 2   citric acid           1599 non-null   float64\n",
      " 3   residual sugar        1599 non-null   float64\n",
      " 4   chlorides             1599 non-null   float64\n",
      " 5   free sulfur dioxide   1599 non-null   float64\n",
      " 6   total sulfur dioxide  1599 non-null   float64\n",
      " 7   density               1599 non-null   float64\n",
      " 8   pH                    1599 non-null   float64\n",
      " 9   sulphates             1599 non-null   float64\n",
      " 10  alcohol               1599 non-null   float64\n",
      " 11  quality               1599 non-null   int64  \n",
      "dtypes: float64(11), int64(1)\n",
      "memory usage: 150.0 KB\n"
     ]
    }
   ],
   "source": [
    "df.info()"
   ]
  },
  {
   "cell_type": "code",
   "execution_count": 27,
   "id": "37d90a4f",
   "metadata": {},
   "outputs": [
    {
     "data": {
      "text/plain": [
       "fixed acidity           0\n",
       "volatile acidity        0\n",
       "citric acid             0\n",
       "residual sugar          0\n",
       "chlorides               0\n",
       "free sulfur dioxide     0\n",
       "total sulfur dioxide    0\n",
       "density                 0\n",
       "pH                      0\n",
       "sulphates               0\n",
       "alcohol                 0\n",
       "quality                 0\n",
       "dtype: int64"
      ]
     },
     "execution_count": 27,
     "metadata": {},
     "output_type": "execute_result"
    }
   ],
   "source": [
    "df.isnull().sum()"
   ]
  },
  {
   "cell_type": "code",
   "execution_count": 28,
   "id": "be283eb6",
   "metadata": {},
   "outputs": [
    {
     "data": {
      "text/plain": [
       "<AxesSubplot:>"
      ]
     },
     "execution_count": 28,
     "metadata": {},
     "output_type": "execute_result"
    },
    {
     "data": {
      "image/png": "[encoded data removed]",
      "text/plain": [
       "<Figure size 640x480 with 2 Axes>"
      ]
     },
     "metadata": {},
     "output_type": "display_data"
    }
   ],
   "source": [
    "sns.heatmap(df.isnull())"
   ]
  },
  {
   "cell_type": "markdown",
   "id": "a1c5fe2a",
   "metadata": {},
   "source": [
    "No null data is present in dataset"
   ]
  },
  {
   "cell_type": "code",
   "execution_count": 29,
   "id": "68b73e71",
   "metadata": {},
   "outputs": [
    {
     "data": {
      "text/plain": [
       "fixed acidity           0.982751\n",
       "volatile acidity        0.671593\n",
       "citric acid             0.318337\n",
       "residual sugar          4.540655\n",
       "chlorides               5.680347\n",
       "free sulfur dioxide     1.250567\n",
       "total sulfur dioxide    1.515531\n",
       "density                 0.071288\n",
       "pH                      0.193683\n",
       "sulphates               2.428672\n",
       "alcohol                 0.860829\n",
       "quality                 0.217802\n",
       "dtype: float64"
      ]
     },
     "execution_count": 29,
     "metadata": {},
     "output_type": "execute_result"
    }
   ],
   "source": [
    "df.skew()"
   ]
  },
  {
   "cell_type": "code",
   "execution_count": 30,
   "id": "a992650e",
   "metadata": {},
   "outputs": [
    {
     "data": {
      "text/plain": [
       "<AxesSubplot:xlabel='residual sugar', ylabel='Density'>"
      ]
     },
     "execution_count": 30,
     "metadata": {},
     "output_type": "execute_result"
    },
    {
     "data": {
      "image/png": "[encoded data removed]",
      "text/plain": [
       "<Figure size 640x480 with 1 Axes>"
      ]
     },
     "metadata": {},
     "output_type": "display_data"
    }
   ],
   "source": [
    "sns.distplot(df['residual sugar'])"
   ]
  },
  {
   "cell_type": "code",
   "execution_count": 18,
   "id": "67eb510f",
   "metadata": {},
   "outputs": [],
   "source": [
    "from scipy.stats import boxcox"
   ]
  },
  {
   "cell_type": "code",
   "execution_count": 31,
   "id": "f2ed23d7",
   "metadata": {},
   "outputs": [],
   "source": [
    "df[\"residual sugar\"]=boxcox(df[\"residual sugar\"],0)"
   ]
  },
  {
   "cell_type": "code",
   "execution_count": 32,
   "id": "b5c15f78",
   "metadata": {},
   "outputs": [
    {
     "data": {
      "text/plain": [
       "<AxesSubplot:xlabel='residual sugar', ylabel='Density'>"
      ]
     },
     "execution_count": 32,
     "metadata": {},
     "output_type": "execute_result"
    },
    {
     "data": {
      "image/png": "[encoded data removed]",
      "text/plain": [
       "<Figure size 640x480 with 1 Axes>"
      ]
     },
     "metadata": {},
     "output_type": "display_data"
    }
   ],
   "source": [
    "sns.distplot(df[\"residual sugar\"])"
   ]
  },
  {
   "cell_type": "code",
   "execution_count": 33,
   "id": "82c15150",
   "metadata": {},
   "outputs": [
    {
     "data": {
      "text/plain": [
       "<AxesSubplot:xlabel='chlorides', ylabel='Density'>"
      ]
     },
     "execution_count": 33,
     "metadata": {},
     "output_type": "execute_result"
    },
    {
     "data": {
      "image/png": "[encoded data removed]",
      "text/plain": [
       "<Figure size 640x480 with 1 Axes>"
      ]
     },
     "metadata": {},
     "output_type": "display_data"
    }
   ],
   "source": [
    "sns.distplot(df['chlorides'])"
   ]
  },
  {
   "cell_type": "code",
   "execution_count": 34,
   "id": "bd252a30",
   "metadata": {},
   "outputs": [],
   "source": [
    "df[\"chlorides\"]=boxcox(df[\"chlorides\"],0)"
   ]
  },
  {
   "cell_type": "code",
   "execution_count": 35,
   "id": "0bece03c",
   "metadata": {},
   "outputs": [
    {
     "data": {
      "text/plain": [
       "<AxesSubplot:xlabel='chlorides', ylabel='Density'>"
      ]
     },
     "execution_count": 35,
     "metadata": {},
     "output_type": "execute_result"
    },
    {
     "data": {
      "image/png": "[encoded data removed]",
      "text/plain": [
       "<Figure size 640x480 with 1 Axes>"
      ]
     },
     "metadata": {},
     "output_type": "display_data"
    }
   ],
   "source": [
    "sns.distplot(df[\"chlorides\"])"
   ]
  },
  {
   "cell_type": "code",
   "execution_count": 36,
   "id": "a0d7016f",
   "metadata": {},
   "outputs": [
    {
     "data": {
      "text/plain": [
       "<AxesSubplot:xlabel='free sulfur dioxide', ylabel='Density'>"
      ]
     },
     "execution_count": 36,
     "metadata": {},
     "output_type": "execute_result"
    },
    {
     "data": {
      "image/png": "[encoded data removed]",
      "text/plain": [
       "<Figure size 640x480 with 1 Axes>"
      ]
     },
     "metadata": {},
     "output_type": "display_data"
    }
   ],
   "source": [
    "sns.distplot(df[\"free sulfur dioxide\"])"
   ]
  },
  {
   "cell_type": "code",
   "execution_count": 40,
   "id": "fafc8657",
   "metadata": {},
   "outputs": [],
   "source": [
    "df[\"free sulfur dioxide\"]=boxcox(df[\"free sulfur dioxide\"],0)"
   ]
  },
  {
   "cell_type": "code",
   "execution_count": 41,
   "id": "283eba60",
   "metadata": {},
   "outputs": [
    {
     "data": {
      "text/plain": [
       "<AxesSubplot:xlabel='free sulfur dioxide', ylabel='Density'>"
      ]
     },
     "execution_count": 41,
     "metadata": {},
     "output_type": "execute_result"
    },
    {
     "data": {
      "image/png": "[encoded data removed]",
      "text/plain": [
       "<Figure size 640x480 with 1 Axes>"
      ]
     },
     "metadata": {},
     "output_type": "display_data"
    }
   ],
   "source": [
    "sns.distplot(df[\"free sulfur dioxide\"])"
   ]
  },
  {
   "cell_type": "code",
   "execution_count": 42,
   "id": "940630f6",
   "metadata": {},
   "outputs": [
    {
     "data": {
      "text/plain": [
       "<AxesSubplot:xlabel='total sulfur dioxide', ylabel='Density'>"
      ]
     },
     "execution_count": 42,
     "metadata": {},
     "output_type": "execute_result"
    },
    {
     "data": {
      "image/png": "[encoded data removed]",
      "text/plain": [
       "<Figure size 640x480 with 1 Axes>"
      ]
     },
     "metadata": {},
     "output_type": "display_data"
    }
   ],
   "source": [
    "sns.distplot(df[\"total sulfur dioxide\"])"
   ]
  },
  {
   "cell_type": "code",
   "execution_count": 43,
   "id": "2e363ba3",
   "metadata": {},
   "outputs": [
    {
     "data": {
      "text/plain": [
       "<AxesSubplot:xlabel='total sulfur dioxide', ylabel='Count'>"
      ]
     },
     "execution_count": 43,
     "metadata": {},
     "output_type": "execute_result"
    },
    {
     "data": {
      "image/png": "[encoded data removed]",
      "text/plain": [
       "<Figure size 640x480 with 1 Axes>"
      ]
     },
     "metadata": {},
     "output_type": "display_data"
    }
   ],
   "source": [
    "sns.histplot(df[\"total sulfur dioxide\"])"
   ]
  },
  {
   "cell_type": "code",
   "execution_count": 44,
   "id": "9992623e",
   "metadata": {},
   "outputs": [],
   "source": [
    "df[\"total sulfur dioxide\"]=boxcox(df[\"total sulfur dioxide\"],0)"
   ]
  },
  {
   "cell_type": "code",
   "execution_count": 45,
   "id": "0b30ea0d",
   "metadata": {},
   "outputs": [
    {
     "data": {
      "text/plain": [
       "<AxesSubplot:xlabel='total sulfur dioxide', ylabel='Density'>"
      ]
     },
     "execution_count": 45,
     "metadata": {},
     "output_type": "execute_result"
    },
    {
     "data": {
      "image/png": "[encoded data removed]",
      "text/plain": [
       "<Figure size 640x480 with 1 Axes>"
      ]
     },
     "metadata": {},
     "output_type": "display_data"
    }
   ],
   "source": [
    "sns.distplot(df[\"total sulfur dioxide\"])"
   ]
  },
  {
   "cell_type": "code",
   "execution_count": 48,
   "id": "62c48190",
   "metadata": {},
   "outputs": [
    {
     "data": {
      "text/plain": [
       "<AxesSubplot:xlabel='sulphates', ylabel='Density'>"
      ]
     },
     "execution_count": 48,
     "metadata": {},
     "output_type": "execute_result"
    },
    {
     "data": {
      "image/png": "[encoded data removed]",
      "text/plain": [
       "<Figure size 640x480 with 1 Axes>"
      ]
     },
     "metadata": {},
     "output_type": "display_data"
    }
   ],
   "source": [
    "sns.distplot(df['sulphates'])"
   ]
  },
  {
   "cell_type": "code",
   "execution_count": 49,
   "id": "5fa7f995",
   "metadata": {},
   "outputs": [],
   "source": [
    "df['sulphates']=boxcox(df[\"sulphates\"],0)"
   ]
  },
  {
   "cell_type": "code",
   "execution_count": 50,
   "id": "64f8c55a",
   "metadata": {},
   "outputs": [
    {
     "data": {
      "text/plain": [
       "<AxesSubplot:xlabel='sulphates', ylabel='Density'>"
      ]
     },
     "execution_count": 50,
     "metadata": {},
     "output_type": "execute_result"
    },
    {
     "data": {
      "image/png": "[encoded data removed]",
      "text/plain": [
       "<Figure size 640x480 with 1 Axes>"
      ]
     },
     "metadata": {},
     "output_type": "display_data"
    }
   ],
   "source": [
    "sns.distplot(df['sulphates'])"
   ]
  },
  {
   "cell_type": "code",
   "execution_count": 51,
   "id": "2922b5cf",
   "metadata": {},
   "outputs": [
    {
     "data": {
      "text/plain": [
       "<AxesSubplot:xlabel='sulphates', ylabel='Count'>"
      ]
     },
     "execution_count": 51,
     "metadata": {},
     "output_type": "execute_result"
    },
    {
     "data": {
      "image/png": "[encoded data removed]",
      "text/plain": [
       "<Figure size 640x480 with 1 Axes>"
      ]
     },
     "metadata": {},
     "output_type": "display_data"
    }
   ],
   "source": [
    "sns.histplot(df['sulphates'])"
   ]
  },
  {
   "cell_type": "code",
   "execution_count": 52,
   "id": "e5dfee9c",
   "metadata": {},
   "outputs": [
    {
     "data": {
      "text/plain": [
       "fixed acidity           0.982751\n",
       "volatile acidity        0.671593\n",
       "citric acid             0.318337\n",
       "residual sugar          1.806864\n",
       "chlorides               1.745215\n",
       "free sulfur dioxide    -0.234031\n",
       "total sulfur dioxide   -0.079323\n",
       "density                 0.071288\n",
       "pH                      0.193683\n",
       "sulphates               0.921867\n",
       "alcohol                 0.860829\n",
       "quality                 0.217802\n",
       "dtype: float64"
      ]
     },
     "execution_count": 52,
     "metadata": {},
     "output_type": "execute_result"
    }
   ],
   "source": [
    "df.skew()"
   ]
  },
  {
   "cell_type": "code",
   "execution_count": 56,
   "id": "a4e00fe5",
   "metadata": {},
   "outputs": [
    {
     "data": {
      "text/html": [
       "<div>\n",
       "<style scoped>\n",
       "    .dataframe tbody tr th:only-of-type {\n",
       "        vertical-align: middle;\n",
       "    }\n",
       "\n",
       "    .dataframe tbody tr th {\n",
       "        vertical-align: top;\n",
       "    }\n",
       "\n",
       "    .dataframe thead th {\n",
       "        text-align: right;\n",
       "    }\n",
       "</style>\n",
       "<table border=\"1\" class=\"dataframe\">\n",
       "  <thead>\n",
       "    <tr style=\"text-align: right;\">\n",
       "      <th></th>\n",
       "      <th>fixed acidity</th>\n",
       "      <th>volatile acidity</th>\n",
       "      <th>citric acid</th>\n",
       "      <th>residual sugar</th>\n",
       "      <th>chlorides</th>\n",
       "      <th>free sulfur dioxide</th>\n",
       "      <th>total sulfur dioxide</th>\n",
       "      <th>density</th>\n",
       "      <th>pH</th>\n",
       "      <th>sulphates</th>\n",
       "      <th>alcohol</th>\n",
       "      <th>quality</th>\n",
       "    </tr>\n",
       "  </thead>\n",
       "  <tbody>\n",
       "    <tr>\n",
       "      <th>fixed acidity</th>\n",
       "      <td>1.000000</td>\n",
       "      <td>-0.256131</td>\n",
       "      <td>0.671703</td>\n",
       "      <td>0.174742</td>\n",
       "      <td>0.175191</td>\n",
       "      <td>-0.179211</td>\n",
       "      <td>-0.117900</td>\n",
       "      <td>0.668047</td>\n",
       "      <td>-0.682978</td>\n",
       "      <td>0.204294</td>\n",
       "      <td>-0.061668</td>\n",
       "      <td>0.124052</td>\n",
       "    </tr>\n",
       "    <tr>\n",
       "      <th>volatile acidity</th>\n",
       "      <td>-0.256131</td>\n",
       "      <td>1.000000</td>\n",
       "      <td>-0.552496</td>\n",
       "      <td>0.024278</td>\n",
       "      <td>0.108726</td>\n",
       "      <td>0.016666</td>\n",
       "      <td>0.073407</td>\n",
       "      <td>0.022026</td>\n",
       "      <td>0.234937</td>\n",
       "      <td>-0.300549</td>\n",
       "      <td>-0.202288</td>\n",
       "      <td>-0.390558</td>\n",
       "    </tr>\n",
       "    <tr>\n",
       "      <th>citric acid</th>\n",
       "      <td>0.671703</td>\n",
       "      <td>-0.552496</td>\n",
       "      <td>1.000000</td>\n",
       "      <td>0.172286</td>\n",
       "      <td>0.181780</td>\n",
       "      <td>-0.089146</td>\n",
       "      <td>-0.003637</td>\n",
       "      <td>0.364947</td>\n",
       "      <td>-0.541904</td>\n",
       "      <td>0.331516</td>\n",
       "      <td>0.109903</td>\n",
       "      <td>0.226373</td>\n",
       "    </tr>\n",
       "    <tr>\n",
       "      <th>residual sugar</th>\n",
       "      <td>0.174742</td>\n",
       "      <td>0.024278</td>\n",
       "      <td>0.172286</td>\n",
       "      <td>1.000000</td>\n",
       "      <td>0.117102</td>\n",
       "      <td>0.093839</td>\n",
       "      <td>0.152920</td>\n",
       "      <td>0.417538</td>\n",
       "      <td>-0.091241</td>\n",
       "      <td>0.024800</td>\n",
       "      <td>0.080569</td>\n",
       "      <td>0.023533</td>\n",
       "    </tr>\n",
       "    <tr>\n",
       "      <th>chlorides</th>\n",
       "      <td>0.175191</td>\n",
       "      <td>0.108726</td>\n",
       "      <td>0.181780</td>\n",
       "      <td>0.117102</td>\n",
       "      <td>1.000000</td>\n",
       "      <td>-0.013597</td>\n",
       "      <td>0.073285</td>\n",
       "      <td>0.351939</td>\n",
       "      <td>-0.283629</td>\n",
       "      <td>0.243076</td>\n",
       "      <td>-0.303961</td>\n",
       "      <td>-0.176140</td>\n",
       "    </tr>\n",
       "    <tr>\n",
       "      <th>free sulfur dioxide</th>\n",
       "      <td>-0.179211</td>\n",
       "      <td>0.016666</td>\n",
       "      <td>-0.089146</td>\n",
       "      <td>0.093839</td>\n",
       "      <td>-0.013597</td>\n",
       "      <td>1.000000</td>\n",
       "      <td>0.784622</td>\n",
       "      <td>-0.039642</td>\n",
       "      <td>0.095763</td>\n",
       "      <td>0.054068</td>\n",
       "      <td>-0.082672</td>\n",
       "      <td>-0.050087</td>\n",
       "    </tr>\n",
       "    <tr>\n",
       "      <th>total sulfur dioxide</th>\n",
       "      <td>-0.117900</td>\n",
       "      <td>0.073407</td>\n",
       "      <td>-0.003637</td>\n",
       "      <td>0.152920</td>\n",
       "      <td>0.073285</td>\n",
       "      <td>0.784622</td>\n",
       "      <td>1.000000</td>\n",
       "      <td>0.105539</td>\n",
       "      <td>-0.014837</td>\n",
       "      <td>0.052191</td>\n",
       "      <td>-0.230858</td>\n",
       "      <td>-0.170143</td>\n",
       "    </tr>\n",
       "    <tr>\n",
       "      <th>density</th>\n",
       "      <td>0.668047</td>\n",
       "      <td>0.022026</td>\n",
       "      <td>0.364947</td>\n",
       "      <td>0.417538</td>\n",
       "      <td>0.351939</td>\n",
       "      <td>-0.039642</td>\n",
       "      <td>0.105539</td>\n",
       "      <td>1.000000</td>\n",
       "      <td>-0.341699</td>\n",
       "      <td>0.166124</td>\n",
       "      <td>-0.496180</td>\n",
       "      <td>-0.174919</td>\n",
       "    </tr>\n",
       "    <tr>\n",
       "      <th>pH</th>\n",
       "      <td>-0.682978</td>\n",
       "      <td>0.234937</td>\n",
       "      <td>-0.541904</td>\n",
       "      <td>-0.091241</td>\n",
       "      <td>-0.283629</td>\n",
       "      <td>0.095763</td>\n",
       "      <td>-0.014837</td>\n",
       "      <td>-0.341699</td>\n",
       "      <td>1.000000</td>\n",
       "      <td>-0.154116</td>\n",
       "      <td>0.205633</td>\n",
       "      <td>-0.057731</td>\n",
       "    </tr>\n",
       "    <tr>\n",
       "      <th>sulphates</th>\n",
       "      <td>0.204294</td>\n",
       "      <td>-0.300549</td>\n",
       "      <td>0.331516</td>\n",
       "      <td>0.024800</td>\n",
       "      <td>0.243076</td>\n",
       "      <td>0.054068</td>\n",
       "      <td>0.052191</td>\n",
       "      <td>0.166124</td>\n",
       "      <td>-0.154116</td>\n",
       "      <td>1.000000</td>\n",
       "      <td>0.135156</td>\n",
       "      <td>0.308642</td>\n",
       "    </tr>\n",
       "    <tr>\n",
       "      <th>alcohol</th>\n",
       "      <td>-0.061668</td>\n",
       "      <td>-0.202288</td>\n",
       "      <td>0.109903</td>\n",
       "      <td>0.080569</td>\n",
       "      <td>-0.303961</td>\n",
       "      <td>-0.082672</td>\n",
       "      <td>-0.230858</td>\n",
       "      <td>-0.496180</td>\n",
       "      <td>0.205633</td>\n",
       "      <td>0.135156</td>\n",
       "      <td>1.000000</td>\n",
       "      <td>0.476166</td>\n",
       "    </tr>\n",
       "    <tr>\n",
       "      <th>quality</th>\n",
       "      <td>0.124052</td>\n",
       "      <td>-0.390558</td>\n",
       "      <td>0.226373</td>\n",
       "      <td>0.023533</td>\n",
       "      <td>-0.176140</td>\n",
       "      <td>-0.050087</td>\n",
       "      <td>-0.170143</td>\n",
       "      <td>-0.174919</td>\n",
       "      <td>-0.057731</td>\n",
       "      <td>0.308642</td>\n",
       "      <td>0.476166</td>\n",
       "      <td>1.000000</td>\n",
       "    </tr>\n",
       "  </tbody>\n",
       "</table>\n",
       "</div>"
      ],
      "text/plain": [
       "                      fixed acidity  volatile acidity  citric acid  \\\n",
       "fixed acidity              1.000000         -0.256131     0.671703   \n",
       "volatile acidity          -0.256131          1.000000    -0.552496   \n",
       "citric acid                0.671703         -0.552496     1.000000   \n",
       "residual sugar             0.174742          0.024278     0.172286   \n",
       "chlorides                  0.175191          0.108726     0.181780   \n",
       "free sulfur dioxide       -0.179211          0.016666    -0.089146   \n",
       "total sulfur dioxide      -0.117900          0.073407    -0.003637   \n",
       "density                    0.668047          0.022026     0.364947   \n",
       "pH                        -0.682978          0.234937    -0.541904   \n",
       "sulphates                  0.204294         -0.300549     0.331516   \n",
       "alcohol                   -0.061668         -0.202288     0.109903   \n",
       "quality                    0.124052         -0.390558     0.226373   \n",
       "\n",
       "                      residual sugar  chlorides  free sulfur dioxide  \\\n",
       "fixed acidity               0.174742   0.175191            -0.179211   \n",
       "volatile acidity            0.024278   0.108726             0.016666   \n",
       "citric acid                 0.172286   0.181780            -0.089146   \n",
       "residual sugar              1.000000   0.117102             0.093839   \n",
       "chlorides                   0.117102   1.000000            -0.013597   \n",
       "free sulfur dioxide         0.093839  -0.013597             1.000000   \n",
       "total sulfur dioxide        0.152920   0.073285             0.784622   \n",
       "density                     0.417538   0.351939            -0.039642   \n",
       "pH                         -0.091241  -0.283629             0.095763   \n",
       "sulphates                   0.024800   0.243076             0.054068   \n",
       "alcohol                     0.080569  -0.303961            -0.082672   \n",
       "quality                     0.023533  -0.176140            -0.050087   \n",
       "\n",
       "                      total sulfur dioxide   density        pH  sulphates  \\\n",
       "fixed acidity                    -0.117900  0.668047 -0.682978   0.204294   \n",
       "volatile acidity                  0.073407  0.022026  0.234937  -0.300549   \n",
       "citric acid                      -0.003637  0.364947 -0.541904   0.331516   \n",
       "residual sugar                    0.152920  0.417538 -0.091241   0.024800   \n",
       "chlorides                         0.073285  0.351939 -0.283629   0.243076   \n",
       "free sulfur dioxide               0.784622 -0.039642  0.095763   0.054068   \n",
       "total sulfur dioxide              1.000000  0.105539 -0.014837   0.052191   \n",
       "density                           0.105539  1.000000 -0.341699   0.166124   \n",
       "pH                               -0.014837 -0.341699  1.000000  -0.154116   \n",
       "sulphates                         0.052191  0.166124 -0.154116   1.000000   \n",
       "alcohol                          -0.230858 -0.496180  0.205633   0.135156   \n",
       "quality                          -0.170143 -0.174919 -0.057731   0.308642   \n",
       "\n",
       "                       alcohol   quality  \n",
       "fixed acidity        -0.061668  0.124052  \n",
       "volatile acidity     -0.202288 -0.390558  \n",
       "citric acid           0.109903  0.226373  \n",
       "residual sugar        0.080569  0.023533  \n",
       "chlorides            -0.303961 -0.176140  \n",
       "free sulfur dioxide  -0.082672 -0.050087  \n",
       "total sulfur dioxide -0.230858 -0.170143  \n",
       "density              -0.496180 -0.174919  \n",
       "pH                    0.205633 -0.057731  \n",
       "sulphates             0.135156  0.308642  \n",
       "alcohol               1.000000  0.476166  \n",
       "quality               0.476166  1.000000  "
      ]
     },
     "execution_count": 56,
     "metadata": {},
     "output_type": "execute_result"
    }
   ],
   "source": [
    "df.corr()"
   ]
  },
  {
   "cell_type": "code",
   "execution_count": 59,
   "id": "15de41c5",
   "metadata": {},
   "outputs": [
    {
     "data": {
      "text/plain": [
       "<AxesSubplot:>"
      ]
     },
     "execution_count": 59,
     "metadata": {},
     "output_type": "execute_result"
    },
    {
     "data": {
      "image/png": "[encoded data removed]",
      "text/plain": [
       "<Figure size 1000x600 with 2 Axes>"
      ]
     },
     "metadata": {},
     "output_type": "display_data"
    }
   ],
   "source": [
    "plt.figure(figsize=(10,6))\n",
    "sns.heatmap(df.corr(),cmap='Blues',annot=True)\n",
    "\n",
    "\n"
   ]
  },
  {
   "cell_type": "markdown",
   "id": "15aa13d1",
   "metadata": {},
   "source": [
    "\n",
    "\n",
    "Quality is highly correlated with alchol\n",
    "\n",
    "Alcohal is higly negativly correlated with density.\n",
    "Density is highly positively correlated with Fixed acidity.\n",
    "volatile acidity is negatively correlated with quality\n",
    "\n",
    "here we can drop volatile acidity from the dataset."
   ]
  },
  {
   "cell_type": "code",
   "execution_count": 61,
   "id": "248b9eb2",
   "metadata": {},
   "outputs": [],
   "source": [
    "df.drop(['volatile acidity'],axis=1,inplace=True)"
   ]
  },
  {
   "cell_type": "code",
   "execution_count": 63,
   "id": "ba63dbcd",
   "metadata": {},
   "outputs": [
    {
     "data": {
      "text/html": [
       "<div>\n",
       "<style scoped>\n",
       "    .dataframe tbody tr th:only-of-type {\n",
       "        vertical-align: middle;\n",
       "    }\n",
       "\n",
       "    .dataframe tbody tr th {\n",
       "        vertical-align: top;\n",
       "    }\n",
       "\n",
       "    .dataframe thead th {\n",
       "        text-align: right;\n",
       "    }\n",
       "</style>\n",
       "<table border=\"1\" class=\"dataframe\">\n",
       "  <thead>\n",
       "    <tr style=\"text-align: right;\">\n",
       "      <th></th>\n",
       "      <th>fixed acidity</th>\n",
       "      <th>citric acid</th>\n",
       "      <th>residual sugar</th>\n",
       "      <th>chlorides</th>\n",
       "      <th>free sulfur dioxide</th>\n",
       "      <th>total sulfur dioxide</th>\n",
       "      <th>density</th>\n",
       "      <th>pH</th>\n",
       "      <th>sulphates</th>\n",
       "      <th>alcohol</th>\n",
       "      <th>quality</th>\n",
       "    </tr>\n",
       "  </thead>\n",
       "  <tbody>\n",
       "    <tr>\n",
       "      <th>0</th>\n",
       "      <td>7.4</td>\n",
       "      <td>0.0</td>\n",
       "      <td>0.641854</td>\n",
       "      <td>-2.577022</td>\n",
       "      <td>2.397895</td>\n",
       "      <td>3.526361</td>\n",
       "      <td>0.9978</td>\n",
       "      <td>3.51</td>\n",
       "      <td>-0.579818</td>\n",
       "      <td>9.4</td>\n",
       "      <td>5</td>\n",
       "    </tr>\n",
       "  </tbody>\n",
       "</table>\n",
       "</div>"
      ],
      "text/plain": [
       "   fixed acidity  citric acid  residual sugar  chlorides  free sulfur dioxide  \\\n",
       "0            7.4          0.0        0.641854  -2.577022             2.397895   \n",
       "\n",
       "   total sulfur dioxide  density    pH  sulphates  alcohol  quality  \n",
       "0              3.526361   0.9978  3.51  -0.579818      9.4        5  "
      ]
     },
     "execution_count": 63,
     "metadata": {},
     "output_type": "execute_result"
    }
   ],
   "source": [
    "df.head(1)"
   ]
  },
  {
   "cell_type": "code",
   "execution_count": 66,
   "id": "d33b029b",
   "metadata": {},
   "outputs": [
    {
     "data": {
      "text/plain": [
       "Index(['fixed acidity', 'citric acid', 'residual sugar', 'chlorides',\n",
       "       'free sulfur dioxide', 'total sulfur dioxide', 'density', 'pH',\n",
       "       'sulphates', 'alcohol', 'quality'],\n",
       "      dtype='object')"
      ]
     },
     "execution_count": 66,
     "metadata": {},
     "output_type": "execute_result"
    }
   ],
   "source": [
    "df.columns"
   ]
  },
  {
   "cell_type": "code",
   "execution_count": 67,
   "id": "9641e75c",
   "metadata": {},
   "outputs": [
    {
     "data": {
      "text/html": [
       "<div>\n",
       "<style scoped>\n",
       "    .dataframe tbody tr th:only-of-type {\n",
       "        vertical-align: middle;\n",
       "    }\n",
       "\n",
       "    .dataframe tbody tr th {\n",
       "        vertical-align: top;\n",
       "    }\n",
       "\n",
       "    .dataframe thead th {\n",
       "        text-align: right;\n",
       "    }\n",
       "</style>\n",
       "<table border=\"1\" class=\"dataframe\">\n",
       "  <thead>\n",
       "    <tr style=\"text-align: right;\">\n",
       "      <th></th>\n",
       "      <th>fixed acidity</th>\n",
       "      <th>citric acid</th>\n",
       "      <th>residual sugar</th>\n",
       "      <th>chlorides</th>\n",
       "      <th>free sulfur dioxide</th>\n",
       "      <th>total sulfur dioxide</th>\n",
       "      <th>density</th>\n",
       "      <th>pH</th>\n",
       "      <th>sulphates</th>\n",
       "      <th>alcohol</th>\n",
       "      <th>quality</th>\n",
       "    </tr>\n",
       "  </thead>\n",
       "  <tbody>\n",
       "    <tr>\n",
       "      <th>count</th>\n",
       "      <td>1599.000000</td>\n",
       "      <td>1599.000000</td>\n",
       "      <td>1599.000000</td>\n",
       "      <td>1599.000000</td>\n",
       "      <td>1599.000000</td>\n",
       "      <td>1599.000000</td>\n",
       "      <td>1599.000000</td>\n",
       "      <td>1599.000000</td>\n",
       "      <td>1599.000000</td>\n",
       "      <td>1599.000000</td>\n",
       "      <td>1599.000000</td>\n",
       "    </tr>\n",
       "    <tr>\n",
       "      <th>mean</th>\n",
       "      <td>8.319637</td>\n",
       "      <td>0.270976</td>\n",
       "      <td>0.850232</td>\n",
       "      <td>-2.505462</td>\n",
       "      <td>2.546132</td>\n",
       "      <td>3.600721</td>\n",
       "      <td>0.996747</td>\n",
       "      <td>3.311113</td>\n",
       "      <td>-0.445260</td>\n",
       "      <td>10.422983</td>\n",
       "      <td>5.636023</td>\n",
       "    </tr>\n",
       "    <tr>\n",
       "      <th>std</th>\n",
       "      <td>1.741096</td>\n",
       "      <td>0.194801</td>\n",
       "      <td>0.357443</td>\n",
       "      <td>0.327215</td>\n",
       "      <td>0.685292</td>\n",
       "      <td>0.705393</td>\n",
       "      <td>0.001887</td>\n",
       "      <td>0.154386</td>\n",
       "      <td>0.223566</td>\n",
       "      <td>1.065668</td>\n",
       "      <td>0.807569</td>\n",
       "    </tr>\n",
       "    <tr>\n",
       "      <th>min</th>\n",
       "      <td>4.600000</td>\n",
       "      <td>0.000000</td>\n",
       "      <td>-0.105361</td>\n",
       "      <td>-4.422849</td>\n",
       "      <td>0.000000</td>\n",
       "      <td>1.791759</td>\n",
       "      <td>0.990070</td>\n",
       "      <td>2.740000</td>\n",
       "      <td>-1.108663</td>\n",
       "      <td>8.400000</td>\n",
       "      <td>3.000000</td>\n",
       "    </tr>\n",
       "    <tr>\n",
       "      <th>25%</th>\n",
       "      <td>7.100000</td>\n",
       "      <td>0.090000</td>\n",
       "      <td>0.641854</td>\n",
       "      <td>-2.659260</td>\n",
       "      <td>1.945910</td>\n",
       "      <td>3.091042</td>\n",
       "      <td>0.995600</td>\n",
       "      <td>3.210000</td>\n",
       "      <td>-0.597837</td>\n",
       "      <td>9.500000</td>\n",
       "      <td>5.000000</td>\n",
       "    </tr>\n",
       "    <tr>\n",
       "      <th>50%</th>\n",
       "      <td>7.900000</td>\n",
       "      <td>0.260000</td>\n",
       "      <td>0.788457</td>\n",
       "      <td>-2.538307</td>\n",
       "      <td>2.639057</td>\n",
       "      <td>3.637586</td>\n",
       "      <td>0.996750</td>\n",
       "      <td>3.310000</td>\n",
       "      <td>-0.478036</td>\n",
       "      <td>10.200000</td>\n",
       "      <td>6.000000</td>\n",
       "    </tr>\n",
       "    <tr>\n",
       "      <th>75%</th>\n",
       "      <td>9.200000</td>\n",
       "      <td>0.420000</td>\n",
       "      <td>0.955511</td>\n",
       "      <td>-2.407946</td>\n",
       "      <td>3.044522</td>\n",
       "      <td>4.127134</td>\n",
       "      <td>0.997835</td>\n",
       "      <td>3.400000</td>\n",
       "      <td>-0.314711</td>\n",
       "      <td>11.100000</td>\n",
       "      <td>6.000000</td>\n",
       "    </tr>\n",
       "    <tr>\n",
       "      <th>max</th>\n",
       "      <td>15.900000</td>\n",
       "      <td>1.000000</td>\n",
       "      <td>2.740840</td>\n",
       "      <td>-0.492658</td>\n",
       "      <td>4.276666</td>\n",
       "      <td>5.666427</td>\n",
       "      <td>1.003690</td>\n",
       "      <td>4.010000</td>\n",
       "      <td>0.693147</td>\n",
       "      <td>14.900000</td>\n",
       "      <td>8.000000</td>\n",
       "    </tr>\n",
       "  </tbody>\n",
       "</table>\n",
       "</div>"
      ],
      "text/plain": [
       "       fixed acidity  citric acid  residual sugar    chlorides  \\\n",
       "count    1599.000000  1599.000000     1599.000000  1599.000000   \n",
       "mean        8.319637     0.270976        0.850232    -2.505462   \n",
       "std         1.741096     0.194801        0.357443     0.327215   \n",
       "min         4.600000     0.000000       -0.105361    -4.422849   \n",
       "25%         7.100000     0.090000        0.641854    -2.659260   \n",
       "50%         7.900000     0.260000        0.788457    -2.538307   \n",
       "75%         9.200000     0.420000        0.955511    -2.407946   \n",
       "max        15.900000     1.000000        2.740840    -0.492658   \n",
       "\n",
       "       free sulfur dioxide  total sulfur dioxide      density           pH  \\\n",
       "count          1599.000000           1599.000000  1599.000000  1599.000000   \n",
       "mean              2.546132              3.600721     0.996747     3.311113   \n",
       "std               0.685292              0.705393     0.001887     0.154386   \n",
       "min               0.000000              1.791759     0.990070     2.740000   \n",
       "25%               1.945910              3.091042     0.995600     3.210000   \n",
       "50%               2.639057              3.637586     0.996750     3.310000   \n",
       "75%               3.044522              4.127134     0.997835     3.400000   \n",
       "max               4.276666              5.666427     1.003690     4.010000   \n",
       "\n",
       "         sulphates      alcohol      quality  \n",
       "count  1599.000000  1599.000000  1599.000000  \n",
       "mean     -0.445260    10.422983     5.636023  \n",
       "std       0.223566     1.065668     0.807569  \n",
       "min      -1.108663     8.400000     3.000000  \n",
       "25%      -0.597837     9.500000     5.000000  \n",
       "50%      -0.478036    10.200000     6.000000  \n",
       "75%      -0.314711    11.100000     6.000000  \n",
       "max       0.693147    14.900000     8.000000  "
      ]
     },
     "execution_count": 67,
     "metadata": {},
     "output_type": "execute_result"
    }
   ],
   "source": [
    "df.describe()"
   ]
  },
  {
   "cell_type": "markdown",
   "id": "8b0b1919",
   "metadata": {},
   "source": [
    "key observations:\n",
    "\n",
    "1.The mean is more than median (50%) in fixed acidity column .\n",
    "\n",
    "2. There is a  difference in 75% percentile and max is fixed acidity, free sulphurdioxide , total sulfurdioxide, density ,ph,alcohol.\n",
    "\n",
    "3.  2 observation suggest that there are  outliers presents in the columns mentioned in 2 observation."
   ]
  },
  {
   "cell_type": "code",
   "execution_count": 69,
   "id": "5fc2f325",
   "metadata": {},
   "outputs": [
    {
     "data": {
      "text/plain": [
       "<AxesSubplot:xlabel='fixed acidity'>"
      ]
     },
     "execution_count": 69,
     "metadata": {},
     "output_type": "execute_result"
    },
    {
     "data": {
      "image/png": "[encoded data removed]",
      "text/plain": [
       "<Figure size 640x480 with 1 Axes>"
      ]
     },
     "metadata": {},
     "output_type": "display_data"
    }
   ],
   "source": [
    "#lets check for outliers\n",
    "\n",
    "sns.boxplot(df['fixed acidity'])"
   ]
  },
  {
   "cell_type": "code",
   "execution_count": 70,
   "id": "116d2a30",
   "metadata": {},
   "outputs": [
    {
     "data": {
      "text/plain": [
       "<AxesSubplot:xlabel='free sulfur dioxide'>"
      ]
     },
     "execution_count": 70,
     "metadata": {},
     "output_type": "execute_result"
    },
    {
     "data": {
      "image/png": "[encoded data removed]",
      "text/plain": [
       "<Figure size 640x480 with 1 Axes>"
      ]
     },
     "metadata": {},
     "output_type": "display_data"
    }
   ],
   "source": [
    "sns.boxplot(df['free sulfur dioxide'])"
   ]
  },
  {
   "cell_type": "code",
   "execution_count": 71,
   "id": "42a20113",
   "metadata": {},
   "outputs": [
    {
     "data": {
      "text/plain": [
       "<AxesSubplot:xlabel='total sulfur dioxide'>"
      ]
     },
     "execution_count": 71,
     "metadata": {},
     "output_type": "execute_result"
    },
    {
     "data": {
      "image/png": "[encoded data removed]",
      "text/plain": [
       "<Figure size 640x480 with 1 Axes>"
      ]
     },
     "metadata": {},
     "output_type": "display_data"
    }
   ],
   "source": [
    "sns.boxplot(df['total sulfur dioxide'])"
   ]
  },
  {
   "cell_type": "code",
   "execution_count": 72,
   "id": "ab55f8cd",
   "metadata": {},
   "outputs": [
    {
     "data": {
      "text/plain": [
       "<AxesSubplot:xlabel='density'>"
      ]
     },
     "execution_count": 72,
     "metadata": {},
     "output_type": "execute_result"
    },
    {
     "data": {
      "image/png": "[encoded data removed]",
      "text/plain": [
       "<Figure size 640x480 with 1 Axes>"
      ]
     },
     "metadata": {},
     "output_type": "display_data"
    }
   ],
   "source": [
    "sns.boxplot(df['density'])"
   ]
  },
  {
   "cell_type": "code",
   "execution_count": 74,
   "id": "5afa803b",
   "metadata": {},
   "outputs": [
    {
     "data": {
      "text/plain": [
       "<AxesSubplot:xlabel='pH'>"
      ]
     },
     "execution_count": 74,
     "metadata": {},
     "output_type": "execute_result"
    },
    {
     "data": {
      "image/png": "[encoded data removed]",
      "text/plain": [
       "<Figure size 640x480 with 1 Axes>"
      ]
     },
     "metadata": {},
     "output_type": "display_data"
    }
   ],
   "source": [
    "sns.boxplot(df['pH'])"
   ]
  },
  {
   "cell_type": "code",
   "execution_count": 75,
   "id": "55ad3f3f",
   "metadata": {},
   "outputs": [
    {
     "data": {
      "text/plain": [
       "<AxesSubplot:xlabel='sulphates'>"
      ]
     },
     "execution_count": 75,
     "metadata": {},
     "output_type": "execute_result"
    },
    {
     "data": {
      "image/png": "[encoded data removed]",
      "text/plain": [
       "<Figure size 640x480 with 1 Axes>"
      ]
     },
     "metadata": {},
     "output_type": "display_data"
    }
   ],
   "source": [
    "sns.boxplot(df['sulphates'])"
   ]
  },
  {
   "cell_type": "code",
   "execution_count": 76,
   "id": "e75f0fcb",
   "metadata": {},
   "outputs": [
    {
     "data": {
      "text/plain": [
       "<AxesSubplot:xlabel='alcohol'>"
      ]
     },
     "execution_count": 76,
     "metadata": {},
     "output_type": "execute_result"
    },
    {
     "data": {
      "image/png": "[encoded data removed]",
      "text/plain": [
       "<Figure size 640x480 with 1 Axes>"
      ]
     },
     "metadata": {},
     "output_type": "display_data"
    }
   ],
   "source": [
    "sns.boxplot(df['alcohol'])"
   ]
  },
  {
   "cell_type": "code",
   "execution_count": 77,
   "id": "40b62850",
   "metadata": {},
   "outputs": [
    {
     "data": {
      "text/plain": [
       "<AxesSubplot:xlabel='quality'>"
      ]
     },
     "execution_count": 77,
     "metadata": {},
     "output_type": "execute_result"
    },
    {
     "data": {
      "image/png": "[encoded data removed]",
      "text/plain": [
       "<Figure size 640x480 with 1 Axes>"
      ]
     },
     "metadata": {},
     "output_type": "display_data"
    }
   ],
   "source": [
    "sns.boxplot(df['quality'])"
   ]
  },
  {
   "cell_type": "code",
   "execution_count": 78,
   "id": "13bf3ce4",
   "metadata": {},
   "outputs": [
    {
     "data": {
      "text/plain": [
       "fixed acidity              AxesSubplot(0.125,0.53;0.110714x0.35)\n",
       "citric acid             AxesSubplot(0.257857,0.53;0.110714x0.35)\n",
       "residual sugar          AxesSubplot(0.390714,0.53;0.110714x0.35)\n",
       "chlorides               AxesSubplot(0.523571,0.53;0.110714x0.35)\n",
       "free sulfur dioxide     AxesSubplot(0.656429,0.53;0.110714x0.35)\n",
       "total sulfur dioxide    AxesSubplot(0.789286,0.53;0.110714x0.35)\n",
       "density                    AxesSubplot(0.125,0.11;0.110714x0.35)\n",
       "pH                      AxesSubplot(0.257857,0.11;0.110714x0.35)\n",
       "sulphates               AxesSubplot(0.390714,0.11;0.110714x0.35)\n",
       "alcohol                 AxesSubplot(0.523571,0.11;0.110714x0.35)\n",
       "quality                 AxesSubplot(0.656429,0.11;0.110714x0.35)\n",
       "dtype: object"
      ]
     },
     "execution_count": 78,
     "metadata": {},
     "output_type": "execute_result"
    },
    {
     "data": {
      "image/png": "[encoded data removed]",
      "text/plain": [
       "<Figure size 1000x1000 with 12 Axes>"
      ]
     },
     "metadata": {},
     "output_type": "display_data"
    }
   ],
   "source": [
    "df.plot(kind='box',subplots=True,layout=(2,6),figsize=(10,10))"
   ]
  },
  {
   "cell_type": "markdown",
   "id": "ec7af494",
   "metadata": {},
   "source": [
    "As we check through seaborn boxplot there are outliers present in data"
   ]
  },
  {
   "cell_type": "markdown",
   "id": "ebaa9cfb",
   "metadata": {},
   "source": [
    "Removing outliers"
   ]
  },
  {
   "cell_type": "code",
   "execution_count": 79,
   "id": "7b01ead0",
   "metadata": {},
   "outputs": [],
   "source": [
    "from scipy.stats import zscore"
   ]
  },
  {
   "cell_type": "code",
   "execution_count": 80,
   "id": "d9586630",
   "metadata": {},
   "outputs": [
    {
     "data": {
      "text/html": [
       "<div>\n",
       "<style scoped>\n",
       "    .dataframe tbody tr th:only-of-type {\n",
       "        vertical-align: middle;\n",
       "    }\n",
       "\n",
       "    .dataframe tbody tr th {\n",
       "        vertical-align: top;\n",
       "    }\n",
       "\n",
       "    .dataframe thead th {\n",
       "        text-align: right;\n",
       "    }\n",
       "</style>\n",
       "<table border=\"1\" class=\"dataframe\">\n",
       "  <thead>\n",
       "    <tr style=\"text-align: right;\">\n",
       "      <th></th>\n",
       "      <th>fixed acidity</th>\n",
       "      <th>citric acid</th>\n",
       "      <th>residual sugar</th>\n",
       "      <th>chlorides</th>\n",
       "      <th>free sulfur dioxide</th>\n",
       "      <th>total sulfur dioxide</th>\n",
       "      <th>density</th>\n",
       "      <th>pH</th>\n",
       "      <th>sulphates</th>\n",
       "      <th>alcohol</th>\n",
       "      <th>quality</th>\n",
       "    </tr>\n",
       "  </thead>\n",
       "  <tbody>\n",
       "    <tr>\n",
       "      <th>0</th>\n",
       "      <td>0.528360</td>\n",
       "      <td>1.391472</td>\n",
       "      <td>0.583150</td>\n",
       "      <td>0.218763</td>\n",
       "      <td>0.216380</td>\n",
       "      <td>0.105451</td>\n",
       "      <td>0.558274</td>\n",
       "      <td>1.288643</td>\n",
       "      <td>0.602062</td>\n",
       "      <td>0.960246</td>\n",
       "      <td>0.787823</td>\n",
       "    </tr>\n",
       "    <tr>\n",
       "      <th>1</th>\n",
       "      <td>0.298547</td>\n",
       "      <td>1.391472</td>\n",
       "      <td>0.294627</td>\n",
       "      <td>0.558443</td>\n",
       "      <td>0.981997</td>\n",
       "      <td>0.856487</td>\n",
       "      <td>0.028261</td>\n",
       "      <td>0.719933</td>\n",
       "      <td>0.266658</td>\n",
       "      <td>0.584777</td>\n",
       "      <td>0.787823</td>\n",
       "    </tr>\n",
       "    <tr>\n",
       "      <th>2</th>\n",
       "      <td>0.298547</td>\n",
       "      <td>1.186070</td>\n",
       "      <td>0.048478</td>\n",
       "      <td>0.365302</td>\n",
       "      <td>0.236350</td>\n",
       "      <td>0.550592</td>\n",
       "      <td>0.134264</td>\n",
       "      <td>0.331177</td>\n",
       "      <td>0.064774</td>\n",
       "      <td>0.584777</td>\n",
       "      <td>0.787823</td>\n",
       "    </tr>\n",
       "    <tr>\n",
       "      <th>3</th>\n",
       "      <td>1.654856</td>\n",
       "      <td>1.484154</td>\n",
       "      <td>0.583150</td>\n",
       "      <td>0.259254</td>\n",
       "      <td>0.419050</td>\n",
       "      <td>0.700003</td>\n",
       "      <td>0.664277</td>\n",
       "      <td>0.979104</td>\n",
       "      <td>0.445052</td>\n",
       "      <td>0.584777</td>\n",
       "      <td>0.450848</td>\n",
       "    </tr>\n",
       "    <tr>\n",
       "      <th>4</th>\n",
       "      <td>0.528360</td>\n",
       "      <td>1.391472</td>\n",
       "      <td>0.583150</td>\n",
       "      <td>0.218763</td>\n",
       "      <td>0.216380</td>\n",
       "      <td>0.105451</td>\n",
       "      <td>0.558274</td>\n",
       "      <td>1.288643</td>\n",
       "      <td>0.602062</td>\n",
       "      <td>0.960246</td>\n",
       "      <td>0.787823</td>\n",
       "    </tr>\n",
       "    <tr>\n",
       "      <th>...</th>\n",
       "      <td>...</td>\n",
       "      <td>...</td>\n",
       "      <td>...</td>\n",
       "      <td>...</td>\n",
       "      <td>...</td>\n",
       "      <td>...</td>\n",
       "      <td>...</td>\n",
       "      <td>...</td>\n",
       "      <td>...</td>\n",
       "      <td>...</td>\n",
       "      <td>...</td>\n",
       "    </tr>\n",
       "    <tr>\n",
       "      <th>1594</th>\n",
       "      <td>1.217796</td>\n",
       "      <td>0.980669</td>\n",
       "      <td>0.439605</td>\n",
       "      <td>0.298111</td>\n",
       "      <td>1.342336</td>\n",
       "      <td>0.260175</td>\n",
       "      <td>0.978765</td>\n",
       "      <td>0.899886</td>\n",
       "      <td>0.445052</td>\n",
       "      <td>0.072294</td>\n",
       "      <td>0.787823</td>\n",
       "    </tr>\n",
       "    <tr>\n",
       "      <th>1595</th>\n",
       "      <td>1.390155</td>\n",
       "      <td>0.877968</td>\n",
       "      <td>0.172877</td>\n",
       "      <td>0.841175</td>\n",
       "      <td>1.631100</td>\n",
       "      <td>0.469536</td>\n",
       "      <td>0.862162</td>\n",
       "      <td>1.353436</td>\n",
       "      <td>0.764320</td>\n",
       "      <td>0.729364</td>\n",
       "      <td>0.450848</td>\n",
       "    </tr>\n",
       "    <tr>\n",
       "      <th>1596</th>\n",
       "      <td>1.160343</td>\n",
       "      <td>0.723916</td>\n",
       "      <td>0.048478</td>\n",
       "      <td>0.218763</td>\n",
       "      <td>1.198644</td>\n",
       "      <td>0.125016</td>\n",
       "      <td>0.533554</td>\n",
       "      <td>0.705508</td>\n",
       "      <td>0.705056</td>\n",
       "      <td>0.541630</td>\n",
       "      <td>0.450848</td>\n",
       "    </tr>\n",
       "    <tr>\n",
       "      <th>1597</th>\n",
       "      <td>1.390155</td>\n",
       "      <td>0.775267</td>\n",
       "      <td>0.439605</td>\n",
       "      <td>0.259254</td>\n",
       "      <td>1.342336</td>\n",
       "      <td>0.260175</td>\n",
       "      <td>0.676657</td>\n",
       "      <td>1.677400</td>\n",
       "      <td>0.459825</td>\n",
       "      <td>0.209308</td>\n",
       "      <td>0.787823</td>\n",
       "    </tr>\n",
       "    <tr>\n",
       "      <th>1598</th>\n",
       "      <td>1.332702</td>\n",
       "      <td>1.021999</td>\n",
       "      <td>1.205329</td>\n",
       "      <td>0.604076</td>\n",
       "      <td>0.502483</td>\n",
       "      <td>0.194205</td>\n",
       "      <td>0.666057</td>\n",
       "      <td>0.511130</td>\n",
       "      <td>0.133086</td>\n",
       "      <td>0.541630</td>\n",
       "      <td>0.450848</td>\n",
       "    </tr>\n",
       "  </tbody>\n",
       "</table>\n",
       "<p>1599 rows × 11 columns</p>\n",
       "</div>"
      ],
      "text/plain": [
       "      fixed acidity  citric acid  residual sugar  chlorides  \\\n",
       "0          0.528360     1.391472        0.583150   0.218763   \n",
       "1          0.298547     1.391472        0.294627   0.558443   \n",
       "2          0.298547     1.186070        0.048478   0.365302   \n",
       "3          1.654856     1.484154        0.583150   0.259254   \n",
       "4          0.528360     1.391472        0.583150   0.218763   \n",
       "...             ...          ...             ...        ...   \n",
       "1594       1.217796     0.980669        0.439605   0.298111   \n",
       "1595       1.390155     0.877968        0.172877   0.841175   \n",
       "1596       1.160343     0.723916        0.048478   0.218763   \n",
       "1597       1.390155     0.775267        0.439605   0.259254   \n",
       "1598       1.332702     1.021999        1.205329   0.604076   \n",
       "\n",
       "      free sulfur dioxide  total sulfur dioxide   density        pH  \\\n",
       "0                0.216380              0.105451  0.558274  1.288643   \n",
       "1                0.981997              0.856487  0.028261  0.719933   \n",
       "2                0.236350              0.550592  0.134264  0.331177   \n",
       "3                0.419050              0.700003  0.664277  0.979104   \n",
       "4                0.216380              0.105451  0.558274  1.288643   \n",
       "...                   ...                   ...       ...       ...   \n",
       "1594             1.342336              0.260175  0.978765  0.899886   \n",
       "1595             1.631100              0.469536  0.862162  1.353436   \n",
       "1596             1.198644              0.125016  0.533554  0.705508   \n",
       "1597             1.342336              0.260175  0.676657  1.677400   \n",
       "1598             0.502483              0.194205  0.666057  0.511130   \n",
       "\n",
       "      sulphates   alcohol   quality  \n",
       "0      0.602062  0.960246  0.787823  \n",
       "1      0.266658  0.584777  0.787823  \n",
       "2      0.064774  0.584777  0.787823  \n",
       "3      0.445052  0.584777  0.450848  \n",
       "4      0.602062  0.960246  0.787823  \n",
       "...         ...       ...       ...  \n",
       "1594   0.445052  0.072294  0.787823  \n",
       "1595   0.764320  0.729364  0.450848  \n",
       "1596   0.705056  0.541630  0.450848  \n",
       "1597   0.459825  0.209308  0.787823  \n",
       "1598   0.133086  0.541630  0.450848  \n",
       "\n",
       "[1599 rows x 11 columns]"
      ]
     },
     "execution_count": 80,
     "metadata": {},
     "output_type": "execute_result"
    }
   ],
   "source": [
    "z=np.abs(zscore(df))\n",
    "z"
   ]
  },
  {
   "cell_type": "code",
   "execution_count": 81,
   "id": "dfc56d33",
   "metadata": {},
   "outputs": [
    {
     "name": "stdout",
     "output_type": "stream",
     "text": [
      "(array([  13,   17,   17,   19,   33,   42,   45,   81,   81,   83,   86,\n",
      "         91,   92,   95,  106,  106,  142,  144,  147,  151,  151,  151,\n",
      "        151,  163,  164,  169,  169,  181,  226,  226,  240,  243,  244,\n",
      "        258,  258,  274,  281,  291,  324,  325,  339,  347,  374,  381,\n",
      "        391,  396,  400,  442,  442,  451,  459,  467,  480,  480,  494,\n",
      "        517,  530,  535,  544,  554,  554,  555,  555,  557,  557,  566,\n",
      "        567,  568,  588,  595,  608,  614,  639,  649,  652,  652,  652,\n",
      "        666,  690,  692,  695,  723,  730,  754,  773,  776,  777,  821,\n",
      "        832,  836,  836,  837,  837,  889,  899,  911,  917,  923, 1017,\n",
      "       1018, 1043, 1051, 1051, 1071, 1074, 1079, 1081, 1111, 1114, 1165,\n",
      "       1186, 1235, 1244, 1260, 1269, 1269, 1270, 1270, 1299, 1300, 1316,\n",
      "       1319, 1319, 1321, 1370, 1372, 1374, 1374, 1434, 1434, 1435, 1435,\n",
      "       1469, 1474, 1474, 1476, 1476, 1478, 1505, 1558, 1570, 1574, 1589],\n",
      "      dtype=int64), array([ 8,  3,  8,  3,  2,  3,  7,  3,  8,  3,  8,  8,  8,  7,  3,  8,  9,\n",
      "        9,  3,  1,  3,  7,  8,  2,  2,  3,  8,  3,  3,  8,  3,  0,  0,  3,\n",
      "        8,  2,  3,  3,  2,  2,  8,  0,  0,  0,  0,  2,  2,  0,  6,  3, 10,\n",
      "        9,  2,  6,  2, 10,  4,  4,  0,  0,  6,  0,  6,  0,  6,  3,  3,  3,\n",
      "        9,  2,  6,  8,  8,  2,  0,  2,  9,  3, 10,  3,  7,  8,  3,  3,  4,\n",
      "        3,  3,  9, 10,  3,  6,  3,  6,  6, 10,  2,  2,  2,  6,  6,  2,  3,\n",
      "        8,  2,  2,  2,  2,  7,  6,  3,  2,  2,  2,  3,  6,  9,  6,  9, 10,\n",
      "        7,  7,  3,  8,  7,  3,  3,  3, 10,  2,  6,  2,  6, 10,  2,  6,  2,\n",
      "        6, 10, 10,  3,  3,  2,  2], dtype=int64))\n"
     ]
    }
   ],
   "source": [
    "threshold=3\n",
    "print(np.where(z>3))"
   ]
  },
  {
   "cell_type": "code",
   "execution_count": 82,
   "id": "d0bf3ec1",
   "metadata": {},
   "outputs": [],
   "source": [
    "df_new=df[(z<3).all(axis=1)]"
   ]
  },
  {
   "cell_type": "code",
   "execution_count": 83,
   "id": "d146f5d2",
   "metadata": {},
   "outputs": [
    {
     "data": {
      "text/html": [
       "<div>\n",
       "<style scoped>\n",
       "    .dataframe tbody tr th:only-of-type {\n",
       "        vertical-align: middle;\n",
       "    }\n",
       "\n",
       "    .dataframe tbody tr th {\n",
       "        vertical-align: top;\n",
       "    }\n",
       "\n",
       "    .dataframe thead th {\n",
       "        text-align: right;\n",
       "    }\n",
       "</style>\n",
       "<table border=\"1\" class=\"dataframe\">\n",
       "  <thead>\n",
       "    <tr style=\"text-align: right;\">\n",
       "      <th></th>\n",
       "      <th>fixed acidity</th>\n",
       "      <th>citric acid</th>\n",
       "      <th>residual sugar</th>\n",
       "      <th>chlorides</th>\n",
       "      <th>free sulfur dioxide</th>\n",
       "      <th>total sulfur dioxide</th>\n",
       "      <th>density</th>\n",
       "      <th>pH</th>\n",
       "      <th>sulphates</th>\n",
       "      <th>alcohol</th>\n",
       "      <th>quality</th>\n",
       "    </tr>\n",
       "  </thead>\n",
       "  <tbody>\n",
       "    <tr>\n",
       "      <th>0</th>\n",
       "      <td>7.4</td>\n",
       "      <td>0.00</td>\n",
       "      <td>0.641854</td>\n",
       "      <td>-2.577022</td>\n",
       "      <td>2.397895</td>\n",
       "      <td>3.526361</td>\n",
       "      <td>0.99780</td>\n",
       "      <td>3.51</td>\n",
       "      <td>-0.579818</td>\n",
       "      <td>9.4</td>\n",
       "      <td>5</td>\n",
       "    </tr>\n",
       "    <tr>\n",
       "      <th>1</th>\n",
       "      <td>7.8</td>\n",
       "      <td>0.00</td>\n",
       "      <td>0.955511</td>\n",
       "      <td>-2.322788</td>\n",
       "      <td>3.218876</td>\n",
       "      <td>4.204693</td>\n",
       "      <td>0.99680</td>\n",
       "      <td>3.20</td>\n",
       "      <td>-0.385662</td>\n",
       "      <td>9.8</td>\n",
       "      <td>5</td>\n",
       "    </tr>\n",
       "    <tr>\n",
       "      <th>2</th>\n",
       "      <td>7.8</td>\n",
       "      <td>0.04</td>\n",
       "      <td>0.832909</td>\n",
       "      <td>-2.385967</td>\n",
       "      <td>2.708050</td>\n",
       "      <td>3.988984</td>\n",
       "      <td>0.99700</td>\n",
       "      <td>3.26</td>\n",
       "      <td>-0.430783</td>\n",
       "      <td>9.8</td>\n",
       "      <td>5</td>\n",
       "    </tr>\n",
       "    <tr>\n",
       "      <th>3</th>\n",
       "      <td>11.2</td>\n",
       "      <td>0.56</td>\n",
       "      <td>0.641854</td>\n",
       "      <td>-2.590267</td>\n",
       "      <td>2.833213</td>\n",
       "      <td>4.094345</td>\n",
       "      <td>0.99800</td>\n",
       "      <td>3.16</td>\n",
       "      <td>-0.544727</td>\n",
       "      <td>9.8</td>\n",
       "      <td>6</td>\n",
       "    </tr>\n",
       "    <tr>\n",
       "      <th>4</th>\n",
       "      <td>7.4</td>\n",
       "      <td>0.00</td>\n",
       "      <td>0.641854</td>\n",
       "      <td>-2.577022</td>\n",
       "      <td>2.397895</td>\n",
       "      <td>3.526361</td>\n",
       "      <td>0.99780</td>\n",
       "      <td>3.51</td>\n",
       "      <td>-0.579818</td>\n",
       "      <td>9.4</td>\n",
       "      <td>5</td>\n",
       "    </tr>\n",
       "    <tr>\n",
       "      <th>...</th>\n",
       "      <td>...</td>\n",
       "      <td>...</td>\n",
       "      <td>...</td>\n",
       "      <td>...</td>\n",
       "      <td>...</td>\n",
       "      <td>...</td>\n",
       "      <td>...</td>\n",
       "      <td>...</td>\n",
       "      <td>...</td>\n",
       "      <td>...</td>\n",
       "      <td>...</td>\n",
       "    </tr>\n",
       "    <tr>\n",
       "      <th>1594</th>\n",
       "      <td>6.2</td>\n",
       "      <td>0.08</td>\n",
       "      <td>0.693147</td>\n",
       "      <td>-2.407946</td>\n",
       "      <td>3.465736</td>\n",
       "      <td>3.784190</td>\n",
       "      <td>0.99490</td>\n",
       "      <td>3.45</td>\n",
       "      <td>-0.544727</td>\n",
       "      <td>10.5</td>\n",
       "      <td>5</td>\n",
       "    </tr>\n",
       "    <tr>\n",
       "      <th>1595</th>\n",
       "      <td>5.9</td>\n",
       "      <td>0.10</td>\n",
       "      <td>0.788457</td>\n",
       "      <td>-2.780621</td>\n",
       "      <td>3.663562</td>\n",
       "      <td>3.931826</td>\n",
       "      <td>0.99512</td>\n",
       "      <td>3.52</td>\n",
       "      <td>-0.274437</td>\n",
       "      <td>11.2</td>\n",
       "      <td>6</td>\n",
       "    </tr>\n",
       "    <tr>\n",
       "      <th>1596</th>\n",
       "      <td>6.3</td>\n",
       "      <td>0.13</td>\n",
       "      <td>0.832909</td>\n",
       "      <td>-2.577022</td>\n",
       "      <td>3.367296</td>\n",
       "      <td>3.688879</td>\n",
       "      <td>0.99574</td>\n",
       "      <td>3.42</td>\n",
       "      <td>-0.287682</td>\n",
       "      <td>11.0</td>\n",
       "      <td>6</td>\n",
       "    </tr>\n",
       "    <tr>\n",
       "      <th>1597</th>\n",
       "      <td>5.9</td>\n",
       "      <td>0.12</td>\n",
       "      <td>0.693147</td>\n",
       "      <td>-2.590267</td>\n",
       "      <td>3.465736</td>\n",
       "      <td>3.784190</td>\n",
       "      <td>0.99547</td>\n",
       "      <td>3.57</td>\n",
       "      <td>-0.342490</td>\n",
       "      <td>10.2</td>\n",
       "      <td>5</td>\n",
       "    </tr>\n",
       "    <tr>\n",
       "      <th>1598</th>\n",
       "      <td>6.0</td>\n",
       "      <td>0.47</td>\n",
       "      <td>1.280934</td>\n",
       "      <td>-2.703063</td>\n",
       "      <td>2.890372</td>\n",
       "      <td>3.737670</td>\n",
       "      <td>0.99549</td>\n",
       "      <td>3.39</td>\n",
       "      <td>-0.415515</td>\n",
       "      <td>11.0</td>\n",
       "      <td>6</td>\n",
       "    </tr>\n",
       "  </tbody>\n",
       "</table>\n",
       "<p>1483 rows × 11 columns</p>\n",
       "</div>"
      ],
      "text/plain": [
       "      fixed acidity  citric acid  residual sugar  chlorides  \\\n",
       "0               7.4         0.00        0.641854  -2.577022   \n",
       "1               7.8         0.00        0.955511  -2.322788   \n",
       "2               7.8         0.04        0.832909  -2.385967   \n",
       "3              11.2         0.56        0.641854  -2.590267   \n",
       "4               7.4         0.00        0.641854  -2.577022   \n",
       "...             ...          ...             ...        ...   \n",
       "1594            6.2         0.08        0.693147  -2.407946   \n",
       "1595            5.9         0.10        0.788457  -2.780621   \n",
       "1596            6.3         0.13        0.832909  -2.577022   \n",
       "1597            5.9         0.12        0.693147  -2.590267   \n",
       "1598            6.0         0.47        1.280934  -2.703063   \n",
       "\n",
       "      free sulfur dioxide  total sulfur dioxide  density    pH  sulphates  \\\n",
       "0                2.397895              3.526361  0.99780  3.51  -0.579818   \n",
       "1                3.218876              4.204693  0.99680  3.20  -0.385662   \n",
       "2                2.708050              3.988984  0.99700  3.26  -0.430783   \n",
       "3                2.833213              4.094345  0.99800  3.16  -0.544727   \n",
       "4                2.397895              3.526361  0.99780  3.51  -0.579818   \n",
       "...                   ...                   ...      ...   ...        ...   \n",
       "1594             3.465736              3.784190  0.99490  3.45  -0.544727   \n",
       "1595             3.663562              3.931826  0.99512  3.52  -0.274437   \n",
       "1596             3.367296              3.688879  0.99574  3.42  -0.287682   \n",
       "1597             3.465736              3.784190  0.99547  3.57  -0.342490   \n",
       "1598             2.890372              3.737670  0.99549  3.39  -0.415515   \n",
       "\n",
       "      alcohol  quality  \n",
       "0         9.4        5  \n",
       "1         9.8        5  \n",
       "2         9.8        5  \n",
       "3         9.8        6  \n",
       "4         9.4        5  \n",
       "...       ...      ...  \n",
       "1594     10.5        5  \n",
       "1595     11.2        6  \n",
       "1596     11.0        6  \n",
       "1597     10.2        5  \n",
       "1598     11.0        6  \n",
       "\n",
       "[1483 rows x 11 columns]"
      ]
     },
     "execution_count": 83,
     "metadata": {},
     "output_type": "execute_result"
    }
   ],
   "source": [
    "df_new"
   ]
  },
  {
   "cell_type": "code",
   "execution_count": 84,
   "id": "d2a74929",
   "metadata": {},
   "outputs": [],
   "source": [
    "df=df_new"
   ]
  },
  {
   "cell_type": "code",
   "execution_count": 85,
   "id": "96ce9e3a",
   "metadata": {},
   "outputs": [
    {
     "data": {
      "text/html": [
       "<div>\n",
       "<style scoped>\n",
       "    .dataframe tbody tr th:only-of-type {\n",
       "        vertical-align: middle;\n",
       "    }\n",
       "\n",
       "    .dataframe tbody tr th {\n",
       "        vertical-align: top;\n",
       "    }\n",
       "\n",
       "    .dataframe thead th {\n",
       "        text-align: right;\n",
       "    }\n",
       "</style>\n",
       "<table border=\"1\" class=\"dataframe\">\n",
       "  <thead>\n",
       "    <tr style=\"text-align: right;\">\n",
       "      <th></th>\n",
       "      <th>fixed acidity</th>\n",
       "      <th>citric acid</th>\n",
       "      <th>residual sugar</th>\n",
       "      <th>chlorides</th>\n",
       "      <th>free sulfur dioxide</th>\n",
       "      <th>total sulfur dioxide</th>\n",
       "      <th>density</th>\n",
       "      <th>pH</th>\n",
       "      <th>sulphates</th>\n",
       "      <th>alcohol</th>\n",
       "      <th>quality</th>\n",
       "    </tr>\n",
       "  </thead>\n",
       "  <tbody>\n",
       "    <tr>\n",
       "      <th>0</th>\n",
       "      <td>7.4</td>\n",
       "      <td>0.00</td>\n",
       "      <td>0.641854</td>\n",
       "      <td>-2.577022</td>\n",
       "      <td>2.397895</td>\n",
       "      <td>3.526361</td>\n",
       "      <td>0.99780</td>\n",
       "      <td>3.51</td>\n",
       "      <td>-0.579818</td>\n",
       "      <td>9.4</td>\n",
       "      <td>5</td>\n",
       "    </tr>\n",
       "    <tr>\n",
       "      <th>1</th>\n",
       "      <td>7.8</td>\n",
       "      <td>0.00</td>\n",
       "      <td>0.955511</td>\n",
       "      <td>-2.322788</td>\n",
       "      <td>3.218876</td>\n",
       "      <td>4.204693</td>\n",
       "      <td>0.99680</td>\n",
       "      <td>3.20</td>\n",
       "      <td>-0.385662</td>\n",
       "      <td>9.8</td>\n",
       "      <td>5</td>\n",
       "    </tr>\n",
       "    <tr>\n",
       "      <th>2</th>\n",
       "      <td>7.8</td>\n",
       "      <td>0.04</td>\n",
       "      <td>0.832909</td>\n",
       "      <td>-2.385967</td>\n",
       "      <td>2.708050</td>\n",
       "      <td>3.988984</td>\n",
       "      <td>0.99700</td>\n",
       "      <td>3.26</td>\n",
       "      <td>-0.430783</td>\n",
       "      <td>9.8</td>\n",
       "      <td>5</td>\n",
       "    </tr>\n",
       "    <tr>\n",
       "      <th>3</th>\n",
       "      <td>11.2</td>\n",
       "      <td>0.56</td>\n",
       "      <td>0.641854</td>\n",
       "      <td>-2.590267</td>\n",
       "      <td>2.833213</td>\n",
       "      <td>4.094345</td>\n",
       "      <td>0.99800</td>\n",
       "      <td>3.16</td>\n",
       "      <td>-0.544727</td>\n",
       "      <td>9.8</td>\n",
       "      <td>6</td>\n",
       "    </tr>\n",
       "    <tr>\n",
       "      <th>4</th>\n",
       "      <td>7.4</td>\n",
       "      <td>0.00</td>\n",
       "      <td>0.641854</td>\n",
       "      <td>-2.577022</td>\n",
       "      <td>2.397895</td>\n",
       "      <td>3.526361</td>\n",
       "      <td>0.99780</td>\n",
       "      <td>3.51</td>\n",
       "      <td>-0.579818</td>\n",
       "      <td>9.4</td>\n",
       "      <td>5</td>\n",
       "    </tr>\n",
       "    <tr>\n",
       "      <th>...</th>\n",
       "      <td>...</td>\n",
       "      <td>...</td>\n",
       "      <td>...</td>\n",
       "      <td>...</td>\n",
       "      <td>...</td>\n",
       "      <td>...</td>\n",
       "      <td>...</td>\n",
       "      <td>...</td>\n",
       "      <td>...</td>\n",
       "      <td>...</td>\n",
       "      <td>...</td>\n",
       "    </tr>\n",
       "    <tr>\n",
       "      <th>1594</th>\n",
       "      <td>6.2</td>\n",
       "      <td>0.08</td>\n",
       "      <td>0.693147</td>\n",
       "      <td>-2.407946</td>\n",
       "      <td>3.465736</td>\n",
       "      <td>3.784190</td>\n",
       "      <td>0.99490</td>\n",
       "      <td>3.45</td>\n",
       "      <td>-0.544727</td>\n",
       "      <td>10.5</td>\n",
       "      <td>5</td>\n",
       "    </tr>\n",
       "    <tr>\n",
       "      <th>1595</th>\n",
       "      <td>5.9</td>\n",
       "      <td>0.10</td>\n",
       "      <td>0.788457</td>\n",
       "      <td>-2.780621</td>\n",
       "      <td>3.663562</td>\n",
       "      <td>3.931826</td>\n",
       "      <td>0.99512</td>\n",
       "      <td>3.52</td>\n",
       "      <td>-0.274437</td>\n",
       "      <td>11.2</td>\n",
       "      <td>6</td>\n",
       "    </tr>\n",
       "    <tr>\n",
       "      <th>1596</th>\n",
       "      <td>6.3</td>\n",
       "      <td>0.13</td>\n",
       "      <td>0.832909</td>\n",
       "      <td>-2.577022</td>\n",
       "      <td>3.367296</td>\n",
       "      <td>3.688879</td>\n",
       "      <td>0.99574</td>\n",
       "      <td>3.42</td>\n",
       "      <td>-0.287682</td>\n",
       "      <td>11.0</td>\n",
       "      <td>6</td>\n",
       "    </tr>\n",
       "    <tr>\n",
       "      <th>1597</th>\n",
       "      <td>5.9</td>\n",
       "      <td>0.12</td>\n",
       "      <td>0.693147</td>\n",
       "      <td>-2.590267</td>\n",
       "      <td>3.465736</td>\n",
       "      <td>3.784190</td>\n",
       "      <td>0.99547</td>\n",
       "      <td>3.57</td>\n",
       "      <td>-0.342490</td>\n",
       "      <td>10.2</td>\n",
       "      <td>5</td>\n",
       "    </tr>\n",
       "    <tr>\n",
       "      <th>1598</th>\n",
       "      <td>6.0</td>\n",
       "      <td>0.47</td>\n",
       "      <td>1.280934</td>\n",
       "      <td>-2.703063</td>\n",
       "      <td>2.890372</td>\n",
       "      <td>3.737670</td>\n",
       "      <td>0.99549</td>\n",
       "      <td>3.39</td>\n",
       "      <td>-0.415515</td>\n",
       "      <td>11.0</td>\n",
       "      <td>6</td>\n",
       "    </tr>\n",
       "  </tbody>\n",
       "</table>\n",
       "<p>1483 rows × 11 columns</p>\n",
       "</div>"
      ],
      "text/plain": [
       "      fixed acidity  citric acid  residual sugar  chlorides  \\\n",
       "0               7.4         0.00        0.641854  -2.577022   \n",
       "1               7.8         0.00        0.955511  -2.322788   \n",
       "2               7.8         0.04        0.832909  -2.385967   \n",
       "3              11.2         0.56        0.641854  -2.590267   \n",
       "4               7.4         0.00        0.641854  -2.577022   \n",
       "...             ...          ...             ...        ...   \n",
       "1594            6.2         0.08        0.693147  -2.407946   \n",
       "1595            5.9         0.10        0.788457  -2.780621   \n",
       "1596            6.3         0.13        0.832909  -2.577022   \n",
       "1597            5.9         0.12        0.693147  -2.590267   \n",
       "1598            6.0         0.47        1.280934  -2.703063   \n",
       "\n",
       "      free sulfur dioxide  total sulfur dioxide  density    pH  sulphates  \\\n",
       "0                2.397895              3.526361  0.99780  3.51  -0.579818   \n",
       "1                3.218876              4.204693  0.99680  3.20  -0.385662   \n",
       "2                2.708050              3.988984  0.99700  3.26  -0.430783   \n",
       "3                2.833213              4.094345  0.99800  3.16  -0.544727   \n",
       "4                2.397895              3.526361  0.99780  3.51  -0.579818   \n",
       "...                   ...                   ...      ...   ...        ...   \n",
       "1594             3.465736              3.784190  0.99490  3.45  -0.544727   \n",
       "1595             3.663562              3.931826  0.99512  3.52  -0.274437   \n",
       "1596             3.367296              3.688879  0.99574  3.42  -0.287682   \n",
       "1597             3.465736              3.784190  0.99547  3.57  -0.342490   \n",
       "1598             2.890372              3.737670  0.99549  3.39  -0.415515   \n",
       "\n",
       "      alcohol  quality  \n",
       "0         9.4        5  \n",
       "1         9.8        5  \n",
       "2         9.8        5  \n",
       "3         9.8        6  \n",
       "4         9.4        5  \n",
       "...       ...      ...  \n",
       "1594     10.5        5  \n",
       "1595     11.2        6  \n",
       "1596     11.0        6  \n",
       "1597     10.2        5  \n",
       "1598     11.0        6  \n",
       "\n",
       "[1483 rows x 11 columns]"
      ]
     },
     "execution_count": 85,
     "metadata": {},
     "output_type": "execute_result"
    }
   ],
   "source": [
    "df"
   ]
  },
  {
   "cell_type": "markdown",
   "id": "1bd21554",
   "metadata": {},
   "source": [
    "The data is cleared now"
   ]
  },
  {
   "cell_type": "code",
   "execution_count": 86,
   "id": "ac25e086",
   "metadata": {},
   "outputs": [],
   "source": [
    "x=df.iloc[:,0:-1]"
   ]
  },
  {
   "cell_type": "code",
   "execution_count": 87,
   "id": "0406c185",
   "metadata": {},
   "outputs": [
    {
     "data": {
      "text/plain": [
       "(1483, 10)"
      ]
     },
     "execution_count": 87,
     "metadata": {},
     "output_type": "execute_result"
    }
   ],
   "source": [
    "x.shape"
   ]
  },
  {
   "cell_type": "code",
   "execution_count": 88,
   "id": "aeb942cb",
   "metadata": {},
   "outputs": [
    {
     "data": {
      "text/html": [
       "<div>\n",
       "<style scoped>\n",
       "    .dataframe tbody tr th:only-of-type {\n",
       "        vertical-align: middle;\n",
       "    }\n",
       "\n",
       "    .dataframe tbody tr th {\n",
       "        vertical-align: top;\n",
       "    }\n",
       "\n",
       "    .dataframe thead th {\n",
       "        text-align: right;\n",
       "    }\n",
       "</style>\n",
       "<table border=\"1\" class=\"dataframe\">\n",
       "  <thead>\n",
       "    <tr style=\"text-align: right;\">\n",
       "      <th></th>\n",
       "      <th>fixed acidity</th>\n",
       "      <th>citric acid</th>\n",
       "      <th>residual sugar</th>\n",
       "      <th>chlorides</th>\n",
       "      <th>free sulfur dioxide</th>\n",
       "      <th>total sulfur dioxide</th>\n",
       "      <th>density</th>\n",
       "      <th>pH</th>\n",
       "      <th>sulphates</th>\n",
       "      <th>alcohol</th>\n",
       "    </tr>\n",
       "  </thead>\n",
       "  <tbody>\n",
       "    <tr>\n",
       "      <th>0</th>\n",
       "      <td>7.4</td>\n",
       "      <td>0.00</td>\n",
       "      <td>0.641854</td>\n",
       "      <td>-2.577022</td>\n",
       "      <td>2.397895</td>\n",
       "      <td>3.526361</td>\n",
       "      <td>0.99780</td>\n",
       "      <td>3.51</td>\n",
       "      <td>-0.579818</td>\n",
       "      <td>9.4</td>\n",
       "    </tr>\n",
       "    <tr>\n",
       "      <th>1</th>\n",
       "      <td>7.8</td>\n",
       "      <td>0.00</td>\n",
       "      <td>0.955511</td>\n",
       "      <td>-2.322788</td>\n",
       "      <td>3.218876</td>\n",
       "      <td>4.204693</td>\n",
       "      <td>0.99680</td>\n",
       "      <td>3.20</td>\n",
       "      <td>-0.385662</td>\n",
       "      <td>9.8</td>\n",
       "    </tr>\n",
       "    <tr>\n",
       "      <th>2</th>\n",
       "      <td>7.8</td>\n",
       "      <td>0.04</td>\n",
       "      <td>0.832909</td>\n",
       "      <td>-2.385967</td>\n",
       "      <td>2.708050</td>\n",
       "      <td>3.988984</td>\n",
       "      <td>0.99700</td>\n",
       "      <td>3.26</td>\n",
       "      <td>-0.430783</td>\n",
       "      <td>9.8</td>\n",
       "    </tr>\n",
       "    <tr>\n",
       "      <th>3</th>\n",
       "      <td>11.2</td>\n",
       "      <td>0.56</td>\n",
       "      <td>0.641854</td>\n",
       "      <td>-2.590267</td>\n",
       "      <td>2.833213</td>\n",
       "      <td>4.094345</td>\n",
       "      <td>0.99800</td>\n",
       "      <td>3.16</td>\n",
       "      <td>-0.544727</td>\n",
       "      <td>9.8</td>\n",
       "    </tr>\n",
       "    <tr>\n",
       "      <th>4</th>\n",
       "      <td>7.4</td>\n",
       "      <td>0.00</td>\n",
       "      <td>0.641854</td>\n",
       "      <td>-2.577022</td>\n",
       "      <td>2.397895</td>\n",
       "      <td>3.526361</td>\n",
       "      <td>0.99780</td>\n",
       "      <td>3.51</td>\n",
       "      <td>-0.579818</td>\n",
       "      <td>9.4</td>\n",
       "    </tr>\n",
       "    <tr>\n",
       "      <th>...</th>\n",
       "      <td>...</td>\n",
       "      <td>...</td>\n",
       "      <td>...</td>\n",
       "      <td>...</td>\n",
       "      <td>...</td>\n",
       "      <td>...</td>\n",
       "      <td>...</td>\n",
       "      <td>...</td>\n",
       "      <td>...</td>\n",
       "      <td>...</td>\n",
       "    </tr>\n",
       "    <tr>\n",
       "      <th>1594</th>\n",
       "      <td>6.2</td>\n",
       "      <td>0.08</td>\n",
       "      <td>0.693147</td>\n",
       "      <td>-2.407946</td>\n",
       "      <td>3.465736</td>\n",
       "      <td>3.784190</td>\n",
       "      <td>0.99490</td>\n",
       "      <td>3.45</td>\n",
       "      <td>-0.544727</td>\n",
       "      <td>10.5</td>\n",
       "    </tr>\n",
       "    <tr>\n",
       "      <th>1595</th>\n",
       "      <td>5.9</td>\n",
       "      <td>0.10</td>\n",
       "      <td>0.788457</td>\n",
       "      <td>-2.780621</td>\n",
       "      <td>3.663562</td>\n",
       "      <td>3.931826</td>\n",
       "      <td>0.99512</td>\n",
       "      <td>3.52</td>\n",
       "      <td>-0.274437</td>\n",
       "      <td>11.2</td>\n",
       "    </tr>\n",
       "    <tr>\n",
       "      <th>1596</th>\n",
       "      <td>6.3</td>\n",
       "      <td>0.13</td>\n",
       "      <td>0.832909</td>\n",
       "      <td>-2.577022</td>\n",
       "      <td>3.367296</td>\n",
       "      <td>3.688879</td>\n",
       "      <td>0.99574</td>\n",
       "      <td>3.42</td>\n",
       "      <td>-0.287682</td>\n",
       "      <td>11.0</td>\n",
       "    </tr>\n",
       "    <tr>\n",
       "      <th>1597</th>\n",
       "      <td>5.9</td>\n",
       "      <td>0.12</td>\n",
       "      <td>0.693147</td>\n",
       "      <td>-2.590267</td>\n",
       "      <td>3.465736</td>\n",
       "      <td>3.784190</td>\n",
       "      <td>0.99547</td>\n",
       "      <td>3.57</td>\n",
       "      <td>-0.342490</td>\n",
       "      <td>10.2</td>\n",
       "    </tr>\n",
       "    <tr>\n",
       "      <th>1598</th>\n",
       "      <td>6.0</td>\n",
       "      <td>0.47</td>\n",
       "      <td>1.280934</td>\n",
       "      <td>-2.703063</td>\n",
       "      <td>2.890372</td>\n",
       "      <td>3.737670</td>\n",
       "      <td>0.99549</td>\n",
       "      <td>3.39</td>\n",
       "      <td>-0.415515</td>\n",
       "      <td>11.0</td>\n",
       "    </tr>\n",
       "  </tbody>\n",
       "</table>\n",
       "<p>1483 rows × 10 columns</p>\n",
       "</div>"
      ],
      "text/plain": [
       "      fixed acidity  citric acid  residual sugar  chlorides  \\\n",
       "0               7.4         0.00        0.641854  -2.577022   \n",
       "1               7.8         0.00        0.955511  -2.322788   \n",
       "2               7.8         0.04        0.832909  -2.385967   \n",
       "3              11.2         0.56        0.641854  -2.590267   \n",
       "4               7.4         0.00        0.641854  -2.577022   \n",
       "...             ...          ...             ...        ...   \n",
       "1594            6.2         0.08        0.693147  -2.407946   \n",
       "1595            5.9         0.10        0.788457  -2.780621   \n",
       "1596            6.3         0.13        0.832909  -2.577022   \n",
       "1597            5.9         0.12        0.693147  -2.590267   \n",
       "1598            6.0         0.47        1.280934  -2.703063   \n",
       "\n",
       "      free sulfur dioxide  total sulfur dioxide  density    pH  sulphates  \\\n",
       "0                2.397895              3.526361  0.99780  3.51  -0.579818   \n",
       "1                3.218876              4.204693  0.99680  3.20  -0.385662   \n",
       "2                2.708050              3.988984  0.99700  3.26  -0.430783   \n",
       "3                2.833213              4.094345  0.99800  3.16  -0.544727   \n",
       "4                2.397895              3.526361  0.99780  3.51  -0.579818   \n",
       "...                   ...                   ...      ...   ...        ...   \n",
       "1594             3.465736              3.784190  0.99490  3.45  -0.544727   \n",
       "1595             3.663562              3.931826  0.99512  3.52  -0.274437   \n",
       "1596             3.367296              3.688879  0.99574  3.42  -0.287682   \n",
       "1597             3.465736              3.784190  0.99547  3.57  -0.342490   \n",
       "1598             2.890372              3.737670  0.99549  3.39  -0.415515   \n",
       "\n",
       "      alcohol  \n",
       "0         9.4  \n",
       "1         9.8  \n",
       "2         9.8  \n",
       "3         9.8  \n",
       "4         9.4  \n",
       "...       ...  \n",
       "1594     10.5  \n",
       "1595     11.2  \n",
       "1596     11.0  \n",
       "1597     10.2  \n",
       "1598     11.0  \n",
       "\n",
       "[1483 rows x 10 columns]"
      ]
     },
     "execution_count": 88,
     "metadata": {},
     "output_type": "execute_result"
    }
   ],
   "source": [
    "x"
   ]
  },
  {
   "cell_type": "code",
   "execution_count": 89,
   "id": "419f91a3",
   "metadata": {},
   "outputs": [],
   "source": [
    "y=df.iloc[:,-1]"
   ]
  },
  {
   "cell_type": "code",
   "execution_count": 90,
   "id": "c2b4fa3d",
   "metadata": {},
   "outputs": [
    {
     "data": {
      "text/plain": [
       "(1483,)"
      ]
     },
     "execution_count": 90,
     "metadata": {},
     "output_type": "execute_result"
    }
   ],
   "source": [
    "y.shape"
   ]
  },
  {
   "cell_type": "code",
   "execution_count": 91,
   "id": "a8360c50",
   "metadata": {},
   "outputs": [
    {
     "data": {
      "text/plain": [
       "0       5\n",
       "1       5\n",
       "2       5\n",
       "3       6\n",
       "4       5\n",
       "       ..\n",
       "1594    5\n",
       "1595    6\n",
       "1596    6\n",
       "1597    5\n",
       "1598    6\n",
       "Name: quality, Length: 1483, dtype: int64"
      ]
     },
     "execution_count": 91,
     "metadata": {},
     "output_type": "execute_result"
    }
   ],
   "source": [
    "y"
   ]
  },
  {
   "cell_type": "code",
   "execution_count": 181,
   "id": "cc758920",
   "metadata": {},
   "outputs": [],
   "source": [
    "xtrain,xtest,ytrain,ytest=train_test_split(x,y,test_size=.30,random_state=48)"
   ]
  },
  {
   "cell_type": "code",
   "execution_count": 182,
   "id": "4da90a48",
   "metadata": {},
   "outputs": [
    {
     "data": {
      "text/plain": [
       "(1038, 10)"
      ]
     },
     "execution_count": 182,
     "metadata": {},
     "output_type": "execute_result"
    }
   ],
   "source": [
    "xtrain.shape"
   ]
  },
  {
   "cell_type": "code",
   "execution_count": 183,
   "id": "19887a21",
   "metadata": {},
   "outputs": [
    {
     "data": {
      "text/plain": [
       "(1038,)"
      ]
     },
     "execution_count": 183,
     "metadata": {},
     "output_type": "execute_result"
    }
   ],
   "source": [
    "ytrain.shape"
   ]
  },
  {
   "cell_type": "code",
   "execution_count": 184,
   "id": "d4871c40",
   "metadata": {},
   "outputs": [],
   "source": [
    "lg=LinearRegression()"
   ]
  },
  {
   "cell_type": "code",
   "execution_count": 185,
   "id": "09b43351",
   "metadata": {},
   "outputs": [
    {
     "data": {
      "text/plain": [
       "LinearRegression()"
      ]
     },
     "execution_count": 185,
     "metadata": {},
     "output_type": "execute_result"
    }
   ],
   "source": [
    "lg"
   ]
  },
  {
   "cell_type": "code",
   "execution_count": 186,
   "id": "023a34b0",
   "metadata": {},
   "outputs": [
    {
     "data": {
      "text/plain": [
       "LinearRegression()"
      ]
     },
     "execution_count": 186,
     "metadata": {},
     "output_type": "execute_result"
    }
   ],
   "source": [
    "lg.fit(xtrain,ytrain)"
   ]
  },
  {
   "cell_type": "code",
   "execution_count": 187,
   "id": "a9d96468",
   "metadata": {},
   "outputs": [
    {
     "data": {
      "text/plain": [
       "0.36215608519502696"
      ]
     },
     "execution_count": 187,
     "metadata": {},
     "output_type": "execute_result"
    }
   ],
   "source": [
    "lg.score(xtrain,ytrain)"
   ]
  },
  {
   "cell_type": "code",
   "execution_count": 188,
   "id": "bce3d874",
   "metadata": {},
   "outputs": [
    {
     "data": {
      "text/plain": [
       "array([  0.03923928,   0.17235073,  -0.0639669 ,  -0.20693056,\n",
       "         0.20143354,  -0.22434881, -21.67442343,  -0.56497512,\n",
       "         0.895673  ,   0.30777739])"
      ]
     },
     "execution_count": 188,
     "metadata": {},
     "output_type": "execute_result"
    }
   ],
   "source": [
    "lg.coef_"
   ]
  },
  {
   "cell_type": "code",
   "execution_count": 189,
   "id": "222064de",
   "metadata": {},
   "outputs": [
    {
     "data": {
      "text/plain": [
       "25.77309692950218"
      ]
     },
     "execution_count": 189,
     "metadata": {},
     "output_type": "execute_result"
    }
   ],
   "source": [
    "lg.intercept_"
   ]
  },
  {
   "cell_type": "code",
   "execution_count": 190,
   "id": "9b6f1315",
   "metadata": {},
   "outputs": [],
   "source": [
    "pred=lg.predict(xtest)"
   ]
  },
  {
   "cell_type": "code",
   "execution_count": 191,
   "id": "14653f39",
   "metadata": {},
   "outputs": [
    {
     "name": "stdout",
     "output_type": "stream",
     "text": [
      "error\n",
      "Mean squared error =  0.38002323218797246\n",
      "Mean absolute error =  0.478683932635316\n",
      "Root mean squared error =  0.616460243801636\n"
     ]
    }
   ],
   "source": [
    "print(\"error\")\n",
    "print(\"Mean squared error = \",mean_squared_error(ytest,pred))\n",
    "print(\"Mean absolute error = \",mean_absolute_error(ytest,pred))\n",
    "print(\"Root mean squared error = \",np.sqrt(mean_squared_error(ytest,pred)))"
   ]
  },
  {
   "cell_type": "code",
   "execution_count": 192,
   "id": "871f75f2",
   "metadata": {},
   "outputs": [],
   "source": [
    "lo=LogisticRegression()"
   ]
  },
  {
   "cell_type": "code",
   "execution_count": 193,
   "id": "26e084bd",
   "metadata": {},
   "outputs": [
    {
     "data": {
      "text/plain": [
       "LogisticRegression()"
      ]
     },
     "execution_count": 193,
     "metadata": {},
     "output_type": "execute_result"
    }
   ],
   "source": [
    "lo"
   ]
  },
  {
   "cell_type": "code",
   "execution_count": 194,
   "id": "16674e71",
   "metadata": {},
   "outputs": [
    {
     "data": {
      "text/plain": [
       "LogisticRegression()"
      ]
     },
     "execution_count": 194,
     "metadata": {},
     "output_type": "execute_result"
    }
   ],
   "source": [
    "lo.fit(xtrain,ytrain)"
   ]
  },
  {
   "cell_type": "code",
   "execution_count": 195,
   "id": "c71f1c64",
   "metadata": {},
   "outputs": [
    {
     "data": {
      "text/plain": [
       "0.6078998073217726"
      ]
     },
     "execution_count": 195,
     "metadata": {},
     "output_type": "execute_result"
    }
   ],
   "source": [
    "lo.score(xtrain,ytrain)"
   ]
  },
  {
   "cell_type": "code",
   "execution_count": 196,
   "id": "c3af7232",
   "metadata": {},
   "outputs": [],
   "source": [
    "lpred=lo.predict(xtest)"
   ]
  },
  {
   "cell_type": "code",
   "execution_count": 197,
   "id": "a17cafd1",
   "metadata": {},
   "outputs": [
    {
     "name": "stdout",
     "output_type": "stream",
     "text": [
      "0.6134831460674157\n"
     ]
    }
   ],
   "source": [
    "print(accuracy_score(ytest,lpred))"
   ]
  },
  {
   "cell_type": "code",
   "execution_count": 198,
   "id": "c3c1a8ab",
   "metadata": {},
   "outputs": [
    {
     "name": "stdout",
     "output_type": "stream",
     "text": [
      "[[  0   6   5   0   0]\n",
      " [  0 151  46   0   0]\n",
      " [  0  65 106   8   0]\n",
      " [  0   2  33  16   0]\n",
      " [  0   0   5   2   0]]\n"
     ]
    }
   ],
   "source": [
    "print(confusion_matrix(ytest,lpred))"
   ]
  },
  {
   "cell_type": "code",
   "execution_count": 210,
   "id": "dbfbc1a7",
   "metadata": {},
   "outputs": [
    {
     "name": "stdout",
     "output_type": "stream",
     "text": [
      "              precision    recall  f1-score   support\n",
      "\n",
      "           4       0.00      0.00      0.00        11\n",
      "           5       0.67      0.77      0.72       197\n",
      "           6       0.54      0.59      0.57       179\n",
      "           7       0.62      0.31      0.42        51\n",
      "           8       0.00      0.00      0.00         7\n",
      "\n",
      "    accuracy                           0.61       445\n",
      "   macro avg       0.37      0.33      0.34       445\n",
      "weighted avg       0.59      0.61      0.59       445\n",
      "\n"
     ]
    }
   ],
   "source": [
    "print(classification_report(ytest,lpred))"
   ]
  },
  {
   "cell_type": "code",
   "execution_count": 211,
   "id": "cb073191",
   "metadata": {},
   "outputs": [],
   "source": [
    "from sklearn.preprocessing import StandardScaler"
   ]
  },
  {
   "cell_type": "code",
   "execution_count": 212,
   "id": "7a2200ac",
   "metadata": {},
   "outputs": [],
   "source": [
    "ss=StandardScaler()"
   ]
  },
  {
   "cell_type": "code",
   "execution_count": 213,
   "id": "1d961766",
   "metadata": {},
   "outputs": [
    {
     "data": {
      "text/plain": [
       "StandardScaler()"
      ]
     },
     "execution_count": 213,
     "metadata": {},
     "output_type": "execute_result"
    }
   ],
   "source": [
    "ss"
   ]
  },
  {
   "cell_type": "code",
   "execution_count": 218,
   "id": "9d29ae14",
   "metadata": {},
   "outputs": [],
   "source": [
    "x_t=ss.fit_transform(x)"
   ]
  },
  {
   "cell_type": "code",
   "execution_count": 219,
   "id": "f0627446",
   "metadata": {},
   "outputs": [
    {
     "data": {
      "text/plain": [
       "array([[-0.54822044, -1.38819452, -0.62461286, ...,  1.37387497,\n",
       "        -0.60193435, -1.00025406],\n",
       "       [-0.30524049, -1.38819452,  0.44318059, ..., -0.81937296,\n",
       "         0.37119674, -0.60787825],\n",
       "       [-0.30524049, -1.1783166 ,  0.02580198, ..., -0.39487336,\n",
       "         0.1450482 , -0.60787825],\n",
       "       ...,\n",
       "       [-1.21641531, -0.70609129,  0.02580198, ...,  0.73712557,\n",
       "         0.86228521,  0.5692492 ],\n",
       "       [-1.45939526, -0.75856077, -0.44999362, ...,  1.79837457,\n",
       "         0.58758036, -0.21550243],\n",
       "       [-1.39865028,  1.07787098,  1.55102543, ...,  0.52487577,\n",
       "         0.22157043,  0.5692492 ]])"
      ]
     },
     "execution_count": 219,
     "metadata": {},
     "output_type": "execute_result"
    }
   ],
   "source": [
    "x_t"
   ]
  },
  {
   "cell_type": "code",
   "execution_count": 220,
   "id": "e0658bae",
   "metadata": {},
   "outputs": [
    {
     "data": {
      "text/plain": [
       "-5.7495029191646675e-18"
      ]
     },
     "execution_count": 220,
     "metadata": {},
     "output_type": "execute_result"
    }
   ],
   "source": [
    "x_t.mean()"
   ]
  },
  {
   "cell_type": "code",
   "execution_count": 221,
   "id": "fd31bc1d",
   "metadata": {},
   "outputs": [
    {
     "data": {
      "text/plain": [
       "1.0"
      ]
     },
     "execution_count": 221,
     "metadata": {},
     "output_type": "execute_result"
    }
   ],
   "source": [
    "x_t.std()"
   ]
  },
  {
   "cell_type": "code",
   "execution_count": 222,
   "id": "b52ea18d",
   "metadata": {},
   "outputs": [
    {
     "data": {
      "text/plain": [
       "(1483, 10)"
      ]
     },
     "execution_count": 222,
     "metadata": {},
     "output_type": "execute_result"
    }
   ],
   "source": [
    "x_t.shape"
   ]
  },
  {
   "cell_type": "code",
   "execution_count": 223,
   "id": "63e89e76",
   "metadata": {},
   "outputs": [
    {
     "data": {
      "text/plain": [
       "0       5\n",
       "1       5\n",
       "2       5\n",
       "3       6\n",
       "4       5\n",
       "       ..\n",
       "1594    5\n",
       "1595    6\n",
       "1596    6\n",
       "1597    5\n",
       "1598    6\n",
       "Name: quality, Length: 1483, dtype: int64"
      ]
     },
     "execution_count": 223,
     "metadata": {},
     "output_type": "execute_result"
    }
   ],
   "source": [
    "y"
   ]
  },
  {
   "cell_type": "code",
   "execution_count": 224,
   "id": "01337b8e",
   "metadata": {},
   "outputs": [],
   "source": [
    "x=x_t"
   ]
  },
  {
   "cell_type": "code",
   "execution_count": 225,
   "id": "63fdeeac",
   "metadata": {},
   "outputs": [
    {
     "data": {
      "text/plain": [
       "(1483, 10)"
      ]
     },
     "execution_count": 225,
     "metadata": {},
     "output_type": "execute_result"
    }
   ],
   "source": [
    "x.shape"
   ]
  },
  {
   "cell_type": "code",
   "execution_count": 226,
   "id": "aa7914a4",
   "metadata": {},
   "outputs": [],
   "source": [
    "xtrain,xtest,ytrain,ytest=train_test_split(x,y,test_size=.33,random_state=42)"
   ]
  },
  {
   "cell_type": "code",
   "execution_count": 227,
   "id": "1469a160",
   "metadata": {},
   "outputs": [
    {
     "data": {
      "text/plain": [
       "array([[-0.91269037, -1.28325556, -0.28389586, ...,  0.24187604,\n",
       "        -0.0917884 , -0.01931452],\n",
       "       [-0.60896543, -0.28633546, -0.44999362, ...,  0.10037617,\n",
       "        -1.48007633, -0.90216011],\n",
       "       [-0.66971042, -0.02398807, -0.44999362, ..., -0.39487336,\n",
       "        -0.97337158, -0.50978429],\n",
       "       ...,\n",
       "       [ 0.78816929,  1.34021838, -0.12552644, ...,  0.31262597,\n",
       "         0.92867173,  1.94256456],\n",
       "       [-1.39865028, -0.33880494,  0.1706889 , ...,  1.8691245 ,\n",
       "         0.29694191,  2.04065852],\n",
       "       [-0.06226054,  0.23835932, -0.62461286, ..., -0.53637323,\n",
       "         0.44436751,  0.17687339]])"
      ]
     },
     "execution_count": 227,
     "metadata": {},
     "output_type": "execute_result"
    }
   ],
   "source": [
    "xtrain"
   ]
  },
  {
   "cell_type": "code",
   "execution_count": 228,
   "id": "a01ade48",
   "metadata": {},
   "outputs": [
    {
     "data": {
      "text/plain": [
       "1210    6\n",
       "176     5\n",
       "1375    5\n",
       "696     6\n",
       "490     6\n",
       "       ..\n",
       "1222    6\n",
       "1399    6\n",
       "940     7\n",
       "1573    6\n",
       "1218    6\n",
       "Name: quality, Length: 993, dtype: int64"
      ]
     },
     "execution_count": 228,
     "metadata": {},
     "output_type": "execute_result"
    }
   ],
   "source": [
    "ytrain"
   ]
  },
  {
   "cell_type": "code",
   "execution_count": 229,
   "id": "27b280f8",
   "metadata": {},
   "outputs": [
    {
     "data": {
      "text/plain": [
       "LinearRegression()"
      ]
     },
     "execution_count": 229,
     "metadata": {},
     "output_type": "execute_result"
    }
   ],
   "source": [
    "lg.fit(xtrain,ytrain)"
   ]
  },
  {
   "cell_type": "code",
   "execution_count": 230,
   "id": "b0b74b26",
   "metadata": {},
   "outputs": [
    {
     "data": {
      "text/plain": [
       "0.3456385688451423"
      ]
     },
     "execution_count": 230,
     "metadata": {},
     "output_type": "execute_result"
    }
   ],
   "source": [
    "lg.score(xtrain,ytrain)"
   ]
  },
  {
   "cell_type": "code",
   "execution_count": 231,
   "id": "568eb397",
   "metadata": {},
   "outputs": [],
   "source": [
    "pred_n=lg.predict(xtest)"
   ]
  },
  {
   "cell_type": "code",
   "execution_count": 232,
   "id": "1d977189",
   "metadata": {},
   "outputs": [
    {
     "name": "stdout",
     "output_type": "stream",
     "text": [
      "error\n",
      "Mean squared error =  0.410313380185191\n",
      "Mean absolute error =  0.5049006102358784\n",
      "Root mean squared error =  0.6405570858129593\n"
     ]
    }
   ],
   "source": [
    "print(\"error\")\n",
    "print(\"Mean squared error = \",mean_squared_error(ytest,pred_n))\n",
    "print(\"Mean absolute error = \",mean_absolute_error(ytest,pred_n))\n",
    "print(\"Root mean squared error = \",np.sqrt(mean_squared_error(ytest,pred_n)))"
   ]
  },
  {
   "cell_type": "code",
   "execution_count": 246,
   "id": "61b610f7",
   "metadata": {},
   "outputs": [],
   "source": [
    "#now lets take the some data just to check the output\n",
    "p=np.array([7.4,0.00,1.9,0.076,11.0,34.0,0.9978,3.51,0.56,9.4])"
   ]
  },
  {
   "cell_type": "code",
   "execution_count": 247,
   "id": "1d8ddce0",
   "metadata": {},
   "outputs": [
    {
     "data": {
      "text/plain": [
       "(10,)"
      ]
     },
     "execution_count": 247,
     "metadata": {},
     "output_type": "execute_result"
    }
   ],
   "source": [
    "p.shape"
   ]
  },
  {
   "cell_type": "code",
   "execution_count": 248,
   "id": "858d65b4",
   "metadata": {},
   "outputs": [],
   "source": [
    "p=p.reshape(1,-1)"
   ]
  },
  {
   "cell_type": "code",
   "execution_count": 249,
   "id": "4e0434ca",
   "metadata": {},
   "outputs": [
    {
     "data": {
      "text/plain": [
       "(1, 10)"
      ]
     },
     "execution_count": 249,
     "metadata": {},
     "output_type": "execute_result"
    }
   ],
   "source": [
    "p.shape"
   ]
  },
  {
   "cell_type": "code",
   "execution_count": 250,
   "id": "050e6079",
   "metadata": {},
   "outputs": [
    {
     "data": {
      "text/plain": [
       "array([5], dtype=int64)"
      ]
     },
     "execution_count": 250,
     "metadata": {},
     "output_type": "execute_result"
    }
   ],
   "source": [
    "lo.predict(p)"
   ]
  },
  {
   "cell_type": "code",
   "execution_count": null,
   "id": "9d94a23e",
   "metadata": {},
   "outputs": [],
   "source": [
    "#hence the quality of red wine is 5"
   ]
  },
  {
   "cell_type": "code",
   "execution_count": null,
   "id": "9283e9ab",
   "metadata": {},
   "outputs": [],
   "source": []
  }
 ],
 "metadata": {
  "kernelspec": {
   "display_name": "Python 3 (ipykernel)",
   "language": "python",
   "name": "python3"
  },
  "language_info": {
   "codemirror_mode": {
    "name": "ipython",
    "version": 3
   },
   "file_extension": ".py",
   "mimetype": "text/x-python",
   "name": "python",
   "nbconvert_exporter": "python",
   "pygments_lexer": "ipython3",
   "version": "3.9.13"
  }
 },
 "nbformat": 4,
 "nbformat_minor": 5
}
