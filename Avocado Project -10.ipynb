{
 "cells": [
  {
   "cell_type": "code",
   "execution_count": 225,
   "id": "3ef32ead",
   "metadata": {},
   "outputs": [],
   "source": [
    "import pandas as pd\n",
    "import numpy as np\n",
    "import scipy\n",
    "import matplotlib.pyplot as plt\n",
    "import seaborn as sns\n",
    "import sklearn\n",
    "\n",
    "from sklearn.linear_model import LinearRegression,LogisticRegression\n",
    "from sklearn.svm import SVC\n",
    "from sklearn.neighbors import KNeighborsClassifier\n",
    "from sklearn.tree import DecisionTreeClassifier\n",
    "from sklearn.naive_bayes import GaussianNB,MultinomialNB\n",
    "from sklearn.metrics import mean_squared_error,mean_absolute_error,accuracy_score,confusion_matrix,classification_report\n",
    "from sklearn.model_selection import train_test_split\n",
    "\n",
    "\n",
    "import warnings\n",
    "warnings.filterwarnings('ignore')"
   ]
  },
  {
   "cell_type": "code",
   "execution_count": 2,
   "id": "fdc7882b",
   "metadata": {},
   "outputs": [],
   "source": [
    "data=pd.read_csv(\"avocado.csv\")"
   ]
  },
  {
   "cell_type": "code",
   "execution_count": 3,
   "id": "e897ffed",
   "metadata": {},
   "outputs": [
    {
     "data": {
      "text/html": [
       "<div>\n",
       "<style scoped>\n",
       "    .dataframe tbody tr th:only-of-type {\n",
       "        vertical-align: middle;\n",
       "    }\n",
       "\n",
       "    .dataframe tbody tr th {\n",
       "        vertical-align: top;\n",
       "    }\n",
       "\n",
       "    .dataframe thead th {\n",
       "        text-align: right;\n",
       "    }\n",
       "</style>\n",
       "<table border=\"1\" class=\"dataframe\">\n",
       "  <thead>\n",
       "    <tr style=\"text-align: right;\">\n",
       "      <th></th>\n",
       "      <th>Date</th>\n",
       "      <th>AveragePrice</th>\n",
       "      <th>Total Volume</th>\n",
       "      <th>4046</th>\n",
       "      <th>4225</th>\n",
       "      <th>4770</th>\n",
       "      <th>Total Bags</th>\n",
       "      <th>Small Bags</th>\n",
       "      <th>Large Bags</th>\n",
       "      <th>XLarge Bags</th>\n",
       "      <th>type</th>\n",
       "      <th>year</th>\n",
       "      <th>region</th>\n",
       "    </tr>\n",
       "  </thead>\n",
       "  <tbody>\n",
       "    <tr>\n",
       "      <th>0</th>\n",
       "      <td>2015-12-27</td>\n",
       "      <td>1.33</td>\n",
       "      <td>64236.62</td>\n",
       "      <td>1036.74</td>\n",
       "      <td>54454.85</td>\n",
       "      <td>48.16</td>\n",
       "      <td>8696.87</td>\n",
       "      <td>8603.62</td>\n",
       "      <td>93.25</td>\n",
       "      <td>0.0</td>\n",
       "      <td>conventional</td>\n",
       "      <td>2015</td>\n",
       "      <td>Albany</td>\n",
       "    </tr>\n",
       "    <tr>\n",
       "      <th>1</th>\n",
       "      <td>2015-12-20</td>\n",
       "      <td>1.35</td>\n",
       "      <td>54876.98</td>\n",
       "      <td>674.28</td>\n",
       "      <td>44638.81</td>\n",
       "      <td>58.33</td>\n",
       "      <td>9505.56</td>\n",
       "      <td>9408.07</td>\n",
       "      <td>97.49</td>\n",
       "      <td>0.0</td>\n",
       "      <td>conventional</td>\n",
       "      <td>2015</td>\n",
       "      <td>Albany</td>\n",
       "    </tr>\n",
       "    <tr>\n",
       "      <th>2</th>\n",
       "      <td>2015-12-13</td>\n",
       "      <td>0.93</td>\n",
       "      <td>118220.22</td>\n",
       "      <td>794.70</td>\n",
       "      <td>109149.67</td>\n",
       "      <td>130.50</td>\n",
       "      <td>8145.35</td>\n",
       "      <td>8042.21</td>\n",
       "      <td>103.14</td>\n",
       "      <td>0.0</td>\n",
       "      <td>conventional</td>\n",
       "      <td>2015</td>\n",
       "      <td>Albany</td>\n",
       "    </tr>\n",
       "    <tr>\n",
       "      <th>3</th>\n",
       "      <td>2015-12-06</td>\n",
       "      <td>1.08</td>\n",
       "      <td>78992.15</td>\n",
       "      <td>1132.00</td>\n",
       "      <td>71976.41</td>\n",
       "      <td>72.58</td>\n",
       "      <td>5811.16</td>\n",
       "      <td>5677.40</td>\n",
       "      <td>133.76</td>\n",
       "      <td>0.0</td>\n",
       "      <td>conventional</td>\n",
       "      <td>2015</td>\n",
       "      <td>Albany</td>\n",
       "    </tr>\n",
       "    <tr>\n",
       "      <th>4</th>\n",
       "      <td>2015-11-29</td>\n",
       "      <td>1.28</td>\n",
       "      <td>51039.60</td>\n",
       "      <td>941.48</td>\n",
       "      <td>43838.39</td>\n",
       "      <td>75.78</td>\n",
       "      <td>6183.95</td>\n",
       "      <td>5986.26</td>\n",
       "      <td>197.69</td>\n",
       "      <td>0.0</td>\n",
       "      <td>conventional</td>\n",
       "      <td>2015</td>\n",
       "      <td>Albany</td>\n",
       "    </tr>\n",
       "    <tr>\n",
       "      <th>...</th>\n",
       "      <td>...</td>\n",
       "      <td>...</td>\n",
       "      <td>...</td>\n",
       "      <td>...</td>\n",
       "      <td>...</td>\n",
       "      <td>...</td>\n",
       "      <td>...</td>\n",
       "      <td>...</td>\n",
       "      <td>...</td>\n",
       "      <td>...</td>\n",
       "      <td>...</td>\n",
       "      <td>...</td>\n",
       "      <td>...</td>\n",
       "    </tr>\n",
       "    <tr>\n",
       "      <th>7</th>\n",
       "      <td>2018-02-04</td>\n",
       "      <td>1.63</td>\n",
       "      <td>17074.83</td>\n",
       "      <td>2046.96</td>\n",
       "      <td>1529.20</td>\n",
       "      <td>0.00</td>\n",
       "      <td>13498.67</td>\n",
       "      <td>13066.82</td>\n",
       "      <td>431.85</td>\n",
       "      <td>0.0</td>\n",
       "      <td>organic</td>\n",
       "      <td>2018</td>\n",
       "      <td>WestTexNewMexico</td>\n",
       "    </tr>\n",
       "    <tr>\n",
       "      <th>8</th>\n",
       "      <td>2018-01-28</td>\n",
       "      <td>1.71</td>\n",
       "      <td>13888.04</td>\n",
       "      <td>1191.70</td>\n",
       "      <td>3431.50</td>\n",
       "      <td>0.00</td>\n",
       "      <td>9264.84</td>\n",
       "      <td>8940.04</td>\n",
       "      <td>324.80</td>\n",
       "      <td>0.0</td>\n",
       "      <td>organic</td>\n",
       "      <td>2018</td>\n",
       "      <td>WestTexNewMexico</td>\n",
       "    </tr>\n",
       "    <tr>\n",
       "      <th>9</th>\n",
       "      <td>2018-01-21</td>\n",
       "      <td>1.87</td>\n",
       "      <td>13766.76</td>\n",
       "      <td>1191.92</td>\n",
       "      <td>2452.79</td>\n",
       "      <td>727.94</td>\n",
       "      <td>9394.11</td>\n",
       "      <td>9351.80</td>\n",
       "      <td>42.31</td>\n",
       "      <td>0.0</td>\n",
       "      <td>organic</td>\n",
       "      <td>2018</td>\n",
       "      <td>WestTexNewMexico</td>\n",
       "    </tr>\n",
       "    <tr>\n",
       "      <th>10</th>\n",
       "      <td>2018-01-14</td>\n",
       "      <td>1.93</td>\n",
       "      <td>16205.22</td>\n",
       "      <td>1527.63</td>\n",
       "      <td>2981.04</td>\n",
       "      <td>727.01</td>\n",
       "      <td>10969.54</td>\n",
       "      <td>10919.54</td>\n",
       "      <td>50.00</td>\n",
       "      <td>0.0</td>\n",
       "      <td>organic</td>\n",
       "      <td>2018</td>\n",
       "      <td>WestTexNewMexico</td>\n",
       "    </tr>\n",
       "    <tr>\n",
       "      <th>11</th>\n",
       "      <td>2018-01-07</td>\n",
       "      <td>1.62</td>\n",
       "      <td>17489.58</td>\n",
       "      <td>2894.77</td>\n",
       "      <td>2356.13</td>\n",
       "      <td>224.53</td>\n",
       "      <td>12014.15</td>\n",
       "      <td>11988.14</td>\n",
       "      <td>26.01</td>\n",
       "      <td>0.0</td>\n",
       "      <td>organic</td>\n",
       "      <td>2018</td>\n",
       "      <td>WestTexNewMexico</td>\n",
       "    </tr>\n",
       "  </tbody>\n",
       "</table>\n",
       "<p>18249 rows × 13 columns</p>\n",
       "</div>"
      ],
      "text/plain": [
       "          Date  AveragePrice  Total Volume     4046       4225    4770  \\\n",
       "0   2015-12-27          1.33      64236.62  1036.74   54454.85   48.16   \n",
       "1   2015-12-20          1.35      54876.98   674.28   44638.81   58.33   \n",
       "2   2015-12-13          0.93     118220.22   794.70  109149.67  130.50   \n",
       "3   2015-12-06          1.08      78992.15  1132.00   71976.41   72.58   \n",
       "4   2015-11-29          1.28      51039.60   941.48   43838.39   75.78   \n",
       "..         ...           ...           ...      ...        ...     ...   \n",
       "7   2018-02-04          1.63      17074.83  2046.96    1529.20    0.00   \n",
       "8   2018-01-28          1.71      13888.04  1191.70    3431.50    0.00   \n",
       "9   2018-01-21          1.87      13766.76  1191.92    2452.79  727.94   \n",
       "10  2018-01-14          1.93      16205.22  1527.63    2981.04  727.01   \n",
       "11  2018-01-07          1.62      17489.58  2894.77    2356.13  224.53   \n",
       "\n",
       "    Total Bags  Small Bags  Large Bags  XLarge Bags          type  year  \\\n",
       "0      8696.87     8603.62       93.25          0.0  conventional  2015   \n",
       "1      9505.56     9408.07       97.49          0.0  conventional  2015   \n",
       "2      8145.35     8042.21      103.14          0.0  conventional  2015   \n",
       "3      5811.16     5677.40      133.76          0.0  conventional  2015   \n",
       "4      6183.95     5986.26      197.69          0.0  conventional  2015   \n",
       "..         ...         ...         ...          ...           ...   ...   \n",
       "7     13498.67    13066.82      431.85          0.0       organic  2018   \n",
       "8      9264.84     8940.04      324.80          0.0       organic  2018   \n",
       "9      9394.11     9351.80       42.31          0.0       organic  2018   \n",
       "10    10969.54    10919.54       50.00          0.0       organic  2018   \n",
       "11    12014.15    11988.14       26.01          0.0       organic  2018   \n",
       "\n",
       "              region  \n",
       "0             Albany  \n",
       "1             Albany  \n",
       "2             Albany  \n",
       "3             Albany  \n",
       "4             Albany  \n",
       "..               ...  \n",
       "7   WestTexNewMexico  \n",
       "8   WestTexNewMexico  \n",
       "9   WestTexNewMexico  \n",
       "10  WestTexNewMexico  \n",
       "11  WestTexNewMexico  \n",
       "\n",
       "[18249 rows x 13 columns]"
      ]
     },
     "execution_count": 3,
     "metadata": {},
     "output_type": "execute_result"
    }
   ],
   "source": [
    "data"
   ]
  },
  {
   "cell_type": "code",
   "execution_count": 5,
   "id": "1641448e",
   "metadata": {},
   "outputs": [],
   "source": [
    "data.drop(['Date'],axis=1,inplace=True)"
   ]
  },
  {
   "cell_type": "code",
   "execution_count": 6,
   "id": "b3a5140c",
   "metadata": {},
   "outputs": [
    {
     "data": {
      "text/html": [
       "<div>\n",
       "<style scoped>\n",
       "    .dataframe tbody tr th:only-of-type {\n",
       "        vertical-align: middle;\n",
       "    }\n",
       "\n",
       "    .dataframe tbody tr th {\n",
       "        vertical-align: top;\n",
       "    }\n",
       "\n",
       "    .dataframe thead th {\n",
       "        text-align: right;\n",
       "    }\n",
       "</style>\n",
       "<table border=\"1\" class=\"dataframe\">\n",
       "  <thead>\n",
       "    <tr style=\"text-align: right;\">\n",
       "      <th></th>\n",
       "      <th>AveragePrice</th>\n",
       "      <th>Total Volume</th>\n",
       "      <th>4046</th>\n",
       "      <th>4225</th>\n",
       "      <th>4770</th>\n",
       "      <th>Total Bags</th>\n",
       "      <th>Small Bags</th>\n",
       "      <th>Large Bags</th>\n",
       "      <th>XLarge Bags</th>\n",
       "      <th>type</th>\n",
       "      <th>year</th>\n",
       "      <th>region</th>\n",
       "    </tr>\n",
       "  </thead>\n",
       "  <tbody>\n",
       "    <tr>\n",
       "      <th>0</th>\n",
       "      <td>1.33</td>\n",
       "      <td>64236.62</td>\n",
       "      <td>1036.74</td>\n",
       "      <td>54454.85</td>\n",
       "      <td>48.16</td>\n",
       "      <td>8696.87</td>\n",
       "      <td>8603.62</td>\n",
       "      <td>93.25</td>\n",
       "      <td>0.0</td>\n",
       "      <td>conventional</td>\n",
       "      <td>2015</td>\n",
       "      <td>Albany</td>\n",
       "    </tr>\n",
       "    <tr>\n",
       "      <th>1</th>\n",
       "      <td>1.35</td>\n",
       "      <td>54876.98</td>\n",
       "      <td>674.28</td>\n",
       "      <td>44638.81</td>\n",
       "      <td>58.33</td>\n",
       "      <td>9505.56</td>\n",
       "      <td>9408.07</td>\n",
       "      <td>97.49</td>\n",
       "      <td>0.0</td>\n",
       "      <td>conventional</td>\n",
       "      <td>2015</td>\n",
       "      <td>Albany</td>\n",
       "    </tr>\n",
       "    <tr>\n",
       "      <th>2</th>\n",
       "      <td>0.93</td>\n",
       "      <td>118220.22</td>\n",
       "      <td>794.70</td>\n",
       "      <td>109149.67</td>\n",
       "      <td>130.50</td>\n",
       "      <td>8145.35</td>\n",
       "      <td>8042.21</td>\n",
       "      <td>103.14</td>\n",
       "      <td>0.0</td>\n",
       "      <td>conventional</td>\n",
       "      <td>2015</td>\n",
       "      <td>Albany</td>\n",
       "    </tr>\n",
       "    <tr>\n",
       "      <th>3</th>\n",
       "      <td>1.08</td>\n",
       "      <td>78992.15</td>\n",
       "      <td>1132.00</td>\n",
       "      <td>71976.41</td>\n",
       "      <td>72.58</td>\n",
       "      <td>5811.16</td>\n",
       "      <td>5677.40</td>\n",
       "      <td>133.76</td>\n",
       "      <td>0.0</td>\n",
       "      <td>conventional</td>\n",
       "      <td>2015</td>\n",
       "      <td>Albany</td>\n",
       "    </tr>\n",
       "    <tr>\n",
       "      <th>4</th>\n",
       "      <td>1.28</td>\n",
       "      <td>51039.60</td>\n",
       "      <td>941.48</td>\n",
       "      <td>43838.39</td>\n",
       "      <td>75.78</td>\n",
       "      <td>6183.95</td>\n",
       "      <td>5986.26</td>\n",
       "      <td>197.69</td>\n",
       "      <td>0.0</td>\n",
       "      <td>conventional</td>\n",
       "      <td>2015</td>\n",
       "      <td>Albany</td>\n",
       "    </tr>\n",
       "    <tr>\n",
       "      <th>...</th>\n",
       "      <td>...</td>\n",
       "      <td>...</td>\n",
       "      <td>...</td>\n",
       "      <td>...</td>\n",
       "      <td>...</td>\n",
       "      <td>...</td>\n",
       "      <td>...</td>\n",
       "      <td>...</td>\n",
       "      <td>...</td>\n",
       "      <td>...</td>\n",
       "      <td>...</td>\n",
       "      <td>...</td>\n",
       "    </tr>\n",
       "    <tr>\n",
       "      <th>7</th>\n",
       "      <td>1.63</td>\n",
       "      <td>17074.83</td>\n",
       "      <td>2046.96</td>\n",
       "      <td>1529.20</td>\n",
       "      <td>0.00</td>\n",
       "      <td>13498.67</td>\n",
       "      <td>13066.82</td>\n",
       "      <td>431.85</td>\n",
       "      <td>0.0</td>\n",
       "      <td>organic</td>\n",
       "      <td>2018</td>\n",
       "      <td>WestTexNewMexico</td>\n",
       "    </tr>\n",
       "    <tr>\n",
       "      <th>8</th>\n",
       "      <td>1.71</td>\n",
       "      <td>13888.04</td>\n",
       "      <td>1191.70</td>\n",
       "      <td>3431.50</td>\n",
       "      <td>0.00</td>\n",
       "      <td>9264.84</td>\n",
       "      <td>8940.04</td>\n",
       "      <td>324.80</td>\n",
       "      <td>0.0</td>\n",
       "      <td>organic</td>\n",
       "      <td>2018</td>\n",
       "      <td>WestTexNewMexico</td>\n",
       "    </tr>\n",
       "    <tr>\n",
       "      <th>9</th>\n",
       "      <td>1.87</td>\n",
       "      <td>13766.76</td>\n",
       "      <td>1191.92</td>\n",
       "      <td>2452.79</td>\n",
       "      <td>727.94</td>\n",
       "      <td>9394.11</td>\n",
       "      <td>9351.80</td>\n",
       "      <td>42.31</td>\n",
       "      <td>0.0</td>\n",
       "      <td>organic</td>\n",
       "      <td>2018</td>\n",
       "      <td>WestTexNewMexico</td>\n",
       "    </tr>\n",
       "    <tr>\n",
       "      <th>10</th>\n",
       "      <td>1.93</td>\n",
       "      <td>16205.22</td>\n",
       "      <td>1527.63</td>\n",
       "      <td>2981.04</td>\n",
       "      <td>727.01</td>\n",
       "      <td>10969.54</td>\n",
       "      <td>10919.54</td>\n",
       "      <td>50.00</td>\n",
       "      <td>0.0</td>\n",
       "      <td>organic</td>\n",
       "      <td>2018</td>\n",
       "      <td>WestTexNewMexico</td>\n",
       "    </tr>\n",
       "    <tr>\n",
       "      <th>11</th>\n",
       "      <td>1.62</td>\n",
       "      <td>17489.58</td>\n",
       "      <td>2894.77</td>\n",
       "      <td>2356.13</td>\n",
       "      <td>224.53</td>\n",
       "      <td>12014.15</td>\n",
       "      <td>11988.14</td>\n",
       "      <td>26.01</td>\n",
       "      <td>0.0</td>\n",
       "      <td>organic</td>\n",
       "      <td>2018</td>\n",
       "      <td>WestTexNewMexico</td>\n",
       "    </tr>\n",
       "  </tbody>\n",
       "</table>\n",
       "<p>18249 rows × 12 columns</p>\n",
       "</div>"
      ],
      "text/plain": [
       "    AveragePrice  Total Volume     4046       4225    4770  Total Bags  \\\n",
       "0           1.33      64236.62  1036.74   54454.85   48.16     8696.87   \n",
       "1           1.35      54876.98   674.28   44638.81   58.33     9505.56   \n",
       "2           0.93     118220.22   794.70  109149.67  130.50     8145.35   \n",
       "3           1.08      78992.15  1132.00   71976.41   72.58     5811.16   \n",
       "4           1.28      51039.60   941.48   43838.39   75.78     6183.95   \n",
       "..           ...           ...      ...        ...     ...         ...   \n",
       "7           1.63      17074.83  2046.96    1529.20    0.00    13498.67   \n",
       "8           1.71      13888.04  1191.70    3431.50    0.00     9264.84   \n",
       "9           1.87      13766.76  1191.92    2452.79  727.94     9394.11   \n",
       "10          1.93      16205.22  1527.63    2981.04  727.01    10969.54   \n",
       "11          1.62      17489.58  2894.77    2356.13  224.53    12014.15   \n",
       "\n",
       "    Small Bags  Large Bags  XLarge Bags          type  year            region  \n",
       "0      8603.62       93.25          0.0  conventional  2015            Albany  \n",
       "1      9408.07       97.49          0.0  conventional  2015            Albany  \n",
       "2      8042.21      103.14          0.0  conventional  2015            Albany  \n",
       "3      5677.40      133.76          0.0  conventional  2015            Albany  \n",
       "4      5986.26      197.69          0.0  conventional  2015            Albany  \n",
       "..         ...         ...          ...           ...   ...               ...  \n",
       "7     13066.82      431.85          0.0       organic  2018  WestTexNewMexico  \n",
       "8      8940.04      324.80          0.0       organic  2018  WestTexNewMexico  \n",
       "9      9351.80       42.31          0.0       organic  2018  WestTexNewMexico  \n",
       "10    10919.54       50.00          0.0       organic  2018  WestTexNewMexico  \n",
       "11    11988.14       26.01          0.0       organic  2018  WestTexNewMexico  \n",
       "\n",
       "[18249 rows x 12 columns]"
      ]
     },
     "execution_count": 6,
     "metadata": {},
     "output_type": "execute_result"
    }
   ],
   "source": [
    "data"
   ]
  },
  {
   "cell_type": "code",
   "execution_count": 7,
   "id": "365c575b",
   "metadata": {},
   "outputs": [],
   "source": [
    "from sklearn.preprocessing import LabelEncoder"
   ]
  },
  {
   "cell_type": "code",
   "execution_count": 8,
   "id": "f9580c16",
   "metadata": {},
   "outputs": [],
   "source": [
    "le=LabelEncoder()"
   ]
  },
  {
   "cell_type": "code",
   "execution_count": 10,
   "id": "abe8092c",
   "metadata": {},
   "outputs": [],
   "source": [
    "data['type']=le.fit_transform(data['type'])"
   ]
  },
  {
   "cell_type": "code",
   "execution_count": 11,
   "id": "40d473ef",
   "metadata": {},
   "outputs": [],
   "source": [
    "data['region']=le.fit_transform(data['region'])"
   ]
  },
  {
   "cell_type": "code",
   "execution_count": 12,
   "id": "56ad1394",
   "metadata": {},
   "outputs": [
    {
     "data": {
      "text/html": [
       "<div>\n",
       "<style scoped>\n",
       "    .dataframe tbody tr th:only-of-type {\n",
       "        vertical-align: middle;\n",
       "    }\n",
       "\n",
       "    .dataframe tbody tr th {\n",
       "        vertical-align: top;\n",
       "    }\n",
       "\n",
       "    .dataframe thead th {\n",
       "        text-align: right;\n",
       "    }\n",
       "</style>\n",
       "<table border=\"1\" class=\"dataframe\">\n",
       "  <thead>\n",
       "    <tr style=\"text-align: right;\">\n",
       "      <th></th>\n",
       "      <th>AveragePrice</th>\n",
       "      <th>Total Volume</th>\n",
       "      <th>4046</th>\n",
       "      <th>4225</th>\n",
       "      <th>4770</th>\n",
       "      <th>Total Bags</th>\n",
       "      <th>Small Bags</th>\n",
       "      <th>Large Bags</th>\n",
       "      <th>XLarge Bags</th>\n",
       "      <th>type</th>\n",
       "      <th>year</th>\n",
       "      <th>region</th>\n",
       "    </tr>\n",
       "  </thead>\n",
       "  <tbody>\n",
       "    <tr>\n",
       "      <th>0</th>\n",
       "      <td>1.33</td>\n",
       "      <td>64236.62</td>\n",
       "      <td>1036.74</td>\n",
       "      <td>54454.85</td>\n",
       "      <td>48.16</td>\n",
       "      <td>8696.87</td>\n",
       "      <td>8603.62</td>\n",
       "      <td>93.25</td>\n",
       "      <td>0.0</td>\n",
       "      <td>0</td>\n",
       "      <td>2015</td>\n",
       "      <td>0</td>\n",
       "    </tr>\n",
       "    <tr>\n",
       "      <th>1</th>\n",
       "      <td>1.35</td>\n",
       "      <td>54876.98</td>\n",
       "      <td>674.28</td>\n",
       "      <td>44638.81</td>\n",
       "      <td>58.33</td>\n",
       "      <td>9505.56</td>\n",
       "      <td>9408.07</td>\n",
       "      <td>97.49</td>\n",
       "      <td>0.0</td>\n",
       "      <td>0</td>\n",
       "      <td>2015</td>\n",
       "      <td>0</td>\n",
       "    </tr>\n",
       "    <tr>\n",
       "      <th>2</th>\n",
       "      <td>0.93</td>\n",
       "      <td>118220.22</td>\n",
       "      <td>794.70</td>\n",
       "      <td>109149.67</td>\n",
       "      <td>130.50</td>\n",
       "      <td>8145.35</td>\n",
       "      <td>8042.21</td>\n",
       "      <td>103.14</td>\n",
       "      <td>0.0</td>\n",
       "      <td>0</td>\n",
       "      <td>2015</td>\n",
       "      <td>0</td>\n",
       "    </tr>\n",
       "    <tr>\n",
       "      <th>3</th>\n",
       "      <td>1.08</td>\n",
       "      <td>78992.15</td>\n",
       "      <td>1132.00</td>\n",
       "      <td>71976.41</td>\n",
       "      <td>72.58</td>\n",
       "      <td>5811.16</td>\n",
       "      <td>5677.40</td>\n",
       "      <td>133.76</td>\n",
       "      <td>0.0</td>\n",
       "      <td>0</td>\n",
       "      <td>2015</td>\n",
       "      <td>0</td>\n",
       "    </tr>\n",
       "    <tr>\n",
       "      <th>4</th>\n",
       "      <td>1.28</td>\n",
       "      <td>51039.60</td>\n",
       "      <td>941.48</td>\n",
       "      <td>43838.39</td>\n",
       "      <td>75.78</td>\n",
       "      <td>6183.95</td>\n",
       "      <td>5986.26</td>\n",
       "      <td>197.69</td>\n",
       "      <td>0.0</td>\n",
       "      <td>0</td>\n",
       "      <td>2015</td>\n",
       "      <td>0</td>\n",
       "    </tr>\n",
       "    <tr>\n",
       "      <th>...</th>\n",
       "      <td>...</td>\n",
       "      <td>...</td>\n",
       "      <td>...</td>\n",
       "      <td>...</td>\n",
       "      <td>...</td>\n",
       "      <td>...</td>\n",
       "      <td>...</td>\n",
       "      <td>...</td>\n",
       "      <td>...</td>\n",
       "      <td>...</td>\n",
       "      <td>...</td>\n",
       "      <td>...</td>\n",
       "    </tr>\n",
       "    <tr>\n",
       "      <th>7</th>\n",
       "      <td>1.63</td>\n",
       "      <td>17074.83</td>\n",
       "      <td>2046.96</td>\n",
       "      <td>1529.20</td>\n",
       "      <td>0.00</td>\n",
       "      <td>13498.67</td>\n",
       "      <td>13066.82</td>\n",
       "      <td>431.85</td>\n",
       "      <td>0.0</td>\n",
       "      <td>1</td>\n",
       "      <td>2018</td>\n",
       "      <td>53</td>\n",
       "    </tr>\n",
       "    <tr>\n",
       "      <th>8</th>\n",
       "      <td>1.71</td>\n",
       "      <td>13888.04</td>\n",
       "      <td>1191.70</td>\n",
       "      <td>3431.50</td>\n",
       "      <td>0.00</td>\n",
       "      <td>9264.84</td>\n",
       "      <td>8940.04</td>\n",
       "      <td>324.80</td>\n",
       "      <td>0.0</td>\n",
       "      <td>1</td>\n",
       "      <td>2018</td>\n",
       "      <td>53</td>\n",
       "    </tr>\n",
       "    <tr>\n",
       "      <th>9</th>\n",
       "      <td>1.87</td>\n",
       "      <td>13766.76</td>\n",
       "      <td>1191.92</td>\n",
       "      <td>2452.79</td>\n",
       "      <td>727.94</td>\n",
       "      <td>9394.11</td>\n",
       "      <td>9351.80</td>\n",
       "      <td>42.31</td>\n",
       "      <td>0.0</td>\n",
       "      <td>1</td>\n",
       "      <td>2018</td>\n",
       "      <td>53</td>\n",
       "    </tr>\n",
       "    <tr>\n",
       "      <th>10</th>\n",
       "      <td>1.93</td>\n",
       "      <td>16205.22</td>\n",
       "      <td>1527.63</td>\n",
       "      <td>2981.04</td>\n",
       "      <td>727.01</td>\n",
       "      <td>10969.54</td>\n",
       "      <td>10919.54</td>\n",
       "      <td>50.00</td>\n",
       "      <td>0.0</td>\n",
       "      <td>1</td>\n",
       "      <td>2018</td>\n",
       "      <td>53</td>\n",
       "    </tr>\n",
       "    <tr>\n",
       "      <th>11</th>\n",
       "      <td>1.62</td>\n",
       "      <td>17489.58</td>\n",
       "      <td>2894.77</td>\n",
       "      <td>2356.13</td>\n",
       "      <td>224.53</td>\n",
       "      <td>12014.15</td>\n",
       "      <td>11988.14</td>\n",
       "      <td>26.01</td>\n",
       "      <td>0.0</td>\n",
       "      <td>1</td>\n",
       "      <td>2018</td>\n",
       "      <td>53</td>\n",
       "    </tr>\n",
       "  </tbody>\n",
       "</table>\n",
       "<p>18249 rows × 12 columns</p>\n",
       "</div>"
      ],
      "text/plain": [
       "    AveragePrice  Total Volume     4046       4225    4770  Total Bags  \\\n",
       "0           1.33      64236.62  1036.74   54454.85   48.16     8696.87   \n",
       "1           1.35      54876.98   674.28   44638.81   58.33     9505.56   \n",
       "2           0.93     118220.22   794.70  109149.67  130.50     8145.35   \n",
       "3           1.08      78992.15  1132.00   71976.41   72.58     5811.16   \n",
       "4           1.28      51039.60   941.48   43838.39   75.78     6183.95   \n",
       "..           ...           ...      ...        ...     ...         ...   \n",
       "7           1.63      17074.83  2046.96    1529.20    0.00    13498.67   \n",
       "8           1.71      13888.04  1191.70    3431.50    0.00     9264.84   \n",
       "9           1.87      13766.76  1191.92    2452.79  727.94     9394.11   \n",
       "10          1.93      16205.22  1527.63    2981.04  727.01    10969.54   \n",
       "11          1.62      17489.58  2894.77    2356.13  224.53    12014.15   \n",
       "\n",
       "    Small Bags  Large Bags  XLarge Bags  type  year  region  \n",
       "0      8603.62       93.25          0.0     0  2015       0  \n",
       "1      9408.07       97.49          0.0     0  2015       0  \n",
       "2      8042.21      103.14          0.0     0  2015       0  \n",
       "3      5677.40      133.76          0.0     0  2015       0  \n",
       "4      5986.26      197.69          0.0     0  2015       0  \n",
       "..         ...         ...          ...   ...   ...     ...  \n",
       "7     13066.82      431.85          0.0     1  2018      53  \n",
       "8      8940.04      324.80          0.0     1  2018      53  \n",
       "9      9351.80       42.31          0.0     1  2018      53  \n",
       "10    10919.54       50.00          0.0     1  2018      53  \n",
       "11    11988.14       26.01          0.0     1  2018      53  \n",
       "\n",
       "[18249 rows x 12 columns]"
      ]
     },
     "execution_count": 12,
     "metadata": {},
     "output_type": "execute_result"
    }
   ],
   "source": [
    "data"
   ]
  },
  {
   "cell_type": "code",
   "execution_count": 13,
   "id": "6a0c81ff",
   "metadata": {},
   "outputs": [],
   "source": [
    "df=pd.DataFrame(data=data)"
   ]
  },
  {
   "cell_type": "code",
   "execution_count": 14,
   "id": "7d521629",
   "metadata": {},
   "outputs": [
    {
     "data": {
      "text/html": [
       "<div>\n",
       "<style scoped>\n",
       "    .dataframe tbody tr th:only-of-type {\n",
       "        vertical-align: middle;\n",
       "    }\n",
       "\n",
       "    .dataframe tbody tr th {\n",
       "        vertical-align: top;\n",
       "    }\n",
       "\n",
       "    .dataframe thead th {\n",
       "        text-align: right;\n",
       "    }\n",
       "</style>\n",
       "<table border=\"1\" class=\"dataframe\">\n",
       "  <thead>\n",
       "    <tr style=\"text-align: right;\">\n",
       "      <th></th>\n",
       "      <th>AveragePrice</th>\n",
       "      <th>Total Volume</th>\n",
       "      <th>4046</th>\n",
       "      <th>4225</th>\n",
       "      <th>4770</th>\n",
       "      <th>Total Bags</th>\n",
       "      <th>Small Bags</th>\n",
       "      <th>Large Bags</th>\n",
       "      <th>XLarge Bags</th>\n",
       "      <th>type</th>\n",
       "      <th>year</th>\n",
       "      <th>region</th>\n",
       "    </tr>\n",
       "  </thead>\n",
       "  <tbody>\n",
       "    <tr>\n",
       "      <th>0</th>\n",
       "      <td>1.33</td>\n",
       "      <td>64236.62</td>\n",
       "      <td>1036.74</td>\n",
       "      <td>54454.85</td>\n",
       "      <td>48.16</td>\n",
       "      <td>8696.87</td>\n",
       "      <td>8603.62</td>\n",
       "      <td>93.25</td>\n",
       "      <td>0.0</td>\n",
       "      <td>0</td>\n",
       "      <td>2015</td>\n",
       "      <td>0</td>\n",
       "    </tr>\n",
       "    <tr>\n",
       "      <th>1</th>\n",
       "      <td>1.35</td>\n",
       "      <td>54876.98</td>\n",
       "      <td>674.28</td>\n",
       "      <td>44638.81</td>\n",
       "      <td>58.33</td>\n",
       "      <td>9505.56</td>\n",
       "      <td>9408.07</td>\n",
       "      <td>97.49</td>\n",
       "      <td>0.0</td>\n",
       "      <td>0</td>\n",
       "      <td>2015</td>\n",
       "      <td>0</td>\n",
       "    </tr>\n",
       "    <tr>\n",
       "      <th>2</th>\n",
       "      <td>0.93</td>\n",
       "      <td>118220.22</td>\n",
       "      <td>794.70</td>\n",
       "      <td>109149.67</td>\n",
       "      <td>130.50</td>\n",
       "      <td>8145.35</td>\n",
       "      <td>8042.21</td>\n",
       "      <td>103.14</td>\n",
       "      <td>0.0</td>\n",
       "      <td>0</td>\n",
       "      <td>2015</td>\n",
       "      <td>0</td>\n",
       "    </tr>\n",
       "    <tr>\n",
       "      <th>3</th>\n",
       "      <td>1.08</td>\n",
       "      <td>78992.15</td>\n",
       "      <td>1132.00</td>\n",
       "      <td>71976.41</td>\n",
       "      <td>72.58</td>\n",
       "      <td>5811.16</td>\n",
       "      <td>5677.40</td>\n",
       "      <td>133.76</td>\n",
       "      <td>0.0</td>\n",
       "      <td>0</td>\n",
       "      <td>2015</td>\n",
       "      <td>0</td>\n",
       "    </tr>\n",
       "    <tr>\n",
       "      <th>4</th>\n",
       "      <td>1.28</td>\n",
       "      <td>51039.60</td>\n",
       "      <td>941.48</td>\n",
       "      <td>43838.39</td>\n",
       "      <td>75.78</td>\n",
       "      <td>6183.95</td>\n",
       "      <td>5986.26</td>\n",
       "      <td>197.69</td>\n",
       "      <td>0.0</td>\n",
       "      <td>0</td>\n",
       "      <td>2015</td>\n",
       "      <td>0</td>\n",
       "    </tr>\n",
       "  </tbody>\n",
       "</table>\n",
       "</div>"
      ],
      "text/plain": [
       "   AveragePrice  Total Volume     4046       4225    4770  Total Bags  \\\n",
       "0          1.33      64236.62  1036.74   54454.85   48.16     8696.87   \n",
       "1          1.35      54876.98   674.28   44638.81   58.33     9505.56   \n",
       "2          0.93     118220.22   794.70  109149.67  130.50     8145.35   \n",
       "3          1.08      78992.15  1132.00   71976.41   72.58     5811.16   \n",
       "4          1.28      51039.60   941.48   43838.39   75.78     6183.95   \n",
       "\n",
       "   Small Bags  Large Bags  XLarge Bags  type  year  region  \n",
       "0     8603.62       93.25          0.0     0  2015       0  \n",
       "1     9408.07       97.49          0.0     0  2015       0  \n",
       "2     8042.21      103.14          0.0     0  2015       0  \n",
       "3     5677.40      133.76          0.0     0  2015       0  \n",
       "4     5986.26      197.69          0.0     0  2015       0  "
      ]
     },
     "execution_count": 14,
     "metadata": {},
     "output_type": "execute_result"
    }
   ],
   "source": [
    "df.head()"
   ]
  },
  {
   "cell_type": "code",
   "execution_count": 15,
   "id": "e581c7cc",
   "metadata": {},
   "outputs": [
    {
     "data": {
      "text/html": [
       "<div>\n",
       "<style scoped>\n",
       "    .dataframe tbody tr th:only-of-type {\n",
       "        vertical-align: middle;\n",
       "    }\n",
       "\n",
       "    .dataframe tbody tr th {\n",
       "        vertical-align: top;\n",
       "    }\n",
       "\n",
       "    .dataframe thead th {\n",
       "        text-align: right;\n",
       "    }\n",
       "</style>\n",
       "<table border=\"1\" class=\"dataframe\">\n",
       "  <thead>\n",
       "    <tr style=\"text-align: right;\">\n",
       "      <th></th>\n",
       "      <th>AveragePrice</th>\n",
       "      <th>Total Volume</th>\n",
       "      <th>4046</th>\n",
       "      <th>4225</th>\n",
       "      <th>4770</th>\n",
       "      <th>Total Bags</th>\n",
       "      <th>Small Bags</th>\n",
       "      <th>Large Bags</th>\n",
       "      <th>XLarge Bags</th>\n",
       "      <th>type</th>\n",
       "      <th>year</th>\n",
       "      <th>region</th>\n",
       "    </tr>\n",
       "  </thead>\n",
       "  <tbody>\n",
       "    <tr>\n",
       "      <th>7</th>\n",
       "      <td>1.63</td>\n",
       "      <td>17074.83</td>\n",
       "      <td>2046.96</td>\n",
       "      <td>1529.20</td>\n",
       "      <td>0.00</td>\n",
       "      <td>13498.67</td>\n",
       "      <td>13066.82</td>\n",
       "      <td>431.85</td>\n",
       "      <td>0.0</td>\n",
       "      <td>1</td>\n",
       "      <td>2018</td>\n",
       "      <td>53</td>\n",
       "    </tr>\n",
       "    <tr>\n",
       "      <th>8</th>\n",
       "      <td>1.71</td>\n",
       "      <td>13888.04</td>\n",
       "      <td>1191.70</td>\n",
       "      <td>3431.50</td>\n",
       "      <td>0.00</td>\n",
       "      <td>9264.84</td>\n",
       "      <td>8940.04</td>\n",
       "      <td>324.80</td>\n",
       "      <td>0.0</td>\n",
       "      <td>1</td>\n",
       "      <td>2018</td>\n",
       "      <td>53</td>\n",
       "    </tr>\n",
       "    <tr>\n",
       "      <th>9</th>\n",
       "      <td>1.87</td>\n",
       "      <td>13766.76</td>\n",
       "      <td>1191.92</td>\n",
       "      <td>2452.79</td>\n",
       "      <td>727.94</td>\n",
       "      <td>9394.11</td>\n",
       "      <td>9351.80</td>\n",
       "      <td>42.31</td>\n",
       "      <td>0.0</td>\n",
       "      <td>1</td>\n",
       "      <td>2018</td>\n",
       "      <td>53</td>\n",
       "    </tr>\n",
       "    <tr>\n",
       "      <th>10</th>\n",
       "      <td>1.93</td>\n",
       "      <td>16205.22</td>\n",
       "      <td>1527.63</td>\n",
       "      <td>2981.04</td>\n",
       "      <td>727.01</td>\n",
       "      <td>10969.54</td>\n",
       "      <td>10919.54</td>\n",
       "      <td>50.00</td>\n",
       "      <td>0.0</td>\n",
       "      <td>1</td>\n",
       "      <td>2018</td>\n",
       "      <td>53</td>\n",
       "    </tr>\n",
       "    <tr>\n",
       "      <th>11</th>\n",
       "      <td>1.62</td>\n",
       "      <td>17489.58</td>\n",
       "      <td>2894.77</td>\n",
       "      <td>2356.13</td>\n",
       "      <td>224.53</td>\n",
       "      <td>12014.15</td>\n",
       "      <td>11988.14</td>\n",
       "      <td>26.01</td>\n",
       "      <td>0.0</td>\n",
       "      <td>1</td>\n",
       "      <td>2018</td>\n",
       "      <td>53</td>\n",
       "    </tr>\n",
       "  </tbody>\n",
       "</table>\n",
       "</div>"
      ],
      "text/plain": [
       "    AveragePrice  Total Volume     4046     4225    4770  Total Bags  \\\n",
       "7           1.63      17074.83  2046.96  1529.20    0.00    13498.67   \n",
       "8           1.71      13888.04  1191.70  3431.50    0.00     9264.84   \n",
       "9           1.87      13766.76  1191.92  2452.79  727.94     9394.11   \n",
       "10          1.93      16205.22  1527.63  2981.04  727.01    10969.54   \n",
       "11          1.62      17489.58  2894.77  2356.13  224.53    12014.15   \n",
       "\n",
       "    Small Bags  Large Bags  XLarge Bags  type  year  region  \n",
       "7     13066.82      431.85          0.0     1  2018      53  \n",
       "8      8940.04      324.80          0.0     1  2018      53  \n",
       "9      9351.80       42.31          0.0     1  2018      53  \n",
       "10    10919.54       50.00          0.0     1  2018      53  \n",
       "11    11988.14       26.01          0.0     1  2018      53  "
      ]
     },
     "execution_count": 15,
     "metadata": {},
     "output_type": "execute_result"
    }
   ],
   "source": [
    "df.tail()"
   ]
  },
  {
   "cell_type": "code",
   "execution_count": 16,
   "id": "5b05cc01",
   "metadata": {},
   "outputs": [
    {
     "data": {
      "text/plain": [
       "(18249, 12)"
      ]
     },
     "execution_count": 16,
     "metadata": {},
     "output_type": "execute_result"
    }
   ],
   "source": [
    "df.shape"
   ]
  },
  {
   "cell_type": "code",
   "execution_count": 17,
   "id": "04a325cc",
   "metadata": {},
   "outputs": [
    {
     "data": {
      "text/plain": [
       "AveragePrice    float64\n",
       "Total Volume    float64\n",
       "4046            float64\n",
       "4225            float64\n",
       "4770            float64\n",
       "Total Bags      float64\n",
       "Small Bags      float64\n",
       "Large Bags      float64\n",
       "XLarge Bags     float64\n",
       "type              int32\n",
       "year              int64\n",
       "region            int32\n",
       "dtype: object"
      ]
     },
     "execution_count": 17,
     "metadata": {},
     "output_type": "execute_result"
    }
   ],
   "source": [
    "df.dtypes"
   ]
  },
  {
   "cell_type": "code",
   "execution_count": 18,
   "id": "8d72a5c6",
   "metadata": {},
   "outputs": [
    {
     "name": "stdout",
     "output_type": "stream",
     "text": [
      "<class 'pandas.core.frame.DataFrame'>\n",
      "Int64Index: 18249 entries, 0 to 11\n",
      "Data columns (total 12 columns):\n",
      " #   Column        Non-Null Count  Dtype  \n",
      "---  ------        --------------  -----  \n",
      " 0   AveragePrice  18249 non-null  float64\n",
      " 1   Total Volume  18249 non-null  float64\n",
      " 2   4046          18249 non-null  float64\n",
      " 3   4225          18249 non-null  float64\n",
      " 4   4770          18249 non-null  float64\n",
      " 5   Total Bags    18249 non-null  float64\n",
      " 6   Small Bags    18249 non-null  float64\n",
      " 7   Large Bags    18249 non-null  float64\n",
      " 8   XLarge Bags   18249 non-null  float64\n",
      " 9   type          18249 non-null  int32  \n",
      " 10  year          18249 non-null  int64  \n",
      " 11  region        18249 non-null  int32  \n",
      "dtypes: float64(9), int32(2), int64(1)\n",
      "memory usage: 1.7 MB\n"
     ]
    }
   ],
   "source": [
    "df.info()"
   ]
  },
  {
   "cell_type": "code",
   "execution_count": 19,
   "id": "9dfcab7d",
   "metadata": {},
   "outputs": [
    {
     "data": {
      "text/plain": [
       "AveragePrice    0\n",
       "Total Volume    0\n",
       "4046            0\n",
       "4225            0\n",
       "4770            0\n",
       "Total Bags      0\n",
       "Small Bags      0\n",
       "Large Bags      0\n",
       "XLarge Bags     0\n",
       "type            0\n",
       "year            0\n",
       "region          0\n",
       "dtype: int64"
      ]
     },
     "execution_count": 19,
     "metadata": {},
     "output_type": "execute_result"
    }
   ],
   "source": [
    "df.isnull().sum()"
   ]
  },
  {
   "cell_type": "code",
   "execution_count": 20,
   "id": "355cc308",
   "metadata": {},
   "outputs": [
    {
     "data": {
      "text/plain": [
       "<AxesSubplot:>"
      ]
     },
     "execution_count": 20,
     "metadata": {},
     "output_type": "execute_result"
    },
    {
     "data": {
      "image/png": "[encoded data removed]",
      "text/plain": [
       "<Figure size 640x480 with 2 Axes>"
      ]
     },
     "metadata": {},
     "output_type": "display_data"
    }
   ],
   "source": [
    "sns.heatmap(df.isnull())"
   ]
  },
  {
   "cell_type": "markdown",
   "id": "ca5aac41",
   "metadata": {},
   "source": [
    "No null data is present in dataset(df)"
   ]
  },
  {
   "cell_type": "code",
   "execution_count": 21,
   "id": "a148d256",
   "metadata": {},
   "outputs": [
    {
     "data": {
      "text/html": [
       "<div>\n",
       "<style scoped>\n",
       "    .dataframe tbody tr th:only-of-type {\n",
       "        vertical-align: middle;\n",
       "    }\n",
       "\n",
       "    .dataframe tbody tr th {\n",
       "        vertical-align: top;\n",
       "    }\n",
       "\n",
       "    .dataframe thead th {\n",
       "        text-align: right;\n",
       "    }\n",
       "</style>\n",
       "<table border=\"1\" class=\"dataframe\">\n",
       "  <thead>\n",
       "    <tr style=\"text-align: right;\">\n",
       "      <th></th>\n",
       "      <th>AveragePrice</th>\n",
       "      <th>Total Volume</th>\n",
       "      <th>4046</th>\n",
       "      <th>4225</th>\n",
       "      <th>4770</th>\n",
       "      <th>Total Bags</th>\n",
       "      <th>Small Bags</th>\n",
       "      <th>Large Bags</th>\n",
       "      <th>XLarge Bags</th>\n",
       "      <th>type</th>\n",
       "      <th>year</th>\n",
       "      <th>region</th>\n",
       "    </tr>\n",
       "  </thead>\n",
       "  <tbody>\n",
       "    <tr>\n",
       "      <th>count</th>\n",
       "      <td>18249.000000</td>\n",
       "      <td>1.824900e+04</td>\n",
       "      <td>1.824900e+04</td>\n",
       "      <td>1.824900e+04</td>\n",
       "      <td>1.824900e+04</td>\n",
       "      <td>1.824900e+04</td>\n",
       "      <td>1.824900e+04</td>\n",
       "      <td>1.824900e+04</td>\n",
       "      <td>18249.000000</td>\n",
       "      <td>18249.000000</td>\n",
       "      <td>18249.000000</td>\n",
       "      <td>18249.000000</td>\n",
       "    </tr>\n",
       "    <tr>\n",
       "      <th>mean</th>\n",
       "      <td>1.405978</td>\n",
       "      <td>8.506440e+05</td>\n",
       "      <td>2.930084e+05</td>\n",
       "      <td>2.951546e+05</td>\n",
       "      <td>2.283974e+04</td>\n",
       "      <td>2.396392e+05</td>\n",
       "      <td>1.821947e+05</td>\n",
       "      <td>5.433809e+04</td>\n",
       "      <td>3106.426507</td>\n",
       "      <td>0.499918</td>\n",
       "      <td>2016.147899</td>\n",
       "      <td>26.495644</td>\n",
       "    </tr>\n",
       "    <tr>\n",
       "      <th>std</th>\n",
       "      <td>0.402677</td>\n",
       "      <td>3.453545e+06</td>\n",
       "      <td>1.264989e+06</td>\n",
       "      <td>1.204120e+06</td>\n",
       "      <td>1.074641e+05</td>\n",
       "      <td>9.862424e+05</td>\n",
       "      <td>7.461785e+05</td>\n",
       "      <td>2.439660e+05</td>\n",
       "      <td>17692.894652</td>\n",
       "      <td>0.500014</td>\n",
       "      <td>0.939938</td>\n",
       "      <td>15.583788</td>\n",
       "    </tr>\n",
       "    <tr>\n",
       "      <th>min</th>\n",
       "      <td>0.440000</td>\n",
       "      <td>8.456000e+01</td>\n",
       "      <td>0.000000e+00</td>\n",
       "      <td>0.000000e+00</td>\n",
       "      <td>0.000000e+00</td>\n",
       "      <td>0.000000e+00</td>\n",
       "      <td>0.000000e+00</td>\n",
       "      <td>0.000000e+00</td>\n",
       "      <td>0.000000</td>\n",
       "      <td>0.000000</td>\n",
       "      <td>2015.000000</td>\n",
       "      <td>0.000000</td>\n",
       "    </tr>\n",
       "    <tr>\n",
       "      <th>25%</th>\n",
       "      <td>1.100000</td>\n",
       "      <td>1.083858e+04</td>\n",
       "      <td>8.540700e+02</td>\n",
       "      <td>3.008780e+03</td>\n",
       "      <td>0.000000e+00</td>\n",
       "      <td>5.088640e+03</td>\n",
       "      <td>2.849420e+03</td>\n",
       "      <td>1.274700e+02</td>\n",
       "      <td>0.000000</td>\n",
       "      <td>0.000000</td>\n",
       "      <td>2015.000000</td>\n",
       "      <td>13.000000</td>\n",
       "    </tr>\n",
       "    <tr>\n",
       "      <th>50%</th>\n",
       "      <td>1.370000</td>\n",
       "      <td>1.073768e+05</td>\n",
       "      <td>8.645300e+03</td>\n",
       "      <td>2.906102e+04</td>\n",
       "      <td>1.849900e+02</td>\n",
       "      <td>3.974383e+04</td>\n",
       "      <td>2.636282e+04</td>\n",
       "      <td>2.647710e+03</td>\n",
       "      <td>0.000000</td>\n",
       "      <td>0.000000</td>\n",
       "      <td>2016.000000</td>\n",
       "      <td>26.000000</td>\n",
       "    </tr>\n",
       "    <tr>\n",
       "      <th>75%</th>\n",
       "      <td>1.660000</td>\n",
       "      <td>4.329623e+05</td>\n",
       "      <td>1.110202e+05</td>\n",
       "      <td>1.502069e+05</td>\n",
       "      <td>6.243420e+03</td>\n",
       "      <td>1.107834e+05</td>\n",
       "      <td>8.333767e+04</td>\n",
       "      <td>2.202925e+04</td>\n",
       "      <td>132.500000</td>\n",
       "      <td>1.000000</td>\n",
       "      <td>2017.000000</td>\n",
       "      <td>40.000000</td>\n",
       "    </tr>\n",
       "    <tr>\n",
       "      <th>max</th>\n",
       "      <td>3.250000</td>\n",
       "      <td>6.250565e+07</td>\n",
       "      <td>2.274362e+07</td>\n",
       "      <td>2.047057e+07</td>\n",
       "      <td>2.546439e+06</td>\n",
       "      <td>1.937313e+07</td>\n",
       "      <td>1.338459e+07</td>\n",
       "      <td>5.719097e+06</td>\n",
       "      <td>551693.650000</td>\n",
       "      <td>1.000000</td>\n",
       "      <td>2018.000000</td>\n",
       "      <td>53.000000</td>\n",
       "    </tr>\n",
       "  </tbody>\n",
       "</table>\n",
       "</div>"
      ],
      "text/plain": [
       "       AveragePrice  Total Volume          4046          4225          4770  \\\n",
       "count  18249.000000  1.824900e+04  1.824900e+04  1.824900e+04  1.824900e+04   \n",
       "mean       1.405978  8.506440e+05  2.930084e+05  2.951546e+05  2.283974e+04   \n",
       "std        0.402677  3.453545e+06  1.264989e+06  1.204120e+06  1.074641e+05   \n",
       "min        0.440000  8.456000e+01  0.000000e+00  0.000000e+00  0.000000e+00   \n",
       "25%        1.100000  1.083858e+04  8.540700e+02  3.008780e+03  0.000000e+00   \n",
       "50%        1.370000  1.073768e+05  8.645300e+03  2.906102e+04  1.849900e+02   \n",
       "75%        1.660000  4.329623e+05  1.110202e+05  1.502069e+05  6.243420e+03   \n",
       "max        3.250000  6.250565e+07  2.274362e+07  2.047057e+07  2.546439e+06   \n",
       "\n",
       "         Total Bags    Small Bags    Large Bags    XLarge Bags          type  \\\n",
       "count  1.824900e+04  1.824900e+04  1.824900e+04   18249.000000  18249.000000   \n",
       "mean   2.396392e+05  1.821947e+05  5.433809e+04    3106.426507      0.499918   \n",
       "std    9.862424e+05  7.461785e+05  2.439660e+05   17692.894652      0.500014   \n",
       "min    0.000000e+00  0.000000e+00  0.000000e+00       0.000000      0.000000   \n",
       "25%    5.088640e+03  2.849420e+03  1.274700e+02       0.000000      0.000000   \n",
       "50%    3.974383e+04  2.636282e+04  2.647710e+03       0.000000      0.000000   \n",
       "75%    1.107834e+05  8.333767e+04  2.202925e+04     132.500000      1.000000   \n",
       "max    1.937313e+07  1.338459e+07  5.719097e+06  551693.650000      1.000000   \n",
       "\n",
       "               year        region  \n",
       "count  18249.000000  18249.000000  \n",
       "mean    2016.147899     26.495644  \n",
       "std        0.939938     15.583788  \n",
       "min     2015.000000      0.000000  \n",
       "25%     2015.000000     13.000000  \n",
       "50%     2016.000000     26.000000  \n",
       "75%     2017.000000     40.000000  \n",
       "max     2018.000000     53.000000  "
      ]
     },
     "execution_count": 21,
     "metadata": {},
     "output_type": "execute_result"
    }
   ],
   "source": [
    "df.describe()"
   ]
  },
  {
   "cell_type": "markdown",
   "id": "94415cb5",
   "metadata": {},
   "source": [
    "key observations-\n",
    "\n",
    "1- No skewness in datasets as mean is not more then median(50%).\n",
    "\n",
    "2- outliers are present in data(df) as there is difference in 75% and max"
   ]
  },
  {
   "cell_type": "code",
   "execution_count": 22,
   "id": "860e0aea",
   "metadata": {},
   "outputs": [
    {
     "data": {
      "text/plain": [
       "AveragePrice     0.580303\n",
       "Total Volume     9.007687\n",
       "4046             8.648220\n",
       "4225             8.942466\n",
       "4770            10.159396\n",
       "Total Bags       9.756072\n",
       "Small Bags       9.540660\n",
       "Large Bags       9.796455\n",
       "XLarge Bags     13.139751\n",
       "type             0.000329\n",
       "year             0.215339\n",
       "region           0.000030\n",
       "dtype: float64"
      ]
     },
     "execution_count": 22,
     "metadata": {},
     "output_type": "execute_result"
    }
   ],
   "source": [
    "df.skew()"
   ]
  },
  {
   "cell_type": "code",
   "execution_count": 23,
   "id": "82a13e70",
   "metadata": {},
   "outputs": [
    {
     "data": {
      "text/plain": [
       "array([[<AxesSubplot:ylabel='Frequency'>,\n",
       "        <AxesSubplot:ylabel='Frequency'>,\n",
       "        <AxesSubplot:ylabel='Frequency'>,\n",
       "        <AxesSubplot:ylabel='Frequency'>,\n",
       "        <AxesSubplot:ylabel='Frequency'>,\n",
       "        <AxesSubplot:ylabel='Frequency'>],\n",
       "       [<AxesSubplot:ylabel='Frequency'>,\n",
       "        <AxesSubplot:ylabel='Frequency'>,\n",
       "        <AxesSubplot:ylabel='Frequency'>,\n",
       "        <AxesSubplot:ylabel='Frequency'>,\n",
       "        <AxesSubplot:ylabel='Frequency'>,\n",
       "        <AxesSubplot:ylabel='Frequency'>]], dtype=object)"
      ]
     },
     "execution_count": 23,
     "metadata": {},
     "output_type": "execute_result"
    },
    {
     "data": {
      "image/png": "[encoded data removed]",
      "text/plain": [
       "<Figure size 1000x1000 with 12 Axes>"
      ]
     },
     "metadata": {},
     "output_type": "display_data"
    }
   ],
   "source": [
    "df.plot(kind=\"hist\",subplots=True,layout=(2,6),figsize=(10,10))"
   ]
  },
  {
   "cell_type": "markdown",
   "id": "4d43e1e0",
   "metadata": {},
   "source": [
    "from the above graphical visualisation we get to know there is no skewness present in dataset(df)"
   ]
  },
  {
   "cell_type": "code",
   "execution_count": 24,
   "id": "79f5bedd",
   "metadata": {},
   "outputs": [
    {
     "data": {
      "text/plain": [
       "AveragePrice       AxesSubplot(0.125,0.53;0.110714x0.35)\n",
       "Total Volume    AxesSubplot(0.257857,0.53;0.110714x0.35)\n",
       "4046            AxesSubplot(0.390714,0.53;0.110714x0.35)\n",
       "4225            AxesSubplot(0.523571,0.53;0.110714x0.35)\n",
       "4770            AxesSubplot(0.656429,0.53;0.110714x0.35)\n",
       "Total Bags      AxesSubplot(0.789286,0.53;0.110714x0.35)\n",
       "Small Bags         AxesSubplot(0.125,0.11;0.110714x0.35)\n",
       "Large Bags      AxesSubplot(0.257857,0.11;0.110714x0.35)\n",
       "XLarge Bags     AxesSubplot(0.390714,0.11;0.110714x0.35)\n",
       "type            AxesSubplot(0.523571,0.11;0.110714x0.35)\n",
       "year            AxesSubplot(0.656429,0.11;0.110714x0.35)\n",
       "region          AxesSubplot(0.789286,0.11;0.110714x0.35)\n",
       "dtype: object"
      ]
     },
     "execution_count": 24,
     "metadata": {},
     "output_type": "execute_result"
    },
    {
     "data": {
      "image/png": "[encoded data removed]",
      "text/plain": [
       "<Figure size 1000x1000 with 12 Axes>"
      ]
     },
     "metadata": {},
     "output_type": "display_data"
    }
   ],
   "source": [
    "df.plot(kind=\"box\",subplots=True,layout=(2,6),figsize=(10,10))"
   ]
  },
  {
   "cell_type": "markdown",
   "id": "7475fe13",
   "metadata": {},
   "source": [
    "from this above visualization  we get to know that outliers are present in dataset "
   ]
  },
  {
   "cell_type": "code",
   "execution_count": 25,
   "id": "7a2d9016",
   "metadata": {},
   "outputs": [],
   "source": [
    "from scipy.stats import zscore"
   ]
  },
  {
   "cell_type": "code",
   "execution_count": 26,
   "id": "9da89a13",
   "metadata": {},
   "outputs": [],
   "source": [
    "z=np.abs(zscore(df))"
   ]
  },
  {
   "cell_type": "code",
   "execution_count": 27,
   "id": "eacc977a",
   "metadata": {},
   "outputs": [
    {
     "data": {
      "text/html": [
       "<div>\n",
       "<style scoped>\n",
       "    .dataframe tbody tr th:only-of-type {\n",
       "        vertical-align: middle;\n",
       "    }\n",
       "\n",
       "    .dataframe tbody tr th {\n",
       "        vertical-align: top;\n",
       "    }\n",
       "\n",
       "    .dataframe thead th {\n",
       "        text-align: right;\n",
       "    }\n",
       "</style>\n",
       "<table border=\"1\" class=\"dataframe\">\n",
       "  <thead>\n",
       "    <tr style=\"text-align: right;\">\n",
       "      <th></th>\n",
       "      <th>AveragePrice</th>\n",
       "      <th>Total Volume</th>\n",
       "      <th>4046</th>\n",
       "      <th>4225</th>\n",
       "      <th>4770</th>\n",
       "      <th>Total Bags</th>\n",
       "      <th>Small Bags</th>\n",
       "      <th>Large Bags</th>\n",
       "      <th>XLarge Bags</th>\n",
       "      <th>type</th>\n",
       "      <th>year</th>\n",
       "      <th>region</th>\n",
       "    </tr>\n",
       "  </thead>\n",
       "  <tbody>\n",
       "    <tr>\n",
       "      <th>0</th>\n",
       "      <td>0.188689</td>\n",
       "      <td>0.227716</td>\n",
       "      <td>0.230816</td>\n",
       "      <td>0.199902</td>\n",
       "      <td>0.212091</td>\n",
       "      <td>0.234170</td>\n",
       "      <td>0.232647</td>\n",
       "      <td>0.222352</td>\n",
       "      <td>0.17558</td>\n",
       "      <td>0.999836</td>\n",
       "      <td>1.221282</td>\n",
       "      <td>1.700252</td>\n",
       "    </tr>\n",
       "    <tr>\n",
       "      <th>1</th>\n",
       "      <td>0.139020</td>\n",
       "      <td>0.230427</td>\n",
       "      <td>0.231103</td>\n",
       "      <td>0.208054</td>\n",
       "      <td>0.211997</td>\n",
       "      <td>0.233350</td>\n",
       "      <td>0.231568</td>\n",
       "      <td>0.222335</td>\n",
       "      <td>0.17558</td>\n",
       "      <td>0.999836</td>\n",
       "      <td>1.221282</td>\n",
       "      <td>1.700252</td>\n",
       "    </tr>\n",
       "    <tr>\n",
       "      <th>2</th>\n",
       "      <td>1.182069</td>\n",
       "      <td>0.212085</td>\n",
       "      <td>0.231007</td>\n",
       "      <td>0.154478</td>\n",
       "      <td>0.211325</td>\n",
       "      <td>0.234730</td>\n",
       "      <td>0.233399</td>\n",
       "      <td>0.222311</td>\n",
       "      <td>0.17558</td>\n",
       "      <td>0.999836</td>\n",
       "      <td>1.221282</td>\n",
       "      <td>1.700252</td>\n",
       "    </tr>\n",
       "    <tr>\n",
       "      <th>3</th>\n",
       "      <td>0.809551</td>\n",
       "      <td>0.223444</td>\n",
       "      <td>0.230741</td>\n",
       "      <td>0.185350</td>\n",
       "      <td>0.211864</td>\n",
       "      <td>0.237096</td>\n",
       "      <td>0.236568</td>\n",
       "      <td>0.222186</td>\n",
       "      <td>0.17558</td>\n",
       "      <td>0.999836</td>\n",
       "      <td>1.221282</td>\n",
       "      <td>1.700252</td>\n",
       "    </tr>\n",
       "    <tr>\n",
       "      <th>4</th>\n",
       "      <td>0.312861</td>\n",
       "      <td>0.231538</td>\n",
       "      <td>0.230891</td>\n",
       "      <td>0.208719</td>\n",
       "      <td>0.211834</td>\n",
       "      <td>0.236718</td>\n",
       "      <td>0.236154</td>\n",
       "      <td>0.221924</td>\n",
       "      <td>0.17558</td>\n",
       "      <td>0.999836</td>\n",
       "      <td>1.221282</td>\n",
       "      <td>1.700252</td>\n",
       "    </tr>\n",
       "    <tr>\n",
       "      <th>...</th>\n",
       "      <td>...</td>\n",
       "      <td>...</td>\n",
       "      <td>...</td>\n",
       "      <td>...</td>\n",
       "      <td>...</td>\n",
       "      <td>...</td>\n",
       "      <td>...</td>\n",
       "      <td>...</td>\n",
       "      <td>...</td>\n",
       "      <td>...</td>\n",
       "      <td>...</td>\n",
       "      <td>...</td>\n",
       "    </tr>\n",
       "    <tr>\n",
       "      <th>7</th>\n",
       "      <td>0.556347</td>\n",
       "      <td>0.241373</td>\n",
       "      <td>0.230017</td>\n",
       "      <td>0.243857</td>\n",
       "      <td>0.212540</td>\n",
       "      <td>0.229301</td>\n",
       "      <td>0.226665</td>\n",
       "      <td>0.220964</td>\n",
       "      <td>0.17558</td>\n",
       "      <td>1.000164</td>\n",
       "      <td>1.970504</td>\n",
       "      <td>1.700811</td>\n",
       "    </tr>\n",
       "    <tr>\n",
       "      <th>8</th>\n",
       "      <td>0.755023</td>\n",
       "      <td>0.242296</td>\n",
       "      <td>0.230693</td>\n",
       "      <td>0.242277</td>\n",
       "      <td>0.212540</td>\n",
       "      <td>0.233594</td>\n",
       "      <td>0.232196</td>\n",
       "      <td>0.221403</td>\n",
       "      <td>0.17558</td>\n",
       "      <td>1.000164</td>\n",
       "      <td>1.970504</td>\n",
       "      <td>1.700811</td>\n",
       "    </tr>\n",
       "    <tr>\n",
       "      <th>9</th>\n",
       "      <td>1.152375</td>\n",
       "      <td>0.242331</td>\n",
       "      <td>0.230693</td>\n",
       "      <td>0.243090</td>\n",
       "      <td>0.205766</td>\n",
       "      <td>0.233463</td>\n",
       "      <td>0.231644</td>\n",
       "      <td>0.222561</td>\n",
       "      <td>0.17558</td>\n",
       "      <td>1.000164</td>\n",
       "      <td>1.970504</td>\n",
       "      <td>1.700811</td>\n",
       "    </tr>\n",
       "    <tr>\n",
       "      <th>10</th>\n",
       "      <td>1.301382</td>\n",
       "      <td>0.241625</td>\n",
       "      <td>0.230428</td>\n",
       "      <td>0.242651</td>\n",
       "      <td>0.205774</td>\n",
       "      <td>0.231866</td>\n",
       "      <td>0.229543</td>\n",
       "      <td>0.222529</td>\n",
       "      <td>0.17558</td>\n",
       "      <td>1.000164</td>\n",
       "      <td>1.970504</td>\n",
       "      <td>1.700811</td>\n",
       "    </tr>\n",
       "    <tr>\n",
       "      <th>11</th>\n",
       "      <td>0.531512</td>\n",
       "      <td>0.241253</td>\n",
       "      <td>0.229347</td>\n",
       "      <td>0.243170</td>\n",
       "      <td>0.210450</td>\n",
       "      <td>0.230807</td>\n",
       "      <td>0.228111</td>\n",
       "      <td>0.222628</td>\n",
       "      <td>0.17558</td>\n",
       "      <td>1.000164</td>\n",
       "      <td>1.970504</td>\n",
       "      <td>1.700811</td>\n",
       "    </tr>\n",
       "  </tbody>\n",
       "</table>\n",
       "<p>18249 rows × 12 columns</p>\n",
       "</div>"
      ],
      "text/plain": [
       "    AveragePrice  Total Volume      4046      4225      4770  Total Bags  \\\n",
       "0       0.188689      0.227716  0.230816  0.199902  0.212091    0.234170   \n",
       "1       0.139020      0.230427  0.231103  0.208054  0.211997    0.233350   \n",
       "2       1.182069      0.212085  0.231007  0.154478  0.211325    0.234730   \n",
       "3       0.809551      0.223444  0.230741  0.185350  0.211864    0.237096   \n",
       "4       0.312861      0.231538  0.230891  0.208719  0.211834    0.236718   \n",
       "..           ...           ...       ...       ...       ...         ...   \n",
       "7       0.556347      0.241373  0.230017  0.243857  0.212540    0.229301   \n",
       "8       0.755023      0.242296  0.230693  0.242277  0.212540    0.233594   \n",
       "9       1.152375      0.242331  0.230693  0.243090  0.205766    0.233463   \n",
       "10      1.301382      0.241625  0.230428  0.242651  0.205774    0.231866   \n",
       "11      0.531512      0.241253  0.229347  0.243170  0.210450    0.230807   \n",
       "\n",
       "    Small Bags  Large Bags  XLarge Bags      type      year    region  \n",
       "0     0.232647    0.222352      0.17558  0.999836  1.221282  1.700252  \n",
       "1     0.231568    0.222335      0.17558  0.999836  1.221282  1.700252  \n",
       "2     0.233399    0.222311      0.17558  0.999836  1.221282  1.700252  \n",
       "3     0.236568    0.222186      0.17558  0.999836  1.221282  1.700252  \n",
       "4     0.236154    0.221924      0.17558  0.999836  1.221282  1.700252  \n",
       "..         ...         ...          ...       ...       ...       ...  \n",
       "7     0.226665    0.220964      0.17558  1.000164  1.970504  1.700811  \n",
       "8     0.232196    0.221403      0.17558  1.000164  1.970504  1.700811  \n",
       "9     0.231644    0.222561      0.17558  1.000164  1.970504  1.700811  \n",
       "10    0.229543    0.222529      0.17558  1.000164  1.970504  1.700811  \n",
       "11    0.228111    0.222628      0.17558  1.000164  1.970504  1.700811  \n",
       "\n",
       "[18249 rows x 12 columns]"
      ]
     },
     "execution_count": 27,
     "metadata": {},
     "output_type": "execute_result"
    }
   ],
   "source": [
    "z"
   ]
  },
  {
   "cell_type": "code",
   "execution_count": 28,
   "id": "39cf4192",
   "metadata": {},
   "outputs": [
    {
     "name": "stdout",
     "output_type": "stream",
     "text": [
      "(array([  346,   359,   780, ..., 17304, 17402, 17428], dtype=int64), array([2, 2, 8, ..., 0, 0, 0], dtype=int64))\n"
     ]
    }
   ],
   "source": [
    "threashold=3\n",
    "print(np.where(z>3))"
   ]
  },
  {
   "cell_type": "code",
   "execution_count": 29,
   "id": "5616aa33",
   "metadata": {},
   "outputs": [],
   "source": [
    "df_new=df[(z<3).all(axis=1)]"
   ]
  },
  {
   "cell_type": "code",
   "execution_count": 224,
   "id": "0789e4f4",
   "metadata": {},
   "outputs": [
    {
     "data": {
      "text/html": [
       "<div>\n",
       "<style scoped>\n",
       "    .dataframe tbody tr th:only-of-type {\n",
       "        vertical-align: middle;\n",
       "    }\n",
       "\n",
       "    .dataframe tbody tr th {\n",
       "        vertical-align: top;\n",
       "    }\n",
       "\n",
       "    .dataframe thead th {\n",
       "        text-align: right;\n",
       "    }\n",
       "</style>\n",
       "<table border=\"1\" class=\"dataframe\">\n",
       "  <thead>\n",
       "    <tr style=\"text-align: right;\">\n",
       "      <th></th>\n",
       "      <th>AveragePrice</th>\n",
       "      <th>Total Volume</th>\n",
       "      <th>4046</th>\n",
       "      <th>4225</th>\n",
       "      <th>4770</th>\n",
       "      <th>Total Bags</th>\n",
       "      <th>Small Bags</th>\n",
       "      <th>Large Bags</th>\n",
       "      <th>XLarge Bags</th>\n",
       "      <th>type</th>\n",
       "      <th>year</th>\n",
       "      <th>region</th>\n",
       "    </tr>\n",
       "  </thead>\n",
       "  <tbody>\n",
       "    <tr>\n",
       "      <th>0</th>\n",
       "      <td>1.33</td>\n",
       "      <td>64236.62</td>\n",
       "      <td>1036.74</td>\n",
       "      <td>54454.85</td>\n",
       "      <td>48.16</td>\n",
       "      <td>8696.87</td>\n",
       "      <td>8603.62</td>\n",
       "      <td>93.25</td>\n",
       "      <td>0.0</td>\n",
       "      <td>0</td>\n",
       "      <td>2015</td>\n",
       "      <td>0</td>\n",
       "    </tr>\n",
       "    <tr>\n",
       "      <th>1</th>\n",
       "      <td>1.35</td>\n",
       "      <td>54876.98</td>\n",
       "      <td>674.28</td>\n",
       "      <td>44638.81</td>\n",
       "      <td>58.33</td>\n",
       "      <td>9505.56</td>\n",
       "      <td>9408.07</td>\n",
       "      <td>97.49</td>\n",
       "      <td>0.0</td>\n",
       "      <td>0</td>\n",
       "      <td>2015</td>\n",
       "      <td>0</td>\n",
       "    </tr>\n",
       "    <tr>\n",
       "      <th>2</th>\n",
       "      <td>0.93</td>\n",
       "      <td>118220.22</td>\n",
       "      <td>794.70</td>\n",
       "      <td>109149.67</td>\n",
       "      <td>130.50</td>\n",
       "      <td>8145.35</td>\n",
       "      <td>8042.21</td>\n",
       "      <td>103.14</td>\n",
       "      <td>0.0</td>\n",
       "      <td>0</td>\n",
       "      <td>2015</td>\n",
       "      <td>0</td>\n",
       "    </tr>\n",
       "    <tr>\n",
       "      <th>3</th>\n",
       "      <td>1.08</td>\n",
       "      <td>78992.15</td>\n",
       "      <td>1132.00</td>\n",
       "      <td>71976.41</td>\n",
       "      <td>72.58</td>\n",
       "      <td>5811.16</td>\n",
       "      <td>5677.40</td>\n",
       "      <td>133.76</td>\n",
       "      <td>0.0</td>\n",
       "      <td>0</td>\n",
       "      <td>2015</td>\n",
       "      <td>0</td>\n",
       "    </tr>\n",
       "    <tr>\n",
       "      <th>4</th>\n",
       "      <td>1.28</td>\n",
       "      <td>51039.60</td>\n",
       "      <td>941.48</td>\n",
       "      <td>43838.39</td>\n",
       "      <td>75.78</td>\n",
       "      <td>6183.95</td>\n",
       "      <td>5986.26</td>\n",
       "      <td>197.69</td>\n",
       "      <td>0.0</td>\n",
       "      <td>0</td>\n",
       "      <td>2015</td>\n",
       "      <td>0</td>\n",
       "    </tr>\n",
       "    <tr>\n",
       "      <th>...</th>\n",
       "      <td>...</td>\n",
       "      <td>...</td>\n",
       "      <td>...</td>\n",
       "      <td>...</td>\n",
       "      <td>...</td>\n",
       "      <td>...</td>\n",
       "      <td>...</td>\n",
       "      <td>...</td>\n",
       "      <td>...</td>\n",
       "      <td>...</td>\n",
       "      <td>...</td>\n",
       "      <td>...</td>\n",
       "    </tr>\n",
       "    <tr>\n",
       "      <th>7</th>\n",
       "      <td>1.63</td>\n",
       "      <td>17074.83</td>\n",
       "      <td>2046.96</td>\n",
       "      <td>1529.20</td>\n",
       "      <td>0.00</td>\n",
       "      <td>13498.67</td>\n",
       "      <td>13066.82</td>\n",
       "      <td>431.85</td>\n",
       "      <td>0.0</td>\n",
       "      <td>1</td>\n",
       "      <td>2018</td>\n",
       "      <td>53</td>\n",
       "    </tr>\n",
       "    <tr>\n",
       "      <th>8</th>\n",
       "      <td>1.71</td>\n",
       "      <td>13888.04</td>\n",
       "      <td>1191.70</td>\n",
       "      <td>3431.50</td>\n",
       "      <td>0.00</td>\n",
       "      <td>9264.84</td>\n",
       "      <td>8940.04</td>\n",
       "      <td>324.80</td>\n",
       "      <td>0.0</td>\n",
       "      <td>1</td>\n",
       "      <td>2018</td>\n",
       "      <td>53</td>\n",
       "    </tr>\n",
       "    <tr>\n",
       "      <th>9</th>\n",
       "      <td>1.87</td>\n",
       "      <td>13766.76</td>\n",
       "      <td>1191.92</td>\n",
       "      <td>2452.79</td>\n",
       "      <td>727.94</td>\n",
       "      <td>9394.11</td>\n",
       "      <td>9351.80</td>\n",
       "      <td>42.31</td>\n",
       "      <td>0.0</td>\n",
       "      <td>1</td>\n",
       "      <td>2018</td>\n",
       "      <td>53</td>\n",
       "    </tr>\n",
       "    <tr>\n",
       "      <th>10</th>\n",
       "      <td>1.93</td>\n",
       "      <td>16205.22</td>\n",
       "      <td>1527.63</td>\n",
       "      <td>2981.04</td>\n",
       "      <td>727.01</td>\n",
       "      <td>10969.54</td>\n",
       "      <td>10919.54</td>\n",
       "      <td>50.00</td>\n",
       "      <td>0.0</td>\n",
       "      <td>1</td>\n",
       "      <td>2018</td>\n",
       "      <td>53</td>\n",
       "    </tr>\n",
       "    <tr>\n",
       "      <th>11</th>\n",
       "      <td>1.62</td>\n",
       "      <td>17489.58</td>\n",
       "      <td>2894.77</td>\n",
       "      <td>2356.13</td>\n",
       "      <td>224.53</td>\n",
       "      <td>12014.15</td>\n",
       "      <td>11988.14</td>\n",
       "      <td>26.01</td>\n",
       "      <td>0.0</td>\n",
       "      <td>1</td>\n",
       "      <td>2018</td>\n",
       "      <td>53</td>\n",
       "    </tr>\n",
       "  </tbody>\n",
       "</table>\n",
       "<p>17651 rows × 12 columns</p>\n",
       "</div>"
      ],
      "text/plain": [
       "    AveragePrice  Total Volume     4046       4225    4770  Total Bags  \\\n",
       "0           1.33      64236.62  1036.74   54454.85   48.16     8696.87   \n",
       "1           1.35      54876.98   674.28   44638.81   58.33     9505.56   \n",
       "2           0.93     118220.22   794.70  109149.67  130.50     8145.35   \n",
       "3           1.08      78992.15  1132.00   71976.41   72.58     5811.16   \n",
       "4           1.28      51039.60   941.48   43838.39   75.78     6183.95   \n",
       "..           ...           ...      ...        ...     ...         ...   \n",
       "7           1.63      17074.83  2046.96    1529.20    0.00    13498.67   \n",
       "8           1.71      13888.04  1191.70    3431.50    0.00     9264.84   \n",
       "9           1.87      13766.76  1191.92    2452.79  727.94     9394.11   \n",
       "10          1.93      16205.22  1527.63    2981.04  727.01    10969.54   \n",
       "11          1.62      17489.58  2894.77    2356.13  224.53    12014.15   \n",
       "\n",
       "    Small Bags  Large Bags  XLarge Bags  type  year  region  \n",
       "0      8603.62       93.25          0.0     0  2015       0  \n",
       "1      9408.07       97.49          0.0     0  2015       0  \n",
       "2      8042.21      103.14          0.0     0  2015       0  \n",
       "3      5677.40      133.76          0.0     0  2015       0  \n",
       "4      5986.26      197.69          0.0     0  2015       0  \n",
       "..         ...         ...          ...   ...   ...     ...  \n",
       "7     13066.82      431.85          0.0     1  2018      53  \n",
       "8      8940.04      324.80          0.0     1  2018      53  \n",
       "9      9351.80       42.31          0.0     1  2018      53  \n",
       "10    10919.54       50.00          0.0     1  2018      53  \n",
       "11    11988.14       26.01          0.0     1  2018      53  \n",
       "\n",
       "[17651 rows x 12 columns]"
      ]
     },
     "execution_count": 224,
     "metadata": {},
     "output_type": "execute_result"
    }
   ],
   "source": [
    "df_new"
   ]
  },
  {
   "cell_type": "code",
   "execution_count": 33,
   "id": "d8e55bd1",
   "metadata": {},
   "outputs": [],
   "source": [
    "df=df_new"
   ]
  },
  {
   "cell_type": "code",
   "execution_count": 34,
   "id": "2bc538e8",
   "metadata": {},
   "outputs": [
    {
     "data": {
      "text/plain": [
       "(17651, 12)"
      ]
     },
     "execution_count": 34,
     "metadata": {},
     "output_type": "execute_result"
    }
   ],
   "source": [
    "df.shape"
   ]
  },
  {
   "cell_type": "code",
   "execution_count": null,
   "id": "de1391eb",
   "metadata": {},
   "outputs": [],
   "source": [
    "#Predicting the price of acocado"
   ]
  },
  {
   "cell_type": "code",
   "execution_count": 85,
   "id": "003e736a",
   "metadata": {},
   "outputs": [],
   "source": [
    "x=df.iloc[:,1:]"
   ]
  },
  {
   "cell_type": "code",
   "execution_count": 86,
   "id": "d7fda5b1",
   "metadata": {},
   "outputs": [
    {
     "data": {
      "text/html": [
       "<div>\n",
       "<style scoped>\n",
       "    .dataframe tbody tr th:only-of-type {\n",
       "        vertical-align: middle;\n",
       "    }\n",
       "\n",
       "    .dataframe tbody tr th {\n",
       "        vertical-align: top;\n",
       "    }\n",
       "\n",
       "    .dataframe thead th {\n",
       "        text-align: right;\n",
       "    }\n",
       "</style>\n",
       "<table border=\"1\" class=\"dataframe\">\n",
       "  <thead>\n",
       "    <tr style=\"text-align: right;\">\n",
       "      <th></th>\n",
       "      <th>Total Volume</th>\n",
       "      <th>4046</th>\n",
       "      <th>4225</th>\n",
       "      <th>4770</th>\n",
       "      <th>Total Bags</th>\n",
       "      <th>Small Bags</th>\n",
       "      <th>Large Bags</th>\n",
       "      <th>XLarge Bags</th>\n",
       "      <th>type</th>\n",
       "      <th>year</th>\n",
       "      <th>region</th>\n",
       "    </tr>\n",
       "  </thead>\n",
       "  <tbody>\n",
       "    <tr>\n",
       "      <th>0</th>\n",
       "      <td>64236.62</td>\n",
       "      <td>1036.74</td>\n",
       "      <td>54454.85</td>\n",
       "      <td>48.16</td>\n",
       "      <td>8696.87</td>\n",
       "      <td>8603.62</td>\n",
       "      <td>93.25</td>\n",
       "      <td>0.0</td>\n",
       "      <td>0</td>\n",
       "      <td>2015</td>\n",
       "      <td>0</td>\n",
       "    </tr>\n",
       "    <tr>\n",
       "      <th>1</th>\n",
       "      <td>54876.98</td>\n",
       "      <td>674.28</td>\n",
       "      <td>44638.81</td>\n",
       "      <td>58.33</td>\n",
       "      <td>9505.56</td>\n",
       "      <td>9408.07</td>\n",
       "      <td>97.49</td>\n",
       "      <td>0.0</td>\n",
       "      <td>0</td>\n",
       "      <td>2015</td>\n",
       "      <td>0</td>\n",
       "    </tr>\n",
       "    <tr>\n",
       "      <th>2</th>\n",
       "      <td>118220.22</td>\n",
       "      <td>794.70</td>\n",
       "      <td>109149.67</td>\n",
       "      <td>130.50</td>\n",
       "      <td>8145.35</td>\n",
       "      <td>8042.21</td>\n",
       "      <td>103.14</td>\n",
       "      <td>0.0</td>\n",
       "      <td>0</td>\n",
       "      <td>2015</td>\n",
       "      <td>0</td>\n",
       "    </tr>\n",
       "    <tr>\n",
       "      <th>3</th>\n",
       "      <td>78992.15</td>\n",
       "      <td>1132.00</td>\n",
       "      <td>71976.41</td>\n",
       "      <td>72.58</td>\n",
       "      <td>5811.16</td>\n",
       "      <td>5677.40</td>\n",
       "      <td>133.76</td>\n",
       "      <td>0.0</td>\n",
       "      <td>0</td>\n",
       "      <td>2015</td>\n",
       "      <td>0</td>\n",
       "    </tr>\n",
       "    <tr>\n",
       "      <th>4</th>\n",
       "      <td>51039.60</td>\n",
       "      <td>941.48</td>\n",
       "      <td>43838.39</td>\n",
       "      <td>75.78</td>\n",
       "      <td>6183.95</td>\n",
       "      <td>5986.26</td>\n",
       "      <td>197.69</td>\n",
       "      <td>0.0</td>\n",
       "      <td>0</td>\n",
       "      <td>2015</td>\n",
       "      <td>0</td>\n",
       "    </tr>\n",
       "    <tr>\n",
       "      <th>...</th>\n",
       "      <td>...</td>\n",
       "      <td>...</td>\n",
       "      <td>...</td>\n",
       "      <td>...</td>\n",
       "      <td>...</td>\n",
       "      <td>...</td>\n",
       "      <td>...</td>\n",
       "      <td>...</td>\n",
       "      <td>...</td>\n",
       "      <td>...</td>\n",
       "      <td>...</td>\n",
       "    </tr>\n",
       "    <tr>\n",
       "      <th>7</th>\n",
       "      <td>17074.83</td>\n",
       "      <td>2046.96</td>\n",
       "      <td>1529.20</td>\n",
       "      <td>0.00</td>\n",
       "      <td>13498.67</td>\n",
       "      <td>13066.82</td>\n",
       "      <td>431.85</td>\n",
       "      <td>0.0</td>\n",
       "      <td>1</td>\n",
       "      <td>2018</td>\n",
       "      <td>53</td>\n",
       "    </tr>\n",
       "    <tr>\n",
       "      <th>8</th>\n",
       "      <td>13888.04</td>\n",
       "      <td>1191.70</td>\n",
       "      <td>3431.50</td>\n",
       "      <td>0.00</td>\n",
       "      <td>9264.84</td>\n",
       "      <td>8940.04</td>\n",
       "      <td>324.80</td>\n",
       "      <td>0.0</td>\n",
       "      <td>1</td>\n",
       "      <td>2018</td>\n",
       "      <td>53</td>\n",
       "    </tr>\n",
       "    <tr>\n",
       "      <th>9</th>\n",
       "      <td>13766.76</td>\n",
       "      <td>1191.92</td>\n",
       "      <td>2452.79</td>\n",
       "      <td>727.94</td>\n",
       "      <td>9394.11</td>\n",
       "      <td>9351.80</td>\n",
       "      <td>42.31</td>\n",
       "      <td>0.0</td>\n",
       "      <td>1</td>\n",
       "      <td>2018</td>\n",
       "      <td>53</td>\n",
       "    </tr>\n",
       "    <tr>\n",
       "      <th>10</th>\n",
       "      <td>16205.22</td>\n",
       "      <td>1527.63</td>\n",
       "      <td>2981.04</td>\n",
       "      <td>727.01</td>\n",
       "      <td>10969.54</td>\n",
       "      <td>10919.54</td>\n",
       "      <td>50.00</td>\n",
       "      <td>0.0</td>\n",
       "      <td>1</td>\n",
       "      <td>2018</td>\n",
       "      <td>53</td>\n",
       "    </tr>\n",
       "    <tr>\n",
       "      <th>11</th>\n",
       "      <td>17489.58</td>\n",
       "      <td>2894.77</td>\n",
       "      <td>2356.13</td>\n",
       "      <td>224.53</td>\n",
       "      <td>12014.15</td>\n",
       "      <td>11988.14</td>\n",
       "      <td>26.01</td>\n",
       "      <td>0.0</td>\n",
       "      <td>1</td>\n",
       "      <td>2018</td>\n",
       "      <td>53</td>\n",
       "    </tr>\n",
       "  </tbody>\n",
       "</table>\n",
       "<p>17651 rows × 11 columns</p>\n",
       "</div>"
      ],
      "text/plain": [
       "    Total Volume     4046       4225    4770  Total Bags  Small Bags  \\\n",
       "0       64236.62  1036.74   54454.85   48.16     8696.87     8603.62   \n",
       "1       54876.98   674.28   44638.81   58.33     9505.56     9408.07   \n",
       "2      118220.22   794.70  109149.67  130.50     8145.35     8042.21   \n",
       "3       78992.15  1132.00   71976.41   72.58     5811.16     5677.40   \n",
       "4       51039.60   941.48   43838.39   75.78     6183.95     5986.26   \n",
       "..           ...      ...        ...     ...         ...         ...   \n",
       "7       17074.83  2046.96    1529.20    0.00    13498.67    13066.82   \n",
       "8       13888.04  1191.70    3431.50    0.00     9264.84     8940.04   \n",
       "9       13766.76  1191.92    2452.79  727.94     9394.11     9351.80   \n",
       "10      16205.22  1527.63    2981.04  727.01    10969.54    10919.54   \n",
       "11      17489.58  2894.77    2356.13  224.53    12014.15    11988.14   \n",
       "\n",
       "    Large Bags  XLarge Bags  type  year  region  \n",
       "0        93.25          0.0     0  2015       0  \n",
       "1        97.49          0.0     0  2015       0  \n",
       "2       103.14          0.0     0  2015       0  \n",
       "3       133.76          0.0     0  2015       0  \n",
       "4       197.69          0.0     0  2015       0  \n",
       "..         ...          ...   ...   ...     ...  \n",
       "7       431.85          0.0     1  2018      53  \n",
       "8       324.80          0.0     1  2018      53  \n",
       "9        42.31          0.0     1  2018      53  \n",
       "10       50.00          0.0     1  2018      53  \n",
       "11       26.01          0.0     1  2018      53  \n",
       "\n",
       "[17651 rows x 11 columns]"
      ]
     },
     "execution_count": 86,
     "metadata": {},
     "output_type": "execute_result"
    }
   ],
   "source": [
    "x"
   ]
  },
  {
   "cell_type": "code",
   "execution_count": 87,
   "id": "f0cc8256",
   "metadata": {},
   "outputs": [],
   "source": [
    "y=df.iloc[:,0]"
   ]
  },
  {
   "cell_type": "code",
   "execution_count": 90,
   "id": "99bfb24b",
   "metadata": {},
   "outputs": [
    {
     "data": {
      "text/plain": [
       "0     1.33\n",
       "1     1.35\n",
       "2     0.93\n",
       "3     1.08\n",
       "4     1.28\n",
       "      ... \n",
       "7     1.63\n",
       "8     1.71\n",
       "9     1.87\n",
       "10    1.93\n",
       "11    1.62\n",
       "Name: AveragePrice, Length: 17651, dtype: float64"
      ]
     },
     "execution_count": 90,
     "metadata": {},
     "output_type": "execute_result"
    }
   ],
   "source": [
    "y"
   ]
  },
  {
   "cell_type": "code",
   "execution_count": 143,
   "id": "56502a7b",
   "metadata": {},
   "outputs": [],
   "source": [
    "from sklearn.preprocessing import MinMaxScaler,StandardScaler"
   ]
  },
  {
   "cell_type": "code",
   "execution_count": 92,
   "id": "330fed47",
   "metadata": {},
   "outputs": [],
   "source": [
    "mms=MinMaxScaler()"
   ]
  },
  {
   "cell_type": "code",
   "execution_count": 112,
   "id": "accb44d2",
   "metadata": {},
   "outputs": [
    {
     "data": {
      "text/plain": [
       "array([[7.67147114e-03, 2.53738579e-04, 1.39814180e-02, ...,\n",
       "        0.00000000e+00, 0.00000000e+00, 0.00000000e+00],\n",
       "       [6.55222091e-03, 1.65027730e-04, 1.14611253e-02, ...,\n",
       "        0.00000000e+00, 0.00000000e+00, 0.00000000e+00],\n",
       "       [1.41269712e-02, 1.94500114e-04, 2.80244489e-02, ...,\n",
       "        0.00000000e+00, 0.00000000e+00, 0.00000000e+00],\n",
       "       ...,\n",
       "       [1.63615326e-03, 2.91718354e-04, 6.29759925e-04, ...,\n",
       "        1.00000000e+00, 1.00000000e+00, 1.00000000e+00],\n",
       "       [1.92775069e-03, 3.73882232e-04, 7.65389424e-04, ...,\n",
       "        1.00000000e+00, 1.00000000e+00, 1.00000000e+00],\n",
       "       [2.08133782e-03, 7.08485084e-04, 6.04942230e-04, ...,\n",
       "        1.00000000e+00, 1.00000000e+00, 1.00000000e+00]])"
      ]
     },
     "execution_count": 112,
     "metadata": {},
     "output_type": "execute_result"
    }
   ],
   "source": [
    "x=mms.fit_transform(x)\n",
    "x"
   ]
  },
  {
   "cell_type": "code",
   "execution_count": 94,
   "id": "7098f11e",
   "metadata": {},
   "outputs": [
    {
     "data": {
      "text/plain": [
       "(17651,)"
      ]
     },
     "execution_count": 94,
     "metadata": {},
     "output_type": "execute_result"
    }
   ],
   "source": [
    "y.shape"
   ]
  },
  {
   "cell_type": "code",
   "execution_count": 113,
   "id": "4c2531cb",
   "metadata": {},
   "outputs": [],
   "source": [
    "xtrain,xtest,ytrain,ytest=train_test_split(x,y,test_size=.30,random_state=48)"
   ]
  },
  {
   "cell_type": "code",
   "execution_count": 114,
   "id": "783194da",
   "metadata": {},
   "outputs": [
    {
     "data": {
      "text/plain": [
       "(12355, 11)"
      ]
     },
     "execution_count": 114,
     "metadata": {},
     "output_type": "execute_result"
    }
   ],
   "source": [
    "xtrain.shape"
   ]
  },
  {
   "cell_type": "code",
   "execution_count": 115,
   "id": "7d37f2ec",
   "metadata": {},
   "outputs": [
    {
     "data": {
      "text/plain": [
       "(12355,)"
      ]
     },
     "execution_count": 115,
     "metadata": {},
     "output_type": "execute_result"
    }
   ],
   "source": [
    "ytrain.shape"
   ]
  },
  {
   "cell_type": "code",
   "execution_count": 116,
   "id": "31ff4cf3",
   "metadata": {},
   "outputs": [],
   "source": [
    "lg=LinearRegression()"
   ]
  },
  {
   "cell_type": "code",
   "execution_count": 117,
   "id": "fc47665b",
   "metadata": {},
   "outputs": [
    {
     "data": {
      "text/plain": [
       "LinearRegression()"
      ]
     },
     "execution_count": 117,
     "metadata": {},
     "output_type": "execute_result"
    }
   ],
   "source": [
    "lg"
   ]
  },
  {
   "cell_type": "code",
   "execution_count": 118,
   "id": "237df001",
   "metadata": {},
   "outputs": [
    {
     "data": {
      "text/plain": [
       "LinearRegression()"
      ]
     },
     "execution_count": 118,
     "metadata": {},
     "output_type": "execute_result"
    }
   ],
   "source": [
    "lg.fit(xtrain,ytrain)"
   ]
  },
  {
   "cell_type": "code",
   "execution_count": 119,
   "id": "d2341fb8",
   "metadata": {},
   "outputs": [
    {
     "data": {
      "text/plain": [
       "0.4082276855760495"
      ]
     },
     "execution_count": 119,
     "metadata": {},
     "output_type": "execute_result"
    }
   ],
   "source": [
    "lg.score(xtrain,ytrain)"
   ]
  },
  {
   "cell_type": "code",
   "execution_count": 120,
   "id": "340b9fea",
   "metadata": {},
   "outputs": [],
   "source": [
    "lpred=lg.predict(xtest)"
   ]
  },
  {
   "cell_type": "code",
   "execution_count": 121,
   "id": "9452b101",
   "metadata": {},
   "outputs": [
    {
     "name": "stdout",
     "output_type": "stream",
     "text": [
      "Mean squared error 0.08680123213740361\n",
      "Mean absolute_error 0.23104494192600142\n",
      "Root mean Squared error 0.2946204883191317\n"
     ]
    }
   ],
   "source": [
    "print(\"Mean squared error\",mean_squared_error(ytest,lpred))\n",
    "print(\"Mean absolute_error\",mean_absolute_error(ytest,lpred))\n",
    "print(\"Root mean Squared error\",np.sqrt(mean_squared_error(ytest,lpred)))"
   ]
  },
  {
   "cell_type": "code",
   "execution_count": 127,
   "id": "1b2a6257",
   "metadata": {},
   "outputs": [],
   "source": [
    "#takeing the sample data\n",
    "p=np.array([64236.62,1036.74,54454.85,48.16,8696.87,8603.62,93.25,0.0,0,2015,0])"
   ]
  },
  {
   "cell_type": "code",
   "execution_count": 128,
   "id": "25b8af4f",
   "metadata": {},
   "outputs": [],
   "source": [
    "p=p.reshape(1,-1)"
   ]
  },
  {
   "cell_type": "code",
   "execution_count": 129,
   "id": "c8c16707",
   "metadata": {},
   "outputs": [
    {
     "data": {
      "text/plain": [
       "(1, 11)"
      ]
     },
     "execution_count": 129,
     "metadata": {},
     "output_type": "execute_result"
    }
   ],
   "source": [
    "p.shape"
   ]
  },
  {
   "cell_type": "code",
   "execution_count": 130,
   "id": "68aa7ff6",
   "metadata": {},
   "outputs": [
    {
     "data": {
      "text/plain": [
       "array([1.14023955e+08])"
      ]
     },
     "execution_count": 130,
     "metadata": {},
     "output_type": "execute_result"
    }
   ],
   "source": [
    "lg.predict(p)"
   ]
  },
  {
   "cell_type": "code",
   "execution_count": 131,
   "id": "741f8a42",
   "metadata": {},
   "outputs": [],
   "source": [
    "#predicting the region of avacado"
   ]
  },
  {
   "cell_type": "code",
   "execution_count": 133,
   "id": "56856f69",
   "metadata": {},
   "outputs": [
    {
     "data": {
      "text/html": [
       "<div>\n",
       "<style scoped>\n",
       "    .dataframe tbody tr th:only-of-type {\n",
       "        vertical-align: middle;\n",
       "    }\n",
       "\n",
       "    .dataframe tbody tr th {\n",
       "        vertical-align: top;\n",
       "    }\n",
       "\n",
       "    .dataframe thead th {\n",
       "        text-align: right;\n",
       "    }\n",
       "</style>\n",
       "<table border=\"1\" class=\"dataframe\">\n",
       "  <thead>\n",
       "    <tr style=\"text-align: right;\">\n",
       "      <th></th>\n",
       "      <th>AveragePrice</th>\n",
       "      <th>Total Volume</th>\n",
       "      <th>4046</th>\n",
       "      <th>4225</th>\n",
       "      <th>4770</th>\n",
       "      <th>Total Bags</th>\n",
       "      <th>Small Bags</th>\n",
       "      <th>Large Bags</th>\n",
       "      <th>XLarge Bags</th>\n",
       "      <th>type</th>\n",
       "      <th>year</th>\n",
       "      <th>region</th>\n",
       "    </tr>\n",
       "  </thead>\n",
       "  <tbody>\n",
       "    <tr>\n",
       "      <th>0</th>\n",
       "      <td>1.33</td>\n",
       "      <td>64236.62</td>\n",
       "      <td>1036.74</td>\n",
       "      <td>54454.85</td>\n",
       "      <td>48.16</td>\n",
       "      <td>8696.87</td>\n",
       "      <td>8603.62</td>\n",
       "      <td>93.25</td>\n",
       "      <td>0.0</td>\n",
       "      <td>0</td>\n",
       "      <td>2015</td>\n",
       "      <td>0</td>\n",
       "    </tr>\n",
       "    <tr>\n",
       "      <th>1</th>\n",
       "      <td>1.35</td>\n",
       "      <td>54876.98</td>\n",
       "      <td>674.28</td>\n",
       "      <td>44638.81</td>\n",
       "      <td>58.33</td>\n",
       "      <td>9505.56</td>\n",
       "      <td>9408.07</td>\n",
       "      <td>97.49</td>\n",
       "      <td>0.0</td>\n",
       "      <td>0</td>\n",
       "      <td>2015</td>\n",
       "      <td>0</td>\n",
       "    </tr>\n",
       "    <tr>\n",
       "      <th>2</th>\n",
       "      <td>0.93</td>\n",
       "      <td>118220.22</td>\n",
       "      <td>794.70</td>\n",
       "      <td>109149.67</td>\n",
       "      <td>130.50</td>\n",
       "      <td>8145.35</td>\n",
       "      <td>8042.21</td>\n",
       "      <td>103.14</td>\n",
       "      <td>0.0</td>\n",
       "      <td>0</td>\n",
       "      <td>2015</td>\n",
       "      <td>0</td>\n",
       "    </tr>\n",
       "    <tr>\n",
       "      <th>3</th>\n",
       "      <td>1.08</td>\n",
       "      <td>78992.15</td>\n",
       "      <td>1132.00</td>\n",
       "      <td>71976.41</td>\n",
       "      <td>72.58</td>\n",
       "      <td>5811.16</td>\n",
       "      <td>5677.40</td>\n",
       "      <td>133.76</td>\n",
       "      <td>0.0</td>\n",
       "      <td>0</td>\n",
       "      <td>2015</td>\n",
       "      <td>0</td>\n",
       "    </tr>\n",
       "    <tr>\n",
       "      <th>4</th>\n",
       "      <td>1.28</td>\n",
       "      <td>51039.60</td>\n",
       "      <td>941.48</td>\n",
       "      <td>43838.39</td>\n",
       "      <td>75.78</td>\n",
       "      <td>6183.95</td>\n",
       "      <td>5986.26</td>\n",
       "      <td>197.69</td>\n",
       "      <td>0.0</td>\n",
       "      <td>0</td>\n",
       "      <td>2015</td>\n",
       "      <td>0</td>\n",
       "    </tr>\n",
       "  </tbody>\n",
       "</table>\n",
       "</div>"
      ],
      "text/plain": [
       "   AveragePrice  Total Volume     4046       4225    4770  Total Bags  \\\n",
       "0          1.33      64236.62  1036.74   54454.85   48.16     8696.87   \n",
       "1          1.35      54876.98   674.28   44638.81   58.33     9505.56   \n",
       "2          0.93     118220.22   794.70  109149.67  130.50     8145.35   \n",
       "3          1.08      78992.15  1132.00   71976.41   72.58     5811.16   \n",
       "4          1.28      51039.60   941.48   43838.39   75.78     6183.95   \n",
       "\n",
       "   Small Bags  Large Bags  XLarge Bags  type  year  region  \n",
       "0     8603.62       93.25          0.0     0  2015       0  \n",
       "1     9408.07       97.49          0.0     0  2015       0  \n",
       "2     8042.21      103.14          0.0     0  2015       0  \n",
       "3     5677.40      133.76          0.0     0  2015       0  \n",
       "4     5986.26      197.69          0.0     0  2015       0  "
      ]
     },
     "execution_count": 133,
     "metadata": {},
     "output_type": "execute_result"
    }
   ],
   "source": [
    "df.head()"
   ]
  },
  {
   "cell_type": "code",
   "execution_count": 137,
   "id": "19c103a1",
   "metadata": {},
   "outputs": [],
   "source": [
    "a=df.iloc[:,0:-1]"
   ]
  },
  {
   "cell_type": "code",
   "execution_count": 139,
   "id": "6c1b82d7",
   "metadata": {},
   "outputs": [
    {
     "data": {
      "text/html": [
       "<div>\n",
       "<style scoped>\n",
       "    .dataframe tbody tr th:only-of-type {\n",
       "        vertical-align: middle;\n",
       "    }\n",
       "\n",
       "    .dataframe tbody tr th {\n",
       "        vertical-align: top;\n",
       "    }\n",
       "\n",
       "    .dataframe thead th {\n",
       "        text-align: right;\n",
       "    }\n",
       "</style>\n",
       "<table border=\"1\" class=\"dataframe\">\n",
       "  <thead>\n",
       "    <tr style=\"text-align: right;\">\n",
       "      <th></th>\n",
       "      <th>AveragePrice</th>\n",
       "      <th>Total Volume</th>\n",
       "      <th>4046</th>\n",
       "      <th>4225</th>\n",
       "      <th>4770</th>\n",
       "      <th>Total Bags</th>\n",
       "      <th>Small Bags</th>\n",
       "      <th>Large Bags</th>\n",
       "      <th>XLarge Bags</th>\n",
       "      <th>type</th>\n",
       "      <th>year</th>\n",
       "    </tr>\n",
       "  </thead>\n",
       "  <tbody>\n",
       "    <tr>\n",
       "      <th>0</th>\n",
       "      <td>1.33</td>\n",
       "      <td>64236.62</td>\n",
       "      <td>1036.74</td>\n",
       "      <td>54454.85</td>\n",
       "      <td>48.16</td>\n",
       "      <td>8696.87</td>\n",
       "      <td>8603.62</td>\n",
       "      <td>93.25</td>\n",
       "      <td>0.0</td>\n",
       "      <td>0</td>\n",
       "      <td>2015</td>\n",
       "    </tr>\n",
       "  </tbody>\n",
       "</table>\n",
       "</div>"
      ],
      "text/plain": [
       "   AveragePrice  Total Volume     4046      4225   4770  Total Bags  \\\n",
       "0          1.33      64236.62  1036.74  54454.85  48.16     8696.87   \n",
       "\n",
       "   Small Bags  Large Bags  XLarge Bags  type  year  \n",
       "0     8603.62       93.25          0.0     0  2015  "
      ]
     },
     "execution_count": 139,
     "metadata": {},
     "output_type": "execute_result"
    }
   ],
   "source": [
    "a.head(1)"
   ]
  },
  {
   "cell_type": "code",
   "execution_count": 140,
   "id": "39a2d9d8",
   "metadata": {},
   "outputs": [],
   "source": [
    "b=df.iloc[:,-1]"
   ]
  },
  {
   "cell_type": "code",
   "execution_count": 141,
   "id": "06281e31",
   "metadata": {},
   "outputs": [
    {
     "data": {
      "text/plain": [
       "0      0\n",
       "1      0\n",
       "2      0\n",
       "3      0\n",
       "4      0\n",
       "      ..\n",
       "7     53\n",
       "8     53\n",
       "9     53\n",
       "10    53\n",
       "11    53\n",
       "Name: region, Length: 17651, dtype: int32"
      ]
     },
     "execution_count": 141,
     "metadata": {},
     "output_type": "execute_result"
    }
   ],
   "source": [
    "b"
   ]
  },
  {
   "cell_type": "code",
   "execution_count": 144,
   "id": "8fb61d85",
   "metadata": {},
   "outputs": [],
   "source": [
    "ss=StandardScaler()"
   ]
  },
  {
   "cell_type": "code",
   "execution_count": 145,
   "id": "e78a67e4",
   "metadata": {},
   "outputs": [],
   "source": [
    "a=ss.fit_transform(a)"
   ]
  },
  {
   "cell_type": "code",
   "execution_count": 146,
   "id": "0b083946",
   "metadata": {},
   "outputs": [
    {
     "data": {
      "text/plain": [
       "array([[-0.19535234, -0.3920086 , -0.34945151, ..., -0.25902684,\n",
       "        -1.01904715, -1.21001338],\n",
       "       [-0.1435096 , -0.40125088, -0.3502761 , ..., -0.25902684,\n",
       "        -1.01904715, -1.21001338],\n",
       "       [-1.2322071 , -0.33870193, -0.35000214, ..., -0.25902684,\n",
       "        -1.01904715, -1.21001338],\n",
       "       ...,\n",
       "       [ 1.20440158, -0.44184559, -0.34909848, ..., -0.25902684,\n",
       "         0.98130886,  1.98075592],\n",
       "       [ 1.35992979, -0.43943771, -0.34833475, ..., -0.25902684,\n",
       "         0.98130886,  1.98075592],\n",
       "       [ 0.55636736, -0.43816945, -0.34522454, ..., -0.25902684,\n",
       "         0.98130886,  1.98075592]])"
      ]
     },
     "execution_count": 146,
     "metadata": {},
     "output_type": "execute_result"
    }
   ],
   "source": [
    "a"
   ]
  },
  {
   "cell_type": "code",
   "execution_count": 147,
   "id": "81000d1c",
   "metadata": {},
   "outputs": [
    {
     "data": {
      "text/plain": [
       "9.904803471855094e-15"
      ]
     },
     "execution_count": 147,
     "metadata": {},
     "output_type": "execute_result"
    }
   ],
   "source": [
    "a.mean()"
   ]
  },
  {
   "cell_type": "code",
   "execution_count": 148,
   "id": "a1c48bb6",
   "metadata": {},
   "outputs": [
    {
     "data": {
      "text/plain": [
       "1.0"
      ]
     },
     "execution_count": 148,
     "metadata": {},
     "output_type": "execute_result"
    }
   ],
   "source": [
    "a.std()"
   ]
  },
  {
   "cell_type": "code",
   "execution_count": 213,
   "id": "882757d0",
   "metadata": {},
   "outputs": [],
   "source": [
    "atrain,atest,btrain,btest=train_test_split(a,b,test_size=.27,random_state=47)"
   ]
  },
  {
   "cell_type": "code",
   "execution_count": 166,
   "id": "11f9ccf2",
   "metadata": {},
   "outputs": [
    {
     "data": {
      "text/plain": [
       "(12708, 11)"
      ]
     },
     "execution_count": 166,
     "metadata": {},
     "output_type": "execute_result"
    }
   ],
   "source": [
    "atrain.shape"
   ]
  },
  {
   "cell_type": "code",
   "execution_count": 167,
   "id": "f66746be",
   "metadata": {},
   "outputs": [
    {
     "data": {
      "text/plain": [
       "(12708,)"
      ]
     },
     "execution_count": 167,
     "metadata": {},
     "output_type": "execute_result"
    }
   ],
   "source": [
    "btrain.shape"
   ]
  },
  {
   "cell_type": "code",
   "execution_count": 168,
   "id": "0157ad8c",
   "metadata": {},
   "outputs": [],
   "source": [
    "lo=LogisticRegression()"
   ]
  },
  {
   "cell_type": "code",
   "execution_count": 169,
   "id": "f8cee922",
   "metadata": {},
   "outputs": [
    {
     "data": {
      "text/plain": [
       "LogisticRegression()"
      ]
     },
     "execution_count": 169,
     "metadata": {},
     "output_type": "execute_result"
    }
   ],
   "source": [
    "lo"
   ]
  },
  {
   "cell_type": "code",
   "execution_count": 170,
   "id": "cd78b729",
   "metadata": {},
   "outputs": [
    {
     "data": {
      "text/plain": [
       "LogisticRegression()"
      ]
     },
     "execution_count": 170,
     "metadata": {},
     "output_type": "execute_result"
    }
   ],
   "source": [
    "lo.fit(atrain,btrain)"
   ]
  },
  {
   "cell_type": "code",
   "execution_count": 171,
   "id": "b351223e",
   "metadata": {},
   "outputs": [],
   "source": [
    "l_pred=lo.predict(atest)"
   ]
  },
  {
   "cell_type": "code",
   "execution_count": 172,
   "id": "ac6c5af3",
   "metadata": {},
   "outputs": [
    {
     "name": "stdout",
     "output_type": "stream",
     "text": [
      "Accuracy score 0.39874570099130086\n",
      "confusion matrix [[58  0  0 ...  0  0  0]\n",
      " [ 2 26  0 ...  0  0  0]\n",
      " [ 0  3 51 ...  0  0  0]\n",
      " ...\n",
      " [ 0  0  0 ... 24  4  0]\n",
      " [ 0  0  0 ...  2 49  0]\n",
      " [ 0  4  0 ...  0  0 36]]\n",
      "Classification report               precision    recall  f1-score   support\n",
      "\n",
      "           0       0.23      0.64      0.34        91\n",
      "           1       0.25      0.30      0.28        86\n",
      "           2       0.65      0.51      0.57       100\n",
      "           3       0.25      0.48      0.33        96\n",
      "           4       0.62      0.32      0.43       105\n",
      "           5       0.38      0.32      0.35        93\n",
      "           6       0.94      0.63      0.76        81\n",
      "           7       0.20      0.38      0.26        97\n",
      "           8       0.66      0.53      0.59        88\n",
      "           9       0.35      0.46      0.40        82\n",
      "          10       0.45      0.21      0.28       102\n",
      "          11       0.38      0.55      0.45        82\n",
      "          12       0.67      0.42      0.51       108\n",
      "          13       0.76      0.35      0.48        88\n",
      "          14       0.74      0.28      0.41       104\n",
      "          15       0.53      0.62      0.57        76\n",
      "          16       0.79      0.36      0.49       114\n",
      "          17       0.18      0.70      0.29        84\n",
      "          18       0.23      0.19      0.21        94\n",
      "          19       0.59      0.31      0.41        83\n",
      "          20       0.22      0.57      0.32        86\n",
      "          21       0.43      0.35      0.38        84\n",
      "          22       0.57      0.74      0.64        87\n",
      "          23       0.29      0.48      0.36        93\n",
      "          24       0.53      0.35      0.42        94\n",
      "          25       0.77      0.52      0.62       105\n",
      "          26       0.20      0.19      0.19       100\n",
      "          27       0.20      0.39      0.26        82\n",
      "          28       0.67      0.62      0.64       100\n",
      "          29       0.57      0.89      0.69        75\n",
      "          30       0.53      0.23      0.32       108\n",
      "          31       0.13      0.12      0.13        96\n",
      "          32       0.45      0.40      0.43        97\n",
      "          33       0.40      0.19      0.26        98\n",
      "          34       0.33      0.04      0.07        95\n",
      "          35       0.88      0.48      0.63        95\n",
      "          36       0.50      0.27      0.35        91\n",
      "          37       0.48      0.35      0.41        93\n",
      "          38       0.32      0.30      0.31        94\n",
      "          39       0.12      0.46      0.20        82\n",
      "          40       0.41      0.52      0.46        95\n",
      "          41       0.39      0.34      0.36        86\n",
      "          42       0.93      0.49      0.64        86\n",
      "          43       0.49      0.38      0.43        89\n",
      "          44       0.87      0.18      0.30       109\n",
      "          45       0.77      0.61      0.68        84\n",
      "          46       0.76      0.52      0.62        86\n",
      "          47       0.17      0.10      0.13        88\n",
      "          48       0.30      0.36      0.33        99\n",
      "          49       0.50      0.34      0.40       107\n",
      "          50       0.18      0.07      0.11        95\n",
      "          51       0.86      0.80      0.83        30\n",
      "          52       0.75      0.68      0.72        72\n",
      "          53       0.97      0.33      0.50       108\n",
      "\n",
      "    accuracy                           0.40      4943\n",
      "   macro avg       0.50      0.41      0.42      4943\n",
      "weighted avg       0.50      0.40      0.41      4943\n",
      "\n"
     ]
    }
   ],
   "source": [
    "print(\"Accuracy score\",accuracy_score(btest,l_pred))\n",
    "print(\"confusion matrix\",confusion_matrix(btest,l_pred))\n",
    "print(\"Classification report\",classification_report(btest,l_pred))"
   ]
  },
  {
   "cell_type": "code",
   "execution_count": 214,
   "id": "a26b7f1a",
   "metadata": {},
   "outputs": [],
   "source": [
    "dtc=DecisionTreeClassifier()"
   ]
  },
  {
   "cell_type": "code",
   "execution_count": 215,
   "id": "74260697",
   "metadata": {},
   "outputs": [
    {
     "data": {
      "text/plain": [
       "DecisionTreeClassifier()"
      ]
     },
     "execution_count": 215,
     "metadata": {},
     "output_type": "execute_result"
    }
   ],
   "source": [
    "dtc"
   ]
  },
  {
   "cell_type": "code",
   "execution_count": 216,
   "id": "399474e3",
   "metadata": {},
   "outputs": [
    {
     "data": {
      "text/plain": [
       "DecisionTreeClassifier()"
      ]
     },
     "execution_count": 216,
     "metadata": {},
     "output_type": "execute_result"
    }
   ],
   "source": [
    "dtc.fit(atrain,btrain)"
   ]
  },
  {
   "cell_type": "code",
   "execution_count": 217,
   "id": "ad6b12c9",
   "metadata": {},
   "outputs": [],
   "source": [
    "dpred=dtc.predict(atest)"
   ]
  },
  {
   "cell_type": "code",
   "execution_count": 218,
   "id": "c133834c",
   "metadata": {},
   "outputs": [
    {
     "name": "stdout",
     "output_type": "stream",
     "text": [
      "Accuracy score 0.789760805707092\n",
      "confusion matrix [[72  0  0 ...  0  0  0]\n",
      " [ 0 64  0 ...  0  0  0]\n",
      " [ 0  0 73 ...  0  0  2]\n",
      " ...\n",
      " [ 0  0  0 ... 42  0  0]\n",
      " [ 0  0  0 ...  0 54  0]\n",
      " [ 0  2  0 ...  0  0 76]]\n",
      "Classification report               precision    recall  f1-score   support\n",
      "\n",
      "           0       0.74      0.82      0.78        88\n",
      "           1       0.76      0.66      0.71        97\n",
      "           2       0.83      0.90      0.86        81\n",
      "           3       0.82      0.81      0.81        84\n",
      "           4       0.82      0.85      0.84        87\n",
      "           5       0.71      0.71      0.71       108\n",
      "           6       0.96      0.93      0.95        85\n",
      "           7       0.85      0.82      0.83        88\n",
      "           8       0.84      0.92      0.88       100\n",
      "           9       0.72      0.82      0.77        88\n",
      "          10       0.71      0.65      0.68        92\n",
      "          11       0.84      0.82      0.83       105\n",
      "          12       0.86      0.78      0.82        94\n",
      "          13       0.71      0.72      0.71        88\n",
      "          14       0.85      0.88      0.86       100\n",
      "          15       0.97      0.89      0.93        70\n",
      "          16       0.80      0.90      0.85        98\n",
      "          17       0.83      0.71      0.77        84\n",
      "          18       0.82      0.83      0.82        92\n",
      "          19       0.73      0.75      0.74        96\n",
      "          20       0.83      0.81      0.82        88\n",
      "          21       0.69      0.60      0.64        80\n",
      "          22       0.90      0.94      0.92        95\n",
      "          23       0.69      0.67      0.68        91\n",
      "          24       0.70      0.51      0.59       102\n",
      "          25       0.95      0.90      0.93        90\n",
      "          26       0.63      0.69      0.66        91\n",
      "          27       0.78      0.83      0.81        83\n",
      "          28       0.84      0.82      0.83        79\n",
      "          29       0.80      0.96      0.87        90\n",
      "          30       0.86      0.91      0.89        91\n",
      "          31       0.59      0.68      0.63        75\n",
      "          32       0.87      0.70      0.77        93\n",
      "          33       0.82      0.77      0.79        98\n",
      "          34       0.78      0.72      0.75        90\n",
      "          35       0.85      0.88      0.87        84\n",
      "          36       0.70      0.66      0.68        94\n",
      "          37       0.64      0.79      0.71        82\n",
      "          38       0.79      0.74      0.77        97\n",
      "          39       0.88      0.80      0.84        93\n",
      "          40       0.79      0.85      0.82        95\n",
      "          41       0.66      0.80      0.72        83\n",
      "          42       0.90      0.85      0.87        71\n",
      "          43       0.79      0.74      0.77        94\n",
      "          44       0.80      0.82      0.81       105\n",
      "          45       0.93      0.96      0.94        89\n",
      "          46       0.96      0.88      0.92        76\n",
      "          47       0.81      0.76      0.78        76\n",
      "          48       0.73      0.62      0.67        96\n",
      "          49       0.78      0.75      0.76       104\n",
      "          50       0.45      0.53      0.48        74\n",
      "          51       1.00      1.00      1.00        42\n",
      "          52       0.87      0.93      0.90        58\n",
      "          53       0.72      0.83      0.77        92\n",
      "\n",
      "    accuracy                           0.79      4766\n",
      "   macro avg       0.80      0.79      0.79      4766\n",
      "weighted avg       0.79      0.79      0.79      4766\n",
      "\n"
     ]
    }
   ],
   "source": [
    "print(\"Accuracy score\",accuracy_score(btest,dpred))\n",
    "print(\"confusion matrix\",confusion_matrix(btest,dpred))\n",
    "print(\"Classification report\",classification_report(btest,dpred))"
   ]
  },
  {
   "cell_type": "code",
   "execution_count": 219,
   "id": "e138b6ab",
   "metadata": {},
   "outputs": [],
   "source": [
    "t=np.array([1.33,64236.62,1036.74,54454.85,48.16,8696.87,8603.62,93.25,0.0,0,2015])"
   ]
  },
  {
   "cell_type": "code",
   "execution_count": 220,
   "id": "b4c11d1d",
   "metadata": {},
   "outputs": [],
   "source": [
    "t=t.reshape(1,-1)"
   ]
  },
  {
   "cell_type": "code",
   "execution_count": 221,
   "id": "91a862a9",
   "metadata": {},
   "outputs": [
    {
     "data": {
      "text/plain": [
       "(1, 11)"
      ]
     },
     "execution_count": 221,
     "metadata": {},
     "output_type": "execute_result"
    }
   ],
   "source": [
    "t.shape"
   ]
  },
  {
   "cell_type": "code",
   "execution_count": 222,
   "id": "24e23830",
   "metadata": {},
   "outputs": [
    {
     "data": {
      "text/plain": [
       "array([6])"
      ]
     },
     "execution_count": 222,
     "metadata": {},
     "output_type": "execute_result"
    }
   ],
   "source": [
    "dtc.predict(t)"
   ]
  },
  {
   "cell_type": "markdown",
   "id": "c135d00d",
   "metadata": {},
   "source": [
    "The model is predicting the value of region perfectely\n",
    "\n",
    "hence the model is well trainied"
   ]
  },
  {
   "cell_type": "code",
   "execution_count": null,
   "id": "ba392fa3",
   "metadata": {},
   "outputs": [],
   "source": []
  }
 ],
 "metadata": {
  "kernelspec": {
   "display_name": "Python 3 (ipykernel)",
   "language": "python",
   "name": "python3"
  },
  "language_info": {
   "codemirror_mode": {
    "name": "ipython",
    "version": 3
   },
   "file_extension": ".py",
   "mimetype": "text/x-python",
   "name": "python",
   "nbconvert_exporter": "python",
   "pygments_lexer": "ipython3",
   "version": "3.9.13"
  }
 },
 "nbformat": 4,
 "nbformat_minor": 5
}
